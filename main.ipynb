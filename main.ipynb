{
 "cells": [
  {
   "cell_type": "code",
   "execution_count": 34,
   "metadata": {},
   "outputs": [
    {
     "data": {
      "application/vnd.plotly.v1+json": {
       "config": {
        "plotlyServerURL": "https://plot.ly"
       },
       "data": [
        {
         "customdata": [
          [
           "Schleuder- oder Selbstunfall",
           66314
          ],
          [
           "Schleuder- oder Selbstunfall",
           66314
          ],
          [
           "Schleuder- oder Selbstunfall",
           66314
          ],
          [
           "Schleuder- oder Selbstunfall",
           66314
          ],
          [
           "Schleuder- oder Selbstunfall",
           66314
          ],
          [
           "Schleuder- oder Selbstunfall",
           66314
          ],
          [
           "Schleuder- oder Selbstunfall",
           66314
          ],
          [
           "Schleuder- oder Selbstunfall",
           66314
          ],
          [
           "Schleuder- oder Selbstunfall",
           66314
          ],
          [
           "Schleuder- oder Selbstunfall",
           66314
          ],
          [
           "Schleuder- oder Selbstunfall",
           66314
          ],
          [
           "Schleuder- oder Selbstunfall",
           66314
          ],
          [
           "Schleuder- oder Selbstunfall",
           66314
          ],
          [
           "Schleuder- oder Selbstunfall",
           66314
          ],
          [
           "Schleuder- oder Selbstunfall",
           66314
          ],
          [
           "Schleuder- oder Selbstunfall",
           66314
          ],
          [
           "Schleuder- oder Selbstunfall",
           66314
          ],
          [
           "Schleuder- oder Selbstunfall",
           66314
          ],
          [
           "Schleuder- oder Selbstunfall",
           66314
          ],
          [
           "Schleuder- oder Selbstunfall",
           66314
          ],
          [
           "Schleuder- oder Selbstunfall",
           66314
          ],
          [
           "Schleuder- oder Selbstunfall",
           66314
          ],
          [
           "Schleuder- oder Selbstunfall",
           66314
          ],
          [
           "Schleuder- oder Selbstunfall",
           66314
          ],
          [
           "Schleuder- oder Selbstunfall",
           66314
          ],
          [
           "Schleuder- oder Selbstunfall",
           66314
          ],
          [
           "Schleuder- oder Selbstunfall",
           66314
          ],
          [
           "Schleuder- oder Selbstunfall",
           66314
          ],
          [
           "Schleuder- oder Selbstunfall",
           66314
          ],
          [
           "Schleuder- oder Selbstunfall",
           66314
          ],
          [
           "Schleuder- oder Selbstunfall",
           66314
          ],
          [
           "Schleuder- oder Selbstunfall",
           66314
          ],
          [
           "Schleuder- oder Selbstunfall",
           66314
          ],
          [
           "Schleuder- oder Selbstunfall",
           66314
          ],
          [
           "Schleuder- oder Selbstunfall",
           66314
          ],
          [
           "Schleuder- oder Selbstunfall",
           66314
          ],
          [
           "Schleuder- oder Selbstunfall",
           66314
          ],
          [
           "Schleuder- oder Selbstunfall",
           66314
          ],
          [
           "Schleuder- oder Selbstunfall",
           66314
          ],
          [
           "Schleuder- oder Selbstunfall",
           66314
          ],
          [
           "Schleuder- oder Selbstunfall",
           66314
          ],
          [
           "Schleuder- oder Selbstunfall",
           66314
          ],
          [
           "Schleuder- oder Selbstunfall",
           66314
          ],
          [
           "Schleuder- oder Selbstunfall",
           66314
          ],
          [
           "Schleuder- oder Selbstunfall",
           66314
          ],
          [
           "Schleuder- oder Selbstunfall",
           66314
          ],
          [
           "Schleuder- oder Selbstunfall",
           66314
          ],
          [
           "Schleuder- oder Selbstunfall",
           66314
          ],
          [
           "Schleuder- oder Selbstunfall",
           66314
          ],
          [
           "Schleuder- oder Selbstunfall",
           66314
          ],
          [
           "Schleuder- oder Selbstunfall",
           66314
          ],
          [
           "Schleuder- oder Selbstunfall",
           66314
          ],
          [
           "Schleuder- oder Selbstunfall",
           66314
          ],
          [
           "Schleuder- oder Selbstunfall",
           66314
          ],
          [
           "Schleuder- oder Selbstunfall",
           66314
          ],
          [
           "Schleuder- oder Selbstunfall",
           66314
          ],
          [
           "Schleuder- oder Selbstunfall",
           66314
          ],
          [
           "Schleuder- oder Selbstunfall",
           66314
          ],
          [
           "Schleuder- oder Selbstunfall",
           66314
          ],
          [
           "Schleuder- oder Selbstunfall",
           66314
          ],
          [
           "Schleuder- oder Selbstunfall",
           66314
          ],
          [
           "Schleuder- oder Selbstunfall",
           66314
          ],
          [
           "Schleuder- oder Selbstunfall",
           66314
          ],
          [
           "Schleuder- oder Selbstunfall",
           66314
          ],
          [
           "Schleuder- oder Selbstunfall",
           66314
          ],
          [
           "Schleuder- oder Selbstunfall",
           66314
          ],
          [
           "Schleuder- oder Selbstunfall",
           66314
          ],
          [
           "Schleuder- oder Selbstunfall",
           66314
          ],
          [
           "Schleuder- oder Selbstunfall",
           66314
          ],
          [
           "Schleuder- oder Selbstunfall",
           66314
          ],
          [
           "Schleuder- oder Selbstunfall",
           66314
          ],
          [
           "Schleuder- oder Selbstunfall",
           66314
          ],
          [
           "Schleuder- oder Selbstunfall",
           66314
          ],
          [
           "Schleuder- oder Selbstunfall",
           66314
          ],
          [
           "Schleuder- oder Selbstunfall",
           66314
          ],
          [
           "Schleuder- oder Selbstunfall",
           66314
          ],
          [
           "Schleuder- oder Selbstunfall",
           66314
          ],
          [
           "Schleuder- oder Selbstunfall",
           66314
          ],
          [
           "Schleuder- oder Selbstunfall",
           66314
          ],
          [
           "Schleuder- oder Selbstunfall",
           66314
          ],
          [
           "Schleuder- oder Selbstunfall",
           66314
          ],
          [
           "Schleuder- oder Selbstunfall",
           66314
          ],
          [
           "Schleuder- oder Selbstunfall",
           66314
          ],
          [
           "Schleuder- oder Selbstunfall",
           66314
          ],
          [
           "Schleuder- oder Selbstunfall",
           66314
          ],
          [
           "Schleuder- oder Selbstunfall",
           66314
          ],
          [
           "Schleuder- oder Selbstunfall",
           66314
          ],
          [
           "Schleuder- oder Selbstunfall",
           66314
          ],
          [
           "Schleuder- oder Selbstunfall",
           66314
          ],
          [
           "Schleuder- oder Selbstunfall",
           66314
          ],
          [
           "Schleuder- oder Selbstunfall",
           66314
          ],
          [
           "Schleuder- oder Selbstunfall",
           66314
          ],
          [
           "Schleuder- oder Selbstunfall",
           66314
          ],
          [
           "Schleuder- oder Selbstunfall",
           66314
          ],
          [
           "Schleuder- oder Selbstunfall",
           66314
          ],
          [
           "Schleuder- oder Selbstunfall",
           66314
          ],
          [
           "Schleuder- oder Selbstunfall",
           66314
          ],
          [
           "Schleuder- oder Selbstunfall",
           66314
          ],
          [
           "Schleuder- oder Selbstunfall",
           66314
          ],
          [
           "Schleuder- oder Selbstunfall",
           66314
          ],
          [
           "Schleuder- oder Selbstunfall",
           66314
          ],
          [
           "Schleuder- oder Selbstunfall",
           66314
          ],
          [
           "Schleuder- oder Selbstunfall",
           66314
          ],
          [
           "Schleuder- oder Selbstunfall",
           66314
          ],
          [
           "Schleuder- oder Selbstunfall",
           66314
          ],
          [
           "Schleuder- oder Selbstunfall",
           66314
          ],
          [
           "Schleuder- oder Selbstunfall",
           66314
          ],
          [
           "Schleuder- oder Selbstunfall",
           66314
          ],
          [
           "Schleuder- oder Selbstunfall",
           66314
          ],
          [
           "Schleuder- oder Selbstunfall",
           66314
          ],
          [
           "Schleuder- oder Selbstunfall",
           66314
          ],
          [
           "Schleuder- oder Selbstunfall",
           66314
          ],
          [
           "Schleuder- oder Selbstunfall",
           66314
          ],
          [
           "Schleuder- oder Selbstunfall",
           66314
          ],
          [
           "Schleuder- oder Selbstunfall",
           66314
          ],
          [
           "Schleuder- oder Selbstunfall",
           66314
          ],
          [
           "Schleuder- oder Selbstunfall",
           66314
          ],
          [
           "Schleuder- oder Selbstunfall",
           66314
          ],
          [
           "Schleuder- oder Selbstunfall",
           66314
          ],
          [
           "Schleuder- oder Selbstunfall",
           66314
          ],
          [
           "Schleuder- oder Selbstunfall",
           66314
          ],
          [
           "Schleuder- oder Selbstunfall",
           66314
          ],
          [
           "Schleuder- oder Selbstunfall",
           66314
          ],
          [
           "Schleuder- oder Selbstunfall",
           66314
          ],
          [
           "Schleuder- oder Selbstunfall",
           66314
          ],
          [
           "Schleuder- oder Selbstunfall",
           66314
          ],
          [
           "Schleuder- oder Selbstunfall",
           66314
          ],
          [
           "Schleuder- oder Selbstunfall",
           66314
          ],
          [
           "Schleuder- oder Selbstunfall",
           66314
          ],
          [
           "Schleuder- oder Selbstunfall",
           66314
          ],
          [
           "Schleuder- oder Selbstunfall",
           66314
          ],
          [
           "Schleuder- oder Selbstunfall",
           66314
          ],
          [
           "Schleuder- oder Selbstunfall",
           66314
          ],
          [
           "Schleuder- oder Selbstunfall",
           66314
          ],
          [
           "Schleuder- oder Selbstunfall",
           66314
          ],
          [
           "Schleuder- oder Selbstunfall",
           66314
          ],
          [
           "Schleuder- oder Selbstunfall",
           66314
          ],
          [
           "Schleuder- oder Selbstunfall",
           66314
          ],
          [
           "Schleuder- oder Selbstunfall",
           66314
          ],
          [
           "Schleuder- oder Selbstunfall",
           66314
          ],
          [
           "Schleuder- oder Selbstunfall",
           66314
          ],
          [
           "Schleuder- oder Selbstunfall",
           66314
          ],
          [
           "Schleuder- oder Selbstunfall",
           66314
          ],
          [
           "Schleuder- oder Selbstunfall",
           66314
          ],
          [
           "Schleuder- oder Selbstunfall",
           66314
          ],
          [
           "Schleuder- oder Selbstunfall",
           66314
          ],
          [
           "Schleuder- oder Selbstunfall",
           66314
          ],
          [
           "Schleuder- oder Selbstunfall",
           66314
          ],
          [
           "Schleuder- oder Selbstunfall",
           66314
          ],
          [
           "Schleuder- oder Selbstunfall",
           66314
          ],
          [
           "Schleuder- oder Selbstunfall",
           66314
          ],
          [
           "Schleuder- oder Selbstunfall",
           66314
          ],
          [
           "Schleuder- oder Selbstunfall",
           66314
          ],
          [
           "Schleuder- oder Selbstunfall",
           66314
          ],
          [
           "Schleuder- oder Selbstunfall",
           66314
          ],
          [
           "Schleuder- oder Selbstunfall",
           66314
          ]
         ],
         "fillpattern": {
          "shape": ""
         },
         "hoverlabel": {
          "bgcolor": "#1f77b4",
          "bordercolor": "black",
          "font": {
           "color": "black",
           "family": "Arial",
           "size": 12
          }
         },
         "hovertemplate": "AccidentType_de=%{customdata[0]}<br>Jahr=%{x}<br>Anzahl der Unfälle=%{y}<br>GesamtUnfälle=%{customdata[1]}<extra></extra>",
         "legendgroup": "Schleuder- oder Selbstunfall",
         "line": {
          "color": "#1f77b4",
          "dash": "solid",
          "shape": "spline",
          "width": 1
         },
         "marker": {
          "symbol": "circle"
         },
         "mode": "lines",
         "name": "Schleuder- oder Selbstunfall",
         "opacity": 0.6,
         "orientation": "v",
         "showlegend": true,
         "stackgroup": "1",
         "type": "scatter",
         "x": [
          "2011-01-01T00:00:00",
          "2011-02-01T00:00:00",
          "2011-03-01T00:00:00",
          "2011-04-01T00:00:00",
          "2011-05-01T00:00:00",
          "2011-06-01T00:00:00",
          "2011-07-01T00:00:00",
          "2011-08-01T00:00:00",
          "2011-09-01T00:00:00",
          "2011-10-01T00:00:00",
          "2011-11-01T00:00:00",
          "2011-12-01T00:00:00",
          "2012-01-01T00:00:00",
          "2012-02-01T00:00:00",
          "2012-03-01T00:00:00",
          "2012-04-01T00:00:00",
          "2012-05-01T00:00:00",
          "2012-06-01T00:00:00",
          "2012-07-01T00:00:00",
          "2012-08-01T00:00:00",
          "2012-09-01T00:00:00",
          "2012-10-01T00:00:00",
          "2012-11-01T00:00:00",
          "2012-12-01T00:00:00",
          "2013-01-01T00:00:00",
          "2013-02-01T00:00:00",
          "2013-03-01T00:00:00",
          "2013-04-01T00:00:00",
          "2013-05-01T00:00:00",
          "2013-06-01T00:00:00",
          "2013-07-01T00:00:00",
          "2013-08-01T00:00:00",
          "2013-09-01T00:00:00",
          "2013-10-01T00:00:00",
          "2013-11-01T00:00:00",
          "2013-12-01T00:00:00",
          "2014-01-01T00:00:00",
          "2014-02-01T00:00:00",
          "2014-03-01T00:00:00",
          "2014-04-01T00:00:00",
          "2014-05-01T00:00:00",
          "2014-06-01T00:00:00",
          "2014-07-01T00:00:00",
          "2014-08-01T00:00:00",
          "2014-09-01T00:00:00",
          "2014-10-01T00:00:00",
          "2014-11-01T00:00:00",
          "2014-12-01T00:00:00",
          "2015-01-01T00:00:00",
          "2015-02-01T00:00:00",
          "2015-03-01T00:00:00",
          "2015-04-01T00:00:00",
          "2015-05-01T00:00:00",
          "2015-06-01T00:00:00",
          "2015-07-01T00:00:00",
          "2015-08-01T00:00:00",
          "2015-09-01T00:00:00",
          "2015-10-01T00:00:00",
          "2015-11-01T00:00:00",
          "2015-12-01T00:00:00",
          "2016-01-01T00:00:00",
          "2016-02-01T00:00:00",
          "2016-03-01T00:00:00",
          "2016-04-01T00:00:00",
          "2016-05-01T00:00:00",
          "2016-06-01T00:00:00",
          "2016-07-01T00:00:00",
          "2016-08-01T00:00:00",
          "2016-09-01T00:00:00",
          "2016-10-01T00:00:00",
          "2016-11-01T00:00:00",
          "2016-12-01T00:00:00",
          "2017-01-01T00:00:00",
          "2017-02-01T00:00:00",
          "2017-03-01T00:00:00",
          "2017-04-01T00:00:00",
          "2017-05-01T00:00:00",
          "2017-06-01T00:00:00",
          "2017-07-01T00:00:00",
          "2017-08-01T00:00:00",
          "2017-09-01T00:00:00",
          "2017-10-01T00:00:00",
          "2017-11-01T00:00:00",
          "2017-12-01T00:00:00",
          "2018-01-01T00:00:00",
          "2018-02-01T00:00:00",
          "2018-03-01T00:00:00",
          "2018-04-01T00:00:00",
          "2018-05-01T00:00:00",
          "2018-06-01T00:00:00",
          "2018-07-01T00:00:00",
          "2018-08-01T00:00:00",
          "2018-09-01T00:00:00",
          "2018-10-01T00:00:00",
          "2018-11-01T00:00:00",
          "2018-12-01T00:00:00",
          "2019-01-01T00:00:00",
          "2019-02-01T00:00:00",
          "2019-03-01T00:00:00",
          "2019-04-01T00:00:00",
          "2019-05-01T00:00:00",
          "2019-06-01T00:00:00",
          "2019-07-01T00:00:00",
          "2019-08-01T00:00:00",
          "2019-09-01T00:00:00",
          "2019-10-01T00:00:00",
          "2019-11-01T00:00:00",
          "2019-12-01T00:00:00",
          "2020-01-01T00:00:00",
          "2020-02-01T00:00:00",
          "2020-03-01T00:00:00",
          "2020-04-01T00:00:00",
          "2020-05-01T00:00:00",
          "2020-06-01T00:00:00",
          "2020-07-01T00:00:00",
          "2020-08-01T00:00:00",
          "2020-09-01T00:00:00",
          "2020-10-01T00:00:00",
          "2020-11-01T00:00:00",
          "2020-12-01T00:00:00",
          "2021-01-01T00:00:00",
          "2021-02-01T00:00:00",
          "2021-03-01T00:00:00",
          "2021-04-01T00:00:00",
          "2021-05-01T00:00:00",
          "2021-06-01T00:00:00",
          "2021-07-01T00:00:00",
          "2021-08-01T00:00:00",
          "2021-09-01T00:00:00",
          "2021-10-01T00:00:00",
          "2021-11-01T00:00:00",
          "2021-12-01T00:00:00",
          "2022-01-01T00:00:00",
          "2022-02-01T00:00:00",
          "2022-03-01T00:00:00",
          "2022-04-01T00:00:00",
          "2022-05-01T00:00:00",
          "2022-06-01T00:00:00",
          "2022-07-01T00:00:00",
          "2022-08-01T00:00:00",
          "2022-09-01T00:00:00",
          "2022-10-01T00:00:00",
          "2022-11-01T00:00:00",
          "2022-12-01T00:00:00",
          "2023-01-01T00:00:00",
          "2023-02-01T00:00:00",
          "2023-03-01T00:00:00",
          "2023-04-01T00:00:00",
          "2023-05-01T00:00:00",
          "2023-06-01T00:00:00",
          "2023-07-01T00:00:00",
          "2023-08-01T00:00:00",
          "2023-09-01T00:00:00",
          "2023-10-01T00:00:00",
          "2023-11-01T00:00:00",
          "2023-12-01T00:00:00"
         ],
         "xaxis": "x",
         "y": [
          386,
          266,
          313,
          324,
          362,
          333,
          351,
          344,
          323,
          356,
          308,
          495,
          324,
          428,
          329,
          296,
          368,
          375,
          383,
          380,
          365,
          404,
          363,
          500,
          429,
          474,
          359,
          313,
          354,
          349,
          443,
          348,
          344,
          335,
          386,
          336,
          292,
          291,
          341,
          324,
          348,
          416,
          410,
          356,
          391,
          340,
          326,
          497,
          431,
          335,
          331,
          302,
          391,
          410,
          426,
          424,
          374,
          355,
          406,
          382,
          490,
          331,
          346,
          382,
          440,
          478,
          461,
          453,
          468,
          433,
          427,
          396,
          695,
          353,
          403,
          399,
          464,
          503,
          493,
          473,
          443,
          421,
          420,
          598,
          353,
          345,
          503,
          446,
          472,
          499,
          499,
          496,
          487,
          451,
          453,
          417,
          508,
          396,
          404,
          445,
          458,
          534,
          543,
          480,
          431,
          462,
          392,
          417,
          371,
          382,
          335,
          371,
          517,
          498,
          509,
          511,
          512,
          465,
          382,
          460,
          685,
          358,
          434,
          441,
          421,
          509,
          478,
          425,
          510,
          464,
          436,
          478,
          398,
          368,
          471,
          471,
          503,
          565,
          543,
          507,
          504,
          476,
          477,
          558,
          453,
          376,
          428,
          455,
          480,
          604,
          510,
          509,
          519,
          449,
          510,
          522
         ],
         "yaxis": "y"
        },
        {
         "customdata": [
          [
           "Auffahrunfall",
           37819
          ],
          [
           "Auffahrunfall",
           37819
          ],
          [
           "Auffahrunfall",
           37819
          ],
          [
           "Auffahrunfall",
           37819
          ],
          [
           "Auffahrunfall",
           37819
          ],
          [
           "Auffahrunfall",
           37819
          ],
          [
           "Auffahrunfall",
           37819
          ],
          [
           "Auffahrunfall",
           37819
          ],
          [
           "Auffahrunfall",
           37819
          ],
          [
           "Auffahrunfall",
           37819
          ],
          [
           "Auffahrunfall",
           37819
          ],
          [
           "Auffahrunfall",
           37819
          ],
          [
           "Auffahrunfall",
           37819
          ],
          [
           "Auffahrunfall",
           37819
          ],
          [
           "Auffahrunfall",
           37819
          ],
          [
           "Auffahrunfall",
           37819
          ],
          [
           "Auffahrunfall",
           37819
          ],
          [
           "Auffahrunfall",
           37819
          ],
          [
           "Auffahrunfall",
           37819
          ],
          [
           "Auffahrunfall",
           37819
          ],
          [
           "Auffahrunfall",
           37819
          ],
          [
           "Auffahrunfall",
           37819
          ],
          [
           "Auffahrunfall",
           37819
          ],
          [
           "Auffahrunfall",
           37819
          ],
          [
           "Auffahrunfall",
           37819
          ],
          [
           "Auffahrunfall",
           37819
          ],
          [
           "Auffahrunfall",
           37819
          ],
          [
           "Auffahrunfall",
           37819
          ],
          [
           "Auffahrunfall",
           37819
          ],
          [
           "Auffahrunfall",
           37819
          ],
          [
           "Auffahrunfall",
           37819
          ],
          [
           "Auffahrunfall",
           37819
          ],
          [
           "Auffahrunfall",
           37819
          ],
          [
           "Auffahrunfall",
           37819
          ],
          [
           "Auffahrunfall",
           37819
          ],
          [
           "Auffahrunfall",
           37819
          ],
          [
           "Auffahrunfall",
           37819
          ],
          [
           "Auffahrunfall",
           37819
          ],
          [
           "Auffahrunfall",
           37819
          ],
          [
           "Auffahrunfall",
           37819
          ],
          [
           "Auffahrunfall",
           37819
          ],
          [
           "Auffahrunfall",
           37819
          ],
          [
           "Auffahrunfall",
           37819
          ],
          [
           "Auffahrunfall",
           37819
          ],
          [
           "Auffahrunfall",
           37819
          ],
          [
           "Auffahrunfall",
           37819
          ],
          [
           "Auffahrunfall",
           37819
          ],
          [
           "Auffahrunfall",
           37819
          ],
          [
           "Auffahrunfall",
           37819
          ],
          [
           "Auffahrunfall",
           37819
          ],
          [
           "Auffahrunfall",
           37819
          ],
          [
           "Auffahrunfall",
           37819
          ],
          [
           "Auffahrunfall",
           37819
          ],
          [
           "Auffahrunfall",
           37819
          ],
          [
           "Auffahrunfall",
           37819
          ],
          [
           "Auffahrunfall",
           37819
          ],
          [
           "Auffahrunfall",
           37819
          ],
          [
           "Auffahrunfall",
           37819
          ],
          [
           "Auffahrunfall",
           37819
          ],
          [
           "Auffahrunfall",
           37819
          ],
          [
           "Auffahrunfall",
           37819
          ],
          [
           "Auffahrunfall",
           37819
          ],
          [
           "Auffahrunfall",
           37819
          ],
          [
           "Auffahrunfall",
           37819
          ],
          [
           "Auffahrunfall",
           37819
          ],
          [
           "Auffahrunfall",
           37819
          ],
          [
           "Auffahrunfall",
           37819
          ],
          [
           "Auffahrunfall",
           37819
          ],
          [
           "Auffahrunfall",
           37819
          ],
          [
           "Auffahrunfall",
           37819
          ],
          [
           "Auffahrunfall",
           37819
          ],
          [
           "Auffahrunfall",
           37819
          ],
          [
           "Auffahrunfall",
           37819
          ],
          [
           "Auffahrunfall",
           37819
          ],
          [
           "Auffahrunfall",
           37819
          ],
          [
           "Auffahrunfall",
           37819
          ],
          [
           "Auffahrunfall",
           37819
          ],
          [
           "Auffahrunfall",
           37819
          ],
          [
           "Auffahrunfall",
           37819
          ],
          [
           "Auffahrunfall",
           37819
          ],
          [
           "Auffahrunfall",
           37819
          ],
          [
           "Auffahrunfall",
           37819
          ],
          [
           "Auffahrunfall",
           37819
          ],
          [
           "Auffahrunfall",
           37819
          ],
          [
           "Auffahrunfall",
           37819
          ],
          [
           "Auffahrunfall",
           37819
          ],
          [
           "Auffahrunfall",
           37819
          ],
          [
           "Auffahrunfall",
           37819
          ],
          [
           "Auffahrunfall",
           37819
          ],
          [
           "Auffahrunfall",
           37819
          ],
          [
           "Auffahrunfall",
           37819
          ],
          [
           "Auffahrunfall",
           37819
          ],
          [
           "Auffahrunfall",
           37819
          ],
          [
           "Auffahrunfall",
           37819
          ],
          [
           "Auffahrunfall",
           37819
          ],
          [
           "Auffahrunfall",
           37819
          ],
          [
           "Auffahrunfall",
           37819
          ],
          [
           "Auffahrunfall",
           37819
          ],
          [
           "Auffahrunfall",
           37819
          ],
          [
           "Auffahrunfall",
           37819
          ],
          [
           "Auffahrunfall",
           37819
          ],
          [
           "Auffahrunfall",
           37819
          ],
          [
           "Auffahrunfall",
           37819
          ],
          [
           "Auffahrunfall",
           37819
          ],
          [
           "Auffahrunfall",
           37819
          ],
          [
           "Auffahrunfall",
           37819
          ],
          [
           "Auffahrunfall",
           37819
          ],
          [
           "Auffahrunfall",
           37819
          ],
          [
           "Auffahrunfall",
           37819
          ],
          [
           "Auffahrunfall",
           37819
          ],
          [
           "Auffahrunfall",
           37819
          ],
          [
           "Auffahrunfall",
           37819
          ],
          [
           "Auffahrunfall",
           37819
          ],
          [
           "Auffahrunfall",
           37819
          ],
          [
           "Auffahrunfall",
           37819
          ],
          [
           "Auffahrunfall",
           37819
          ],
          [
           "Auffahrunfall",
           37819
          ],
          [
           "Auffahrunfall",
           37819
          ],
          [
           "Auffahrunfall",
           37819
          ],
          [
           "Auffahrunfall",
           37819
          ],
          [
           "Auffahrunfall",
           37819
          ],
          [
           "Auffahrunfall",
           37819
          ],
          [
           "Auffahrunfall",
           37819
          ],
          [
           "Auffahrunfall",
           37819
          ],
          [
           "Auffahrunfall",
           37819
          ],
          [
           "Auffahrunfall",
           37819
          ],
          [
           "Auffahrunfall",
           37819
          ],
          [
           "Auffahrunfall",
           37819
          ],
          [
           "Auffahrunfall",
           37819
          ],
          [
           "Auffahrunfall",
           37819
          ],
          [
           "Auffahrunfall",
           37819
          ],
          [
           "Auffahrunfall",
           37819
          ],
          [
           "Auffahrunfall",
           37819
          ],
          [
           "Auffahrunfall",
           37819
          ],
          [
           "Auffahrunfall",
           37819
          ],
          [
           "Auffahrunfall",
           37819
          ],
          [
           "Auffahrunfall",
           37819
          ],
          [
           "Auffahrunfall",
           37819
          ],
          [
           "Auffahrunfall",
           37819
          ],
          [
           "Auffahrunfall",
           37819
          ],
          [
           "Auffahrunfall",
           37819
          ],
          [
           "Auffahrunfall",
           37819
          ],
          [
           "Auffahrunfall",
           37819
          ],
          [
           "Auffahrunfall",
           37819
          ],
          [
           "Auffahrunfall",
           37819
          ],
          [
           "Auffahrunfall",
           37819
          ],
          [
           "Auffahrunfall",
           37819
          ],
          [
           "Auffahrunfall",
           37819
          ],
          [
           "Auffahrunfall",
           37819
          ],
          [
           "Auffahrunfall",
           37819
          ],
          [
           "Auffahrunfall",
           37819
          ],
          [
           "Auffahrunfall",
           37819
          ],
          [
           "Auffahrunfall",
           37819
          ],
          [
           "Auffahrunfall",
           37819
          ],
          [
           "Auffahrunfall",
           37819
          ],
          [
           "Auffahrunfall",
           37819
          ]
         ],
         "fillpattern": {
          "shape": ""
         },
         "hoverlabel": {
          "bgcolor": "#1f77b4",
          "bordercolor": "black",
          "font": {
           "color": "black",
           "family": "Arial",
           "size": 12
          }
         },
         "hovertemplate": "AccidentType_de=%{customdata[0]}<br>Jahr=%{x}<br>Anzahl der Unfälle=%{y}<br>GesamtUnfälle=%{customdata[1]}<extra></extra>",
         "legendgroup": "Auffahrunfall",
         "line": {
          "color": "#ff7f0e",
          "dash": "solid",
          "shape": "spline",
          "width": 1
         },
         "marker": {
          "symbol": "circle"
         },
         "mode": "lines",
         "name": "Auffahrunfall",
         "opacity": 0.6,
         "orientation": "v",
         "showlegend": true,
         "stackgroup": "1",
         "type": "scatter",
         "x": [
          "2011-01-01T00:00:00",
          "2011-02-01T00:00:00",
          "2011-03-01T00:00:00",
          "2011-04-01T00:00:00",
          "2011-05-01T00:00:00",
          "2011-06-01T00:00:00",
          "2011-07-01T00:00:00",
          "2011-08-01T00:00:00",
          "2011-09-01T00:00:00",
          "2011-10-01T00:00:00",
          "2011-11-01T00:00:00",
          "2011-12-01T00:00:00",
          "2012-01-01T00:00:00",
          "2012-02-01T00:00:00",
          "2012-03-01T00:00:00",
          "2012-04-01T00:00:00",
          "2012-05-01T00:00:00",
          "2012-06-01T00:00:00",
          "2012-07-01T00:00:00",
          "2012-08-01T00:00:00",
          "2012-09-01T00:00:00",
          "2012-10-01T00:00:00",
          "2012-11-01T00:00:00",
          "2012-12-01T00:00:00",
          "2013-01-01T00:00:00",
          "2013-02-01T00:00:00",
          "2013-03-01T00:00:00",
          "2013-04-01T00:00:00",
          "2013-05-01T00:00:00",
          "2013-06-01T00:00:00",
          "2013-07-01T00:00:00",
          "2013-08-01T00:00:00",
          "2013-09-01T00:00:00",
          "2013-10-01T00:00:00",
          "2013-11-01T00:00:00",
          "2013-12-01T00:00:00",
          "2014-01-01T00:00:00",
          "2014-02-01T00:00:00",
          "2014-03-01T00:00:00",
          "2014-04-01T00:00:00",
          "2014-05-01T00:00:00",
          "2014-06-01T00:00:00",
          "2014-07-01T00:00:00",
          "2014-08-01T00:00:00",
          "2014-09-01T00:00:00",
          "2014-10-01T00:00:00",
          "2014-11-01T00:00:00",
          "2014-12-01T00:00:00",
          "2015-01-01T00:00:00",
          "2015-02-01T00:00:00",
          "2015-03-01T00:00:00",
          "2015-04-01T00:00:00",
          "2015-05-01T00:00:00",
          "2015-06-01T00:00:00",
          "2015-07-01T00:00:00",
          "2015-08-01T00:00:00",
          "2015-09-01T00:00:00",
          "2015-10-01T00:00:00",
          "2015-11-01T00:00:00",
          "2015-12-01T00:00:00",
          "2016-01-01T00:00:00",
          "2016-02-01T00:00:00",
          "2016-03-01T00:00:00",
          "2016-04-01T00:00:00",
          "2016-05-01T00:00:00",
          "2016-06-01T00:00:00",
          "2016-07-01T00:00:00",
          "2016-08-01T00:00:00",
          "2016-09-01T00:00:00",
          "2016-10-01T00:00:00",
          "2016-11-01T00:00:00",
          "2016-12-01T00:00:00",
          "2017-01-01T00:00:00",
          "2017-02-01T00:00:00",
          "2017-03-01T00:00:00",
          "2017-04-01T00:00:00",
          "2017-05-01T00:00:00",
          "2017-06-01T00:00:00",
          "2017-07-01T00:00:00",
          "2017-08-01T00:00:00",
          "2017-09-01T00:00:00",
          "2017-10-01T00:00:00",
          "2017-11-01T00:00:00",
          "2017-12-01T00:00:00",
          "2018-01-01T00:00:00",
          "2018-02-01T00:00:00",
          "2018-03-01T00:00:00",
          "2018-04-01T00:00:00",
          "2018-05-01T00:00:00",
          "2018-06-01T00:00:00",
          "2018-07-01T00:00:00",
          "2018-08-01T00:00:00",
          "2018-09-01T00:00:00",
          "2018-10-01T00:00:00",
          "2018-11-01T00:00:00",
          "2018-12-01T00:00:00",
          "2019-01-01T00:00:00",
          "2019-02-01T00:00:00",
          "2019-03-01T00:00:00",
          "2019-04-01T00:00:00",
          "2019-05-01T00:00:00",
          "2019-06-01T00:00:00",
          "2019-07-01T00:00:00",
          "2019-08-01T00:00:00",
          "2019-09-01T00:00:00",
          "2019-10-01T00:00:00",
          "2019-11-01T00:00:00",
          "2019-12-01T00:00:00",
          "2020-01-01T00:00:00",
          "2020-02-01T00:00:00",
          "2020-03-01T00:00:00",
          "2020-04-01T00:00:00",
          "2020-05-01T00:00:00",
          "2020-06-01T00:00:00",
          "2020-07-01T00:00:00",
          "2020-08-01T00:00:00",
          "2020-09-01T00:00:00",
          "2020-10-01T00:00:00",
          "2020-11-01T00:00:00",
          "2020-12-01T00:00:00",
          "2021-01-01T00:00:00",
          "2021-02-01T00:00:00",
          "2021-03-01T00:00:00",
          "2021-04-01T00:00:00",
          "2021-05-01T00:00:00",
          "2021-06-01T00:00:00",
          "2021-07-01T00:00:00",
          "2021-08-01T00:00:00",
          "2021-09-01T00:00:00",
          "2021-10-01T00:00:00",
          "2021-11-01T00:00:00",
          "2021-12-01T00:00:00",
          "2022-01-01T00:00:00",
          "2022-02-01T00:00:00",
          "2022-03-01T00:00:00",
          "2022-04-01T00:00:00",
          "2022-05-01T00:00:00",
          "2022-06-01T00:00:00",
          "2022-07-01T00:00:00",
          "2022-08-01T00:00:00",
          "2022-09-01T00:00:00",
          "2022-10-01T00:00:00",
          "2022-11-01T00:00:00",
          "2022-12-01T00:00:00",
          "2023-01-01T00:00:00",
          "2023-02-01T00:00:00",
          "2023-03-01T00:00:00",
          "2023-04-01T00:00:00",
          "2023-05-01T00:00:00",
          "2023-06-01T00:00:00",
          "2023-07-01T00:00:00",
          "2023-08-01T00:00:00",
          "2023-09-01T00:00:00",
          "2023-10-01T00:00:00",
          "2023-11-01T00:00:00",
          "2023-12-01T00:00:00"
         ],
         "xaxis": "x",
         "y": [
          194,
          169,
          247,
          253,
          302,
          223,
          218,
          216,
          251,
          228,
          252,
          212,
          168,
          216,
          257,
          228,
          224,
          237,
          171,
          222,
          214,
          244,
          224,
          226,
          160,
          185,
          237,
          234,
          239,
          232,
          229,
          237,
          244,
          245,
          237,
          213,
          182,
          211,
          264,
          229,
          233,
          257,
          236,
          215,
          237,
          238,
          225,
          218,
          183,
          193,
          277,
          239,
          237,
          229,
          254,
          262,
          261,
          292,
          320,
          245,
          230,
          230,
          287,
          299,
          312,
          328,
          271,
          264,
          320,
          317,
          314,
          257,
          247,
          221,
          371,
          272,
          280,
          275,
          283,
          282,
          281,
          314,
          329,
          233,
          223,
          194,
          310,
          299,
          263,
          289,
          247,
          256,
          280,
          294,
          306,
          241,
          212,
          214,
          271,
          253,
          269,
          302,
          231,
          226,
          286,
          283,
          294,
          233,
          219,
          243,
          147,
          123,
          220,
          249,
          270,
          245,
          261,
          222,
          201,
          195,
          164,
          152,
          228,
          230,
          228,
          247,
          214,
          210,
          328,
          255,
          264,
          207,
          192,
          205,
          276,
          248,
          266,
          250,
          213,
          213,
          252,
          291,
          270,
          229,
          205,
          171,
          250,
          241,
          264,
          271,
          165,
          190,
          226,
          249,
          261,
          181
         ],
         "yaxis": "y"
        },
        {
         "customdata": [
          [
           "Parkierunfall",
           33938
          ],
          [
           "Parkierunfall",
           33938
          ],
          [
           "Parkierunfall",
           33938
          ],
          [
           "Parkierunfall",
           33938
          ],
          [
           "Parkierunfall",
           33938
          ],
          [
           "Parkierunfall",
           33938
          ],
          [
           "Parkierunfall",
           33938
          ],
          [
           "Parkierunfall",
           33938
          ],
          [
           "Parkierunfall",
           33938
          ],
          [
           "Parkierunfall",
           33938
          ],
          [
           "Parkierunfall",
           33938
          ],
          [
           "Parkierunfall",
           33938
          ],
          [
           "Parkierunfall",
           33938
          ],
          [
           "Parkierunfall",
           33938
          ],
          [
           "Parkierunfall",
           33938
          ],
          [
           "Parkierunfall",
           33938
          ],
          [
           "Parkierunfall",
           33938
          ],
          [
           "Parkierunfall",
           33938
          ],
          [
           "Parkierunfall",
           33938
          ],
          [
           "Parkierunfall",
           33938
          ],
          [
           "Parkierunfall",
           33938
          ],
          [
           "Parkierunfall",
           33938
          ],
          [
           "Parkierunfall",
           33938
          ],
          [
           "Parkierunfall",
           33938
          ],
          [
           "Parkierunfall",
           33938
          ],
          [
           "Parkierunfall",
           33938
          ],
          [
           "Parkierunfall",
           33938
          ],
          [
           "Parkierunfall",
           33938
          ],
          [
           "Parkierunfall",
           33938
          ],
          [
           "Parkierunfall",
           33938
          ],
          [
           "Parkierunfall",
           33938
          ],
          [
           "Parkierunfall",
           33938
          ],
          [
           "Parkierunfall",
           33938
          ],
          [
           "Parkierunfall",
           33938
          ],
          [
           "Parkierunfall",
           33938
          ],
          [
           "Parkierunfall",
           33938
          ],
          [
           "Parkierunfall",
           33938
          ],
          [
           "Parkierunfall",
           33938
          ],
          [
           "Parkierunfall",
           33938
          ],
          [
           "Parkierunfall",
           33938
          ],
          [
           "Parkierunfall",
           33938
          ],
          [
           "Parkierunfall",
           33938
          ],
          [
           "Parkierunfall",
           33938
          ],
          [
           "Parkierunfall",
           33938
          ],
          [
           "Parkierunfall",
           33938
          ],
          [
           "Parkierunfall",
           33938
          ],
          [
           "Parkierunfall",
           33938
          ],
          [
           "Parkierunfall",
           33938
          ],
          [
           "Parkierunfall",
           33938
          ],
          [
           "Parkierunfall",
           33938
          ],
          [
           "Parkierunfall",
           33938
          ],
          [
           "Parkierunfall",
           33938
          ],
          [
           "Parkierunfall",
           33938
          ],
          [
           "Parkierunfall",
           33938
          ],
          [
           "Parkierunfall",
           33938
          ],
          [
           "Parkierunfall",
           33938
          ],
          [
           "Parkierunfall",
           33938
          ],
          [
           "Parkierunfall",
           33938
          ],
          [
           "Parkierunfall",
           33938
          ],
          [
           "Parkierunfall",
           33938
          ],
          [
           "Parkierunfall",
           33938
          ],
          [
           "Parkierunfall",
           33938
          ],
          [
           "Parkierunfall",
           33938
          ],
          [
           "Parkierunfall",
           33938
          ],
          [
           "Parkierunfall",
           33938
          ],
          [
           "Parkierunfall",
           33938
          ],
          [
           "Parkierunfall",
           33938
          ],
          [
           "Parkierunfall",
           33938
          ],
          [
           "Parkierunfall",
           33938
          ],
          [
           "Parkierunfall",
           33938
          ],
          [
           "Parkierunfall",
           33938
          ],
          [
           "Parkierunfall",
           33938
          ],
          [
           "Parkierunfall",
           33938
          ],
          [
           "Parkierunfall",
           33938
          ],
          [
           "Parkierunfall",
           33938
          ],
          [
           "Parkierunfall",
           33938
          ],
          [
           "Parkierunfall",
           33938
          ],
          [
           "Parkierunfall",
           33938
          ],
          [
           "Parkierunfall",
           33938
          ],
          [
           "Parkierunfall",
           33938
          ],
          [
           "Parkierunfall",
           33938
          ],
          [
           "Parkierunfall",
           33938
          ],
          [
           "Parkierunfall",
           33938
          ],
          [
           "Parkierunfall",
           33938
          ],
          [
           "Parkierunfall",
           33938
          ],
          [
           "Parkierunfall",
           33938
          ],
          [
           "Parkierunfall",
           33938
          ],
          [
           "Parkierunfall",
           33938
          ],
          [
           "Parkierunfall",
           33938
          ],
          [
           "Parkierunfall",
           33938
          ],
          [
           "Parkierunfall",
           33938
          ],
          [
           "Parkierunfall",
           33938
          ],
          [
           "Parkierunfall",
           33938
          ],
          [
           "Parkierunfall",
           33938
          ],
          [
           "Parkierunfall",
           33938
          ],
          [
           "Parkierunfall",
           33938
          ],
          [
           "Parkierunfall",
           33938
          ],
          [
           "Parkierunfall",
           33938
          ],
          [
           "Parkierunfall",
           33938
          ],
          [
           "Parkierunfall",
           33938
          ],
          [
           "Parkierunfall",
           33938
          ],
          [
           "Parkierunfall",
           33938
          ],
          [
           "Parkierunfall",
           33938
          ],
          [
           "Parkierunfall",
           33938
          ],
          [
           "Parkierunfall",
           33938
          ],
          [
           "Parkierunfall",
           33938
          ],
          [
           "Parkierunfall",
           33938
          ],
          [
           "Parkierunfall",
           33938
          ],
          [
           "Parkierunfall",
           33938
          ],
          [
           "Parkierunfall",
           33938
          ],
          [
           "Parkierunfall",
           33938
          ],
          [
           "Parkierunfall",
           33938
          ],
          [
           "Parkierunfall",
           33938
          ],
          [
           "Parkierunfall",
           33938
          ],
          [
           "Parkierunfall",
           33938
          ],
          [
           "Parkierunfall",
           33938
          ],
          [
           "Parkierunfall",
           33938
          ],
          [
           "Parkierunfall",
           33938
          ],
          [
           "Parkierunfall",
           33938
          ],
          [
           "Parkierunfall",
           33938
          ],
          [
           "Parkierunfall",
           33938
          ],
          [
           "Parkierunfall",
           33938
          ],
          [
           "Parkierunfall",
           33938
          ],
          [
           "Parkierunfall",
           33938
          ],
          [
           "Parkierunfall",
           33938
          ],
          [
           "Parkierunfall",
           33938
          ],
          [
           "Parkierunfall",
           33938
          ],
          [
           "Parkierunfall",
           33938
          ],
          [
           "Parkierunfall",
           33938
          ],
          [
           "Parkierunfall",
           33938
          ],
          [
           "Parkierunfall",
           33938
          ],
          [
           "Parkierunfall",
           33938
          ],
          [
           "Parkierunfall",
           33938
          ],
          [
           "Parkierunfall",
           33938
          ],
          [
           "Parkierunfall",
           33938
          ],
          [
           "Parkierunfall",
           33938
          ],
          [
           "Parkierunfall",
           33938
          ],
          [
           "Parkierunfall",
           33938
          ],
          [
           "Parkierunfall",
           33938
          ],
          [
           "Parkierunfall",
           33938
          ],
          [
           "Parkierunfall",
           33938
          ],
          [
           "Parkierunfall",
           33938
          ],
          [
           "Parkierunfall",
           33938
          ],
          [
           "Parkierunfall",
           33938
          ],
          [
           "Parkierunfall",
           33938
          ],
          [
           "Parkierunfall",
           33938
          ],
          [
           "Parkierunfall",
           33938
          ],
          [
           "Parkierunfall",
           33938
          ],
          [
           "Parkierunfall",
           33938
          ],
          [
           "Parkierunfall",
           33938
          ],
          [
           "Parkierunfall",
           33938
          ],
          [
           "Parkierunfall",
           33938
          ],
          [
           "Parkierunfall",
           33938
          ],
          [
           "Parkierunfall",
           33938
          ],
          [
           "Parkierunfall",
           33938
          ],
          [
           "Parkierunfall",
           33938
          ]
         ],
         "fillpattern": {
          "shape": ""
         },
         "hoverlabel": {
          "bgcolor": "#1f77b4",
          "bordercolor": "black",
          "font": {
           "color": "black",
           "family": "Arial",
           "size": 12
          }
         },
         "hovertemplate": "AccidentType_de=%{customdata[0]}<br>Jahr=%{x}<br>Anzahl der Unfälle=%{y}<br>GesamtUnfälle=%{customdata[1]}<extra></extra>",
         "legendgroup": "Parkierunfall",
         "line": {
          "color": "#2ca02c",
          "dash": "solid",
          "shape": "spline",
          "width": 1
         },
         "marker": {
          "symbol": "circle"
         },
         "mode": "lines",
         "name": "Parkierunfall",
         "opacity": 0.6,
         "orientation": "v",
         "showlegend": true,
         "stackgroup": "1",
         "type": "scatter",
         "x": [
          "2011-01-01T00:00:00",
          "2011-02-01T00:00:00",
          "2011-03-01T00:00:00",
          "2011-04-01T00:00:00",
          "2011-05-01T00:00:00",
          "2011-06-01T00:00:00",
          "2011-07-01T00:00:00",
          "2011-08-01T00:00:00",
          "2011-09-01T00:00:00",
          "2011-10-01T00:00:00",
          "2011-11-01T00:00:00",
          "2011-12-01T00:00:00",
          "2012-01-01T00:00:00",
          "2012-02-01T00:00:00",
          "2012-03-01T00:00:00",
          "2012-04-01T00:00:00",
          "2012-05-01T00:00:00",
          "2012-06-01T00:00:00",
          "2012-07-01T00:00:00",
          "2012-08-01T00:00:00",
          "2012-09-01T00:00:00",
          "2012-10-01T00:00:00",
          "2012-11-01T00:00:00",
          "2012-12-01T00:00:00",
          "2013-01-01T00:00:00",
          "2013-02-01T00:00:00",
          "2013-03-01T00:00:00",
          "2013-04-01T00:00:00",
          "2013-05-01T00:00:00",
          "2013-06-01T00:00:00",
          "2013-07-01T00:00:00",
          "2013-08-01T00:00:00",
          "2013-09-01T00:00:00",
          "2013-10-01T00:00:00",
          "2013-11-01T00:00:00",
          "2013-12-01T00:00:00",
          "2014-01-01T00:00:00",
          "2014-02-01T00:00:00",
          "2014-03-01T00:00:00",
          "2014-04-01T00:00:00",
          "2014-05-01T00:00:00",
          "2014-06-01T00:00:00",
          "2014-07-01T00:00:00",
          "2014-08-01T00:00:00",
          "2014-09-01T00:00:00",
          "2014-10-01T00:00:00",
          "2014-11-01T00:00:00",
          "2014-12-01T00:00:00",
          "2015-01-01T00:00:00",
          "2015-02-01T00:00:00",
          "2015-03-01T00:00:00",
          "2015-04-01T00:00:00",
          "2015-05-01T00:00:00",
          "2015-06-01T00:00:00",
          "2015-07-01T00:00:00",
          "2015-08-01T00:00:00",
          "2015-09-01T00:00:00",
          "2015-10-01T00:00:00",
          "2015-11-01T00:00:00",
          "2015-12-01T00:00:00",
          "2016-01-01T00:00:00",
          "2016-02-01T00:00:00",
          "2016-03-01T00:00:00",
          "2016-04-01T00:00:00",
          "2016-05-01T00:00:00",
          "2016-06-01T00:00:00",
          "2016-07-01T00:00:00",
          "2016-08-01T00:00:00",
          "2016-09-01T00:00:00",
          "2016-10-01T00:00:00",
          "2016-11-01T00:00:00",
          "2016-12-01T00:00:00",
          "2017-01-01T00:00:00",
          "2017-02-01T00:00:00",
          "2017-03-01T00:00:00",
          "2017-04-01T00:00:00",
          "2017-05-01T00:00:00",
          "2017-06-01T00:00:00",
          "2017-07-01T00:00:00",
          "2017-08-01T00:00:00",
          "2017-09-01T00:00:00",
          "2017-10-01T00:00:00",
          "2017-11-01T00:00:00",
          "2017-12-01T00:00:00",
          "2018-01-01T00:00:00",
          "2018-02-01T00:00:00",
          "2018-03-01T00:00:00",
          "2018-04-01T00:00:00",
          "2018-05-01T00:00:00",
          "2018-06-01T00:00:00",
          "2018-07-01T00:00:00",
          "2018-08-01T00:00:00",
          "2018-09-01T00:00:00",
          "2018-10-01T00:00:00",
          "2018-11-01T00:00:00",
          "2018-12-01T00:00:00",
          "2019-01-01T00:00:00",
          "2019-02-01T00:00:00",
          "2019-03-01T00:00:00",
          "2019-04-01T00:00:00",
          "2019-05-01T00:00:00",
          "2019-06-01T00:00:00",
          "2019-07-01T00:00:00",
          "2019-08-01T00:00:00",
          "2019-09-01T00:00:00",
          "2019-10-01T00:00:00",
          "2019-11-01T00:00:00",
          "2019-12-01T00:00:00",
          "2020-01-01T00:00:00",
          "2020-02-01T00:00:00",
          "2020-03-01T00:00:00",
          "2020-04-01T00:00:00",
          "2020-05-01T00:00:00",
          "2020-06-01T00:00:00",
          "2020-07-01T00:00:00",
          "2020-08-01T00:00:00",
          "2020-09-01T00:00:00",
          "2020-10-01T00:00:00",
          "2020-11-01T00:00:00",
          "2020-12-01T00:00:00",
          "2021-01-01T00:00:00",
          "2021-02-01T00:00:00",
          "2021-03-01T00:00:00",
          "2021-04-01T00:00:00",
          "2021-05-01T00:00:00",
          "2021-06-01T00:00:00",
          "2021-07-01T00:00:00",
          "2021-08-01T00:00:00",
          "2021-09-01T00:00:00",
          "2021-10-01T00:00:00",
          "2021-11-01T00:00:00",
          "2021-12-01T00:00:00",
          "2022-01-01T00:00:00",
          "2022-02-01T00:00:00",
          "2022-03-01T00:00:00",
          "2022-04-01T00:00:00",
          "2022-05-01T00:00:00",
          "2022-06-01T00:00:00",
          "2022-07-01T00:00:00",
          "2022-08-01T00:00:00",
          "2022-09-01T00:00:00",
          "2022-10-01T00:00:00",
          "2022-11-01T00:00:00",
          "2022-12-01T00:00:00",
          "2023-01-01T00:00:00",
          "2023-02-01T00:00:00",
          "2023-03-01T00:00:00",
          "2023-04-01T00:00:00",
          "2023-05-01T00:00:00",
          "2023-06-01T00:00:00",
          "2023-07-01T00:00:00",
          "2023-08-01T00:00:00",
          "2023-09-01T00:00:00",
          "2023-10-01T00:00:00",
          "2023-11-01T00:00:00",
          "2023-12-01T00:00:00"
         ],
         "xaxis": "x",
         "y": [
          150,
          162,
          193,
          193,
          213,
          218,
          177,
          198,
          186,
          176,
          184,
          174,
          150,
          166,
          216,
          181,
          195,
          213,
          182,
          211,
          193,
          185,
          185,
          179,
          163,
          149,
          218,
          192,
          218,
          226,
          216,
          174,
          176,
          189,
          204,
          190,
          149,
          174,
          202,
          158,
          180,
          213,
          183,
          175,
          176,
          195,
          156,
          168,
          164,
          172,
          190,
          197,
          216,
          212,
          231,
          209,
          256,
          238,
          201,
          207,
          232,
          221,
          224,
          259,
          263,
          276,
          235,
          255,
          246,
          234,
          235,
          189,
          194,
          208,
          256,
          197,
          229,
          265,
          219,
          234,
          245,
          253,
          247,
          220,
          222,
          193,
          268,
          261,
          258,
          278,
          263,
          258,
          265,
          268,
          227,
          233,
          208,
          229,
          258,
          235,
          235,
          293,
          264,
          237,
          255,
          238,
          245,
          234,
          203,
          205,
          177,
          150,
          189,
          255,
          247,
          257,
          227,
          256,
          204,
          235,
          198,
          153,
          221,
          233,
          207,
          292,
          249,
          223,
          256,
          225,
          255,
          240,
          180,
          198,
          243,
          258,
          259,
          281,
          254,
          245,
          233,
          231,
          230,
          189,
          212,
          222,
          230,
          219,
          248,
          285,
          254,
          249,
          245,
          196,
          217,
          225
         ],
         "yaxis": "y"
        },
        {
         "customdata": [
          [
           "Einbiegeunfall",
           13631
          ],
          [
           "Einbiegeunfall",
           13631
          ],
          [
           "Einbiegeunfall",
           13631
          ],
          [
           "Einbiegeunfall",
           13631
          ],
          [
           "Einbiegeunfall",
           13631
          ],
          [
           "Einbiegeunfall",
           13631
          ],
          [
           "Einbiegeunfall",
           13631
          ],
          [
           "Einbiegeunfall",
           13631
          ],
          [
           "Einbiegeunfall",
           13631
          ],
          [
           "Einbiegeunfall",
           13631
          ],
          [
           "Einbiegeunfall",
           13631
          ],
          [
           "Einbiegeunfall",
           13631
          ],
          [
           "Einbiegeunfall",
           13631
          ],
          [
           "Einbiegeunfall",
           13631
          ],
          [
           "Einbiegeunfall",
           13631
          ],
          [
           "Einbiegeunfall",
           13631
          ],
          [
           "Einbiegeunfall",
           13631
          ],
          [
           "Einbiegeunfall",
           13631
          ],
          [
           "Einbiegeunfall",
           13631
          ],
          [
           "Einbiegeunfall",
           13631
          ],
          [
           "Einbiegeunfall",
           13631
          ],
          [
           "Einbiegeunfall",
           13631
          ],
          [
           "Einbiegeunfall",
           13631
          ],
          [
           "Einbiegeunfall",
           13631
          ],
          [
           "Einbiegeunfall",
           13631
          ],
          [
           "Einbiegeunfall",
           13631
          ],
          [
           "Einbiegeunfall",
           13631
          ],
          [
           "Einbiegeunfall",
           13631
          ],
          [
           "Einbiegeunfall",
           13631
          ],
          [
           "Einbiegeunfall",
           13631
          ],
          [
           "Einbiegeunfall",
           13631
          ],
          [
           "Einbiegeunfall",
           13631
          ],
          [
           "Einbiegeunfall",
           13631
          ],
          [
           "Einbiegeunfall",
           13631
          ],
          [
           "Einbiegeunfall",
           13631
          ],
          [
           "Einbiegeunfall",
           13631
          ],
          [
           "Einbiegeunfall",
           13631
          ],
          [
           "Einbiegeunfall",
           13631
          ],
          [
           "Einbiegeunfall",
           13631
          ],
          [
           "Einbiegeunfall",
           13631
          ],
          [
           "Einbiegeunfall",
           13631
          ],
          [
           "Einbiegeunfall",
           13631
          ],
          [
           "Einbiegeunfall",
           13631
          ],
          [
           "Einbiegeunfall",
           13631
          ],
          [
           "Einbiegeunfall",
           13631
          ],
          [
           "Einbiegeunfall",
           13631
          ],
          [
           "Einbiegeunfall",
           13631
          ],
          [
           "Einbiegeunfall",
           13631
          ],
          [
           "Einbiegeunfall",
           13631
          ],
          [
           "Einbiegeunfall",
           13631
          ],
          [
           "Einbiegeunfall",
           13631
          ],
          [
           "Einbiegeunfall",
           13631
          ],
          [
           "Einbiegeunfall",
           13631
          ],
          [
           "Einbiegeunfall",
           13631
          ],
          [
           "Einbiegeunfall",
           13631
          ],
          [
           "Einbiegeunfall",
           13631
          ],
          [
           "Einbiegeunfall",
           13631
          ],
          [
           "Einbiegeunfall",
           13631
          ],
          [
           "Einbiegeunfall",
           13631
          ],
          [
           "Einbiegeunfall",
           13631
          ],
          [
           "Einbiegeunfall",
           13631
          ],
          [
           "Einbiegeunfall",
           13631
          ],
          [
           "Einbiegeunfall",
           13631
          ],
          [
           "Einbiegeunfall",
           13631
          ],
          [
           "Einbiegeunfall",
           13631
          ],
          [
           "Einbiegeunfall",
           13631
          ],
          [
           "Einbiegeunfall",
           13631
          ],
          [
           "Einbiegeunfall",
           13631
          ],
          [
           "Einbiegeunfall",
           13631
          ],
          [
           "Einbiegeunfall",
           13631
          ],
          [
           "Einbiegeunfall",
           13631
          ],
          [
           "Einbiegeunfall",
           13631
          ],
          [
           "Einbiegeunfall",
           13631
          ],
          [
           "Einbiegeunfall",
           13631
          ],
          [
           "Einbiegeunfall",
           13631
          ],
          [
           "Einbiegeunfall",
           13631
          ],
          [
           "Einbiegeunfall",
           13631
          ],
          [
           "Einbiegeunfall",
           13631
          ],
          [
           "Einbiegeunfall",
           13631
          ],
          [
           "Einbiegeunfall",
           13631
          ],
          [
           "Einbiegeunfall",
           13631
          ],
          [
           "Einbiegeunfall",
           13631
          ],
          [
           "Einbiegeunfall",
           13631
          ],
          [
           "Einbiegeunfall",
           13631
          ],
          [
           "Einbiegeunfall",
           13631
          ],
          [
           "Einbiegeunfall",
           13631
          ],
          [
           "Einbiegeunfall",
           13631
          ],
          [
           "Einbiegeunfall",
           13631
          ],
          [
           "Einbiegeunfall",
           13631
          ],
          [
           "Einbiegeunfall",
           13631
          ],
          [
           "Einbiegeunfall",
           13631
          ],
          [
           "Einbiegeunfall",
           13631
          ],
          [
           "Einbiegeunfall",
           13631
          ],
          [
           "Einbiegeunfall",
           13631
          ],
          [
           "Einbiegeunfall",
           13631
          ],
          [
           "Einbiegeunfall",
           13631
          ],
          [
           "Einbiegeunfall",
           13631
          ],
          [
           "Einbiegeunfall",
           13631
          ],
          [
           "Einbiegeunfall",
           13631
          ],
          [
           "Einbiegeunfall",
           13631
          ],
          [
           "Einbiegeunfall",
           13631
          ],
          [
           "Einbiegeunfall",
           13631
          ],
          [
           "Einbiegeunfall",
           13631
          ],
          [
           "Einbiegeunfall",
           13631
          ],
          [
           "Einbiegeunfall",
           13631
          ],
          [
           "Einbiegeunfall",
           13631
          ],
          [
           "Einbiegeunfall",
           13631
          ],
          [
           "Einbiegeunfall",
           13631
          ],
          [
           "Einbiegeunfall",
           13631
          ],
          [
           "Einbiegeunfall",
           13631
          ],
          [
           "Einbiegeunfall",
           13631
          ],
          [
           "Einbiegeunfall",
           13631
          ],
          [
           "Einbiegeunfall",
           13631
          ],
          [
           "Einbiegeunfall",
           13631
          ],
          [
           "Einbiegeunfall",
           13631
          ],
          [
           "Einbiegeunfall",
           13631
          ],
          [
           "Einbiegeunfall",
           13631
          ],
          [
           "Einbiegeunfall",
           13631
          ],
          [
           "Einbiegeunfall",
           13631
          ],
          [
           "Einbiegeunfall",
           13631
          ],
          [
           "Einbiegeunfall",
           13631
          ],
          [
           "Einbiegeunfall",
           13631
          ],
          [
           "Einbiegeunfall",
           13631
          ],
          [
           "Einbiegeunfall",
           13631
          ],
          [
           "Einbiegeunfall",
           13631
          ],
          [
           "Einbiegeunfall",
           13631
          ],
          [
           "Einbiegeunfall",
           13631
          ],
          [
           "Einbiegeunfall",
           13631
          ],
          [
           "Einbiegeunfall",
           13631
          ],
          [
           "Einbiegeunfall",
           13631
          ],
          [
           "Einbiegeunfall",
           13631
          ],
          [
           "Einbiegeunfall",
           13631
          ],
          [
           "Einbiegeunfall",
           13631
          ],
          [
           "Einbiegeunfall",
           13631
          ],
          [
           "Einbiegeunfall",
           13631
          ],
          [
           "Einbiegeunfall",
           13631
          ],
          [
           "Einbiegeunfall",
           13631
          ],
          [
           "Einbiegeunfall",
           13631
          ],
          [
           "Einbiegeunfall",
           13631
          ],
          [
           "Einbiegeunfall",
           13631
          ],
          [
           "Einbiegeunfall",
           13631
          ],
          [
           "Einbiegeunfall",
           13631
          ],
          [
           "Einbiegeunfall",
           13631
          ],
          [
           "Einbiegeunfall",
           13631
          ],
          [
           "Einbiegeunfall",
           13631
          ],
          [
           "Einbiegeunfall",
           13631
          ],
          [
           "Einbiegeunfall",
           13631
          ],
          [
           "Einbiegeunfall",
           13631
          ],
          [
           "Einbiegeunfall",
           13631
          ],
          [
           "Einbiegeunfall",
           13631
          ],
          [
           "Einbiegeunfall",
           13631
          ],
          [
           "Einbiegeunfall",
           13631
          ],
          [
           "Einbiegeunfall",
           13631
          ],
          [
           "Einbiegeunfall",
           13631
          ],
          [
           "Einbiegeunfall",
           13631
          ],
          [
           "Einbiegeunfall",
           13631
          ]
         ],
         "fillpattern": {
          "shape": ""
         },
         "hoverlabel": {
          "bgcolor": "#1f77b4",
          "bordercolor": "black",
          "font": {
           "color": "black",
           "family": "Arial",
           "size": 12
          }
         },
         "hovertemplate": "AccidentType_de=%{customdata[0]}<br>Jahr=%{x}<br>Anzahl der Unfälle=%{y}<br>GesamtUnfälle=%{customdata[1]}<extra></extra>",
         "legendgroup": "Einbiegeunfall",
         "line": {
          "color": "#d62728",
          "dash": "solid",
          "shape": "spline",
          "width": 1
         },
         "marker": {
          "symbol": "circle"
         },
         "mode": "lines",
         "name": "Einbiegeunfall",
         "opacity": 0.6,
         "orientation": "v",
         "showlegend": true,
         "stackgroup": "1",
         "type": "scatter",
         "x": [
          "2011-01-01T00:00:00",
          "2011-02-01T00:00:00",
          "2011-03-01T00:00:00",
          "2011-04-01T00:00:00",
          "2011-05-01T00:00:00",
          "2011-06-01T00:00:00",
          "2011-07-01T00:00:00",
          "2011-08-01T00:00:00",
          "2011-09-01T00:00:00",
          "2011-10-01T00:00:00",
          "2011-11-01T00:00:00",
          "2011-12-01T00:00:00",
          "2012-01-01T00:00:00",
          "2012-02-01T00:00:00",
          "2012-03-01T00:00:00",
          "2012-04-01T00:00:00",
          "2012-05-01T00:00:00",
          "2012-06-01T00:00:00",
          "2012-07-01T00:00:00",
          "2012-08-01T00:00:00",
          "2012-09-01T00:00:00",
          "2012-10-01T00:00:00",
          "2012-11-01T00:00:00",
          "2012-12-01T00:00:00",
          "2013-01-01T00:00:00",
          "2013-02-01T00:00:00",
          "2013-03-01T00:00:00",
          "2013-04-01T00:00:00",
          "2013-05-01T00:00:00",
          "2013-06-01T00:00:00",
          "2013-07-01T00:00:00",
          "2013-08-01T00:00:00",
          "2013-09-01T00:00:00",
          "2013-10-01T00:00:00",
          "2013-11-01T00:00:00",
          "2013-12-01T00:00:00",
          "2014-01-01T00:00:00",
          "2014-02-01T00:00:00",
          "2014-03-01T00:00:00",
          "2014-04-01T00:00:00",
          "2014-05-01T00:00:00",
          "2014-06-01T00:00:00",
          "2014-07-01T00:00:00",
          "2014-08-01T00:00:00",
          "2014-09-01T00:00:00",
          "2014-10-01T00:00:00",
          "2014-11-01T00:00:00",
          "2014-12-01T00:00:00",
          "2015-01-01T00:00:00",
          "2015-02-01T00:00:00",
          "2015-03-01T00:00:00",
          "2015-04-01T00:00:00",
          "2015-05-01T00:00:00",
          "2015-06-01T00:00:00",
          "2015-07-01T00:00:00",
          "2015-08-01T00:00:00",
          "2015-09-01T00:00:00",
          "2015-10-01T00:00:00",
          "2015-11-01T00:00:00",
          "2015-12-01T00:00:00",
          "2016-01-01T00:00:00",
          "2016-02-01T00:00:00",
          "2016-03-01T00:00:00",
          "2016-04-01T00:00:00",
          "2016-05-01T00:00:00",
          "2016-06-01T00:00:00",
          "2016-07-01T00:00:00",
          "2016-08-01T00:00:00",
          "2016-09-01T00:00:00",
          "2016-10-01T00:00:00",
          "2016-11-01T00:00:00",
          "2016-12-01T00:00:00",
          "2017-01-01T00:00:00",
          "2017-02-01T00:00:00",
          "2017-03-01T00:00:00",
          "2017-04-01T00:00:00",
          "2017-05-01T00:00:00",
          "2017-06-01T00:00:00",
          "2017-07-01T00:00:00",
          "2017-08-01T00:00:00",
          "2017-09-01T00:00:00",
          "2017-10-01T00:00:00",
          "2017-11-01T00:00:00",
          "2017-12-01T00:00:00",
          "2018-01-01T00:00:00",
          "2018-02-01T00:00:00",
          "2018-03-01T00:00:00",
          "2018-04-01T00:00:00",
          "2018-05-01T00:00:00",
          "2018-06-01T00:00:00",
          "2018-07-01T00:00:00",
          "2018-08-01T00:00:00",
          "2018-09-01T00:00:00",
          "2018-10-01T00:00:00",
          "2018-11-01T00:00:00",
          "2018-12-01T00:00:00",
          "2019-01-01T00:00:00",
          "2019-02-01T00:00:00",
          "2019-03-01T00:00:00",
          "2019-04-01T00:00:00",
          "2019-05-01T00:00:00",
          "2019-06-01T00:00:00",
          "2019-07-01T00:00:00",
          "2019-08-01T00:00:00",
          "2019-09-01T00:00:00",
          "2019-10-01T00:00:00",
          "2019-11-01T00:00:00",
          "2019-12-01T00:00:00",
          "2020-01-01T00:00:00",
          "2020-02-01T00:00:00",
          "2020-03-01T00:00:00",
          "2020-04-01T00:00:00",
          "2020-05-01T00:00:00",
          "2020-06-01T00:00:00",
          "2020-07-01T00:00:00",
          "2020-08-01T00:00:00",
          "2020-09-01T00:00:00",
          "2020-10-01T00:00:00",
          "2020-11-01T00:00:00",
          "2020-12-01T00:00:00",
          "2021-01-01T00:00:00",
          "2021-02-01T00:00:00",
          "2021-03-01T00:00:00",
          "2021-04-01T00:00:00",
          "2021-05-01T00:00:00",
          "2021-06-01T00:00:00",
          "2021-07-01T00:00:00",
          "2021-08-01T00:00:00",
          "2021-09-01T00:00:00",
          "2021-10-01T00:00:00",
          "2021-11-01T00:00:00",
          "2021-12-01T00:00:00",
          "2022-01-01T00:00:00",
          "2022-02-01T00:00:00",
          "2022-03-01T00:00:00",
          "2022-04-01T00:00:00",
          "2022-05-01T00:00:00",
          "2022-06-01T00:00:00",
          "2022-07-01T00:00:00",
          "2022-08-01T00:00:00",
          "2022-09-01T00:00:00",
          "2022-10-01T00:00:00",
          "2022-11-01T00:00:00",
          "2022-12-01T00:00:00",
          "2023-01-01T00:00:00",
          "2023-02-01T00:00:00",
          "2023-03-01T00:00:00",
          "2023-04-01T00:00:00",
          "2023-05-01T00:00:00",
          "2023-06-01T00:00:00",
          "2023-07-01T00:00:00",
          "2023-08-01T00:00:00",
          "2023-09-01T00:00:00",
          "2023-10-01T00:00:00",
          "2023-11-01T00:00:00",
          "2023-12-01T00:00:00"
         ],
         "xaxis": "x",
         "y": [
          73,
          67,
          75,
          116,
          116,
          85,
          85,
          79,
          95,
          89,
          95,
          85,
          61,
          57,
          68,
          82,
          83,
          99,
          74,
          75,
          88,
          87,
          86,
          73,
          65,
          56,
          75,
          76,
          87,
          97,
          96,
          82,
          67,
          92,
          86,
          72,
          64,
          60,
          81,
          88,
          92,
          105,
          74,
          81,
          69,
          96,
          65,
          85,
          73,
          63,
          85,
          101,
          93,
          99,
          111,
          78,
          91,
          109,
          101,
          82,
          77,
          76,
          78,
          110,
          113,
          120,
          105,
          98,
          106,
          100,
          97,
          90,
          72,
          77,
          104,
          93,
          128,
          103,
          104,
          91,
          96,
          109,
          99,
          87,
          62,
          71,
          89,
          102,
          101,
          111,
          113,
          86,
          96,
          101,
          92,
          76,
          78,
          70,
          84,
          85,
          97,
          106,
          90,
          91,
          117,
          102,
          92,
          79,
          73,
          79,
          67,
          63,
          86,
          101,
          90,
          73,
          91,
          100,
          70,
          79,
          74,
          55,
          91,
          92,
          71,
          104,
          96,
          72,
          90,
          100,
          80,
          70,
          70,
          73,
          100,
          81,
          103,
          104,
          68,
          76,
          97,
          109,
          98,
          80,
          75,
          64,
          77,
          82,
          105,
          130,
          100,
          81,
          107,
          88,
          105,
          77
         ],
         "yaxis": "y"
        },
        {
         "customdata": [
          [
           "Überholunfall oder Fahrstreifenwechsel",
           16211
          ],
          [
           "Überholunfall oder Fahrstreifenwechsel",
           16211
          ],
          [
           "Überholunfall oder Fahrstreifenwechsel",
           16211
          ],
          [
           "Überholunfall oder Fahrstreifenwechsel",
           16211
          ],
          [
           "Überholunfall oder Fahrstreifenwechsel",
           16211
          ],
          [
           "Überholunfall oder Fahrstreifenwechsel",
           16211
          ],
          [
           "Überholunfall oder Fahrstreifenwechsel",
           16211
          ],
          [
           "Überholunfall oder Fahrstreifenwechsel",
           16211
          ],
          [
           "Überholunfall oder Fahrstreifenwechsel",
           16211
          ],
          [
           "Überholunfall oder Fahrstreifenwechsel",
           16211
          ],
          [
           "Überholunfall oder Fahrstreifenwechsel",
           16211
          ],
          [
           "Überholunfall oder Fahrstreifenwechsel",
           16211
          ],
          [
           "Überholunfall oder Fahrstreifenwechsel",
           16211
          ],
          [
           "Überholunfall oder Fahrstreifenwechsel",
           16211
          ],
          [
           "Überholunfall oder Fahrstreifenwechsel",
           16211
          ],
          [
           "Überholunfall oder Fahrstreifenwechsel",
           16211
          ],
          [
           "Überholunfall oder Fahrstreifenwechsel",
           16211
          ],
          [
           "Überholunfall oder Fahrstreifenwechsel",
           16211
          ],
          [
           "Überholunfall oder Fahrstreifenwechsel",
           16211
          ],
          [
           "Überholunfall oder Fahrstreifenwechsel",
           16211
          ],
          [
           "Überholunfall oder Fahrstreifenwechsel",
           16211
          ],
          [
           "Überholunfall oder Fahrstreifenwechsel",
           16211
          ],
          [
           "Überholunfall oder Fahrstreifenwechsel",
           16211
          ],
          [
           "Überholunfall oder Fahrstreifenwechsel",
           16211
          ],
          [
           "Überholunfall oder Fahrstreifenwechsel",
           16211
          ],
          [
           "Überholunfall oder Fahrstreifenwechsel",
           16211
          ],
          [
           "Überholunfall oder Fahrstreifenwechsel",
           16211
          ],
          [
           "Überholunfall oder Fahrstreifenwechsel",
           16211
          ],
          [
           "Überholunfall oder Fahrstreifenwechsel",
           16211
          ],
          [
           "Überholunfall oder Fahrstreifenwechsel",
           16211
          ],
          [
           "Überholunfall oder Fahrstreifenwechsel",
           16211
          ],
          [
           "Überholunfall oder Fahrstreifenwechsel",
           16211
          ],
          [
           "Überholunfall oder Fahrstreifenwechsel",
           16211
          ],
          [
           "Überholunfall oder Fahrstreifenwechsel",
           16211
          ],
          [
           "Überholunfall oder Fahrstreifenwechsel",
           16211
          ],
          [
           "Überholunfall oder Fahrstreifenwechsel",
           16211
          ],
          [
           "Überholunfall oder Fahrstreifenwechsel",
           16211
          ],
          [
           "Überholunfall oder Fahrstreifenwechsel",
           16211
          ],
          [
           "Überholunfall oder Fahrstreifenwechsel",
           16211
          ],
          [
           "Überholunfall oder Fahrstreifenwechsel",
           16211
          ],
          [
           "Überholunfall oder Fahrstreifenwechsel",
           16211
          ],
          [
           "Überholunfall oder Fahrstreifenwechsel",
           16211
          ],
          [
           "Überholunfall oder Fahrstreifenwechsel",
           16211
          ],
          [
           "Überholunfall oder Fahrstreifenwechsel",
           16211
          ],
          [
           "Überholunfall oder Fahrstreifenwechsel",
           16211
          ],
          [
           "Überholunfall oder Fahrstreifenwechsel",
           16211
          ],
          [
           "Überholunfall oder Fahrstreifenwechsel",
           16211
          ],
          [
           "Überholunfall oder Fahrstreifenwechsel",
           16211
          ],
          [
           "Überholunfall oder Fahrstreifenwechsel",
           16211
          ],
          [
           "Überholunfall oder Fahrstreifenwechsel",
           16211
          ],
          [
           "Überholunfall oder Fahrstreifenwechsel",
           16211
          ],
          [
           "Überholunfall oder Fahrstreifenwechsel",
           16211
          ],
          [
           "Überholunfall oder Fahrstreifenwechsel",
           16211
          ],
          [
           "Überholunfall oder Fahrstreifenwechsel",
           16211
          ],
          [
           "Überholunfall oder Fahrstreifenwechsel",
           16211
          ],
          [
           "Überholunfall oder Fahrstreifenwechsel",
           16211
          ],
          [
           "Überholunfall oder Fahrstreifenwechsel",
           16211
          ],
          [
           "Überholunfall oder Fahrstreifenwechsel",
           16211
          ],
          [
           "Überholunfall oder Fahrstreifenwechsel",
           16211
          ],
          [
           "Überholunfall oder Fahrstreifenwechsel",
           16211
          ],
          [
           "Überholunfall oder Fahrstreifenwechsel",
           16211
          ],
          [
           "Überholunfall oder Fahrstreifenwechsel",
           16211
          ],
          [
           "Überholunfall oder Fahrstreifenwechsel",
           16211
          ],
          [
           "Überholunfall oder Fahrstreifenwechsel",
           16211
          ],
          [
           "Überholunfall oder Fahrstreifenwechsel",
           16211
          ],
          [
           "Überholunfall oder Fahrstreifenwechsel",
           16211
          ],
          [
           "Überholunfall oder Fahrstreifenwechsel",
           16211
          ],
          [
           "Überholunfall oder Fahrstreifenwechsel",
           16211
          ],
          [
           "Überholunfall oder Fahrstreifenwechsel",
           16211
          ],
          [
           "Überholunfall oder Fahrstreifenwechsel",
           16211
          ],
          [
           "Überholunfall oder Fahrstreifenwechsel",
           16211
          ],
          [
           "Überholunfall oder Fahrstreifenwechsel",
           16211
          ],
          [
           "Überholunfall oder Fahrstreifenwechsel",
           16211
          ],
          [
           "Überholunfall oder Fahrstreifenwechsel",
           16211
          ],
          [
           "Überholunfall oder Fahrstreifenwechsel",
           16211
          ],
          [
           "Überholunfall oder Fahrstreifenwechsel",
           16211
          ],
          [
           "Überholunfall oder Fahrstreifenwechsel",
           16211
          ],
          [
           "Überholunfall oder Fahrstreifenwechsel",
           16211
          ],
          [
           "Überholunfall oder Fahrstreifenwechsel",
           16211
          ],
          [
           "Überholunfall oder Fahrstreifenwechsel",
           16211
          ],
          [
           "Überholunfall oder Fahrstreifenwechsel",
           16211
          ],
          [
           "Überholunfall oder Fahrstreifenwechsel",
           16211
          ],
          [
           "Überholunfall oder Fahrstreifenwechsel",
           16211
          ],
          [
           "Überholunfall oder Fahrstreifenwechsel",
           16211
          ],
          [
           "Überholunfall oder Fahrstreifenwechsel",
           16211
          ],
          [
           "Überholunfall oder Fahrstreifenwechsel",
           16211
          ],
          [
           "Überholunfall oder Fahrstreifenwechsel",
           16211
          ],
          [
           "Überholunfall oder Fahrstreifenwechsel",
           16211
          ],
          [
           "Überholunfall oder Fahrstreifenwechsel",
           16211
          ],
          [
           "Überholunfall oder Fahrstreifenwechsel",
           16211
          ],
          [
           "Überholunfall oder Fahrstreifenwechsel",
           16211
          ],
          [
           "Überholunfall oder Fahrstreifenwechsel",
           16211
          ],
          [
           "Überholunfall oder Fahrstreifenwechsel",
           16211
          ],
          [
           "Überholunfall oder Fahrstreifenwechsel",
           16211
          ],
          [
           "Überholunfall oder Fahrstreifenwechsel",
           16211
          ],
          [
           "Überholunfall oder Fahrstreifenwechsel",
           16211
          ],
          [
           "Überholunfall oder Fahrstreifenwechsel",
           16211
          ],
          [
           "Überholunfall oder Fahrstreifenwechsel",
           16211
          ],
          [
           "Überholunfall oder Fahrstreifenwechsel",
           16211
          ],
          [
           "Überholunfall oder Fahrstreifenwechsel",
           16211
          ],
          [
           "Überholunfall oder Fahrstreifenwechsel",
           16211
          ],
          [
           "Überholunfall oder Fahrstreifenwechsel",
           16211
          ],
          [
           "Überholunfall oder Fahrstreifenwechsel",
           16211
          ],
          [
           "Überholunfall oder Fahrstreifenwechsel",
           16211
          ],
          [
           "Überholunfall oder Fahrstreifenwechsel",
           16211
          ],
          [
           "Überholunfall oder Fahrstreifenwechsel",
           16211
          ],
          [
           "Überholunfall oder Fahrstreifenwechsel",
           16211
          ],
          [
           "Überholunfall oder Fahrstreifenwechsel",
           16211
          ],
          [
           "Überholunfall oder Fahrstreifenwechsel",
           16211
          ],
          [
           "Überholunfall oder Fahrstreifenwechsel",
           16211
          ],
          [
           "Überholunfall oder Fahrstreifenwechsel",
           16211
          ],
          [
           "Überholunfall oder Fahrstreifenwechsel",
           16211
          ],
          [
           "Überholunfall oder Fahrstreifenwechsel",
           16211
          ],
          [
           "Überholunfall oder Fahrstreifenwechsel",
           16211
          ],
          [
           "Überholunfall oder Fahrstreifenwechsel",
           16211
          ],
          [
           "Überholunfall oder Fahrstreifenwechsel",
           16211
          ],
          [
           "Überholunfall oder Fahrstreifenwechsel",
           16211
          ],
          [
           "Überholunfall oder Fahrstreifenwechsel",
           16211
          ],
          [
           "Überholunfall oder Fahrstreifenwechsel",
           16211
          ],
          [
           "Überholunfall oder Fahrstreifenwechsel",
           16211
          ],
          [
           "Überholunfall oder Fahrstreifenwechsel",
           16211
          ],
          [
           "Überholunfall oder Fahrstreifenwechsel",
           16211
          ],
          [
           "Überholunfall oder Fahrstreifenwechsel",
           16211
          ],
          [
           "Überholunfall oder Fahrstreifenwechsel",
           16211
          ],
          [
           "Überholunfall oder Fahrstreifenwechsel",
           16211
          ],
          [
           "Überholunfall oder Fahrstreifenwechsel",
           16211
          ],
          [
           "Überholunfall oder Fahrstreifenwechsel",
           16211
          ],
          [
           "Überholunfall oder Fahrstreifenwechsel",
           16211
          ],
          [
           "Überholunfall oder Fahrstreifenwechsel",
           16211
          ],
          [
           "Überholunfall oder Fahrstreifenwechsel",
           16211
          ],
          [
           "Überholunfall oder Fahrstreifenwechsel",
           16211
          ],
          [
           "Überholunfall oder Fahrstreifenwechsel",
           16211
          ],
          [
           "Überholunfall oder Fahrstreifenwechsel",
           16211
          ],
          [
           "Überholunfall oder Fahrstreifenwechsel",
           16211
          ],
          [
           "Überholunfall oder Fahrstreifenwechsel",
           16211
          ],
          [
           "Überholunfall oder Fahrstreifenwechsel",
           16211
          ],
          [
           "Überholunfall oder Fahrstreifenwechsel",
           16211
          ],
          [
           "Überholunfall oder Fahrstreifenwechsel",
           16211
          ],
          [
           "Überholunfall oder Fahrstreifenwechsel",
           16211
          ],
          [
           "Überholunfall oder Fahrstreifenwechsel",
           16211
          ],
          [
           "Überholunfall oder Fahrstreifenwechsel",
           16211
          ],
          [
           "Überholunfall oder Fahrstreifenwechsel",
           16211
          ],
          [
           "Überholunfall oder Fahrstreifenwechsel",
           16211
          ],
          [
           "Überholunfall oder Fahrstreifenwechsel",
           16211
          ],
          [
           "Überholunfall oder Fahrstreifenwechsel",
           16211
          ],
          [
           "Überholunfall oder Fahrstreifenwechsel",
           16211
          ],
          [
           "Überholunfall oder Fahrstreifenwechsel",
           16211
          ],
          [
           "Überholunfall oder Fahrstreifenwechsel",
           16211
          ],
          [
           "Überholunfall oder Fahrstreifenwechsel",
           16211
          ],
          [
           "Überholunfall oder Fahrstreifenwechsel",
           16211
          ],
          [
           "Überholunfall oder Fahrstreifenwechsel",
           16211
          ],
          [
           "Überholunfall oder Fahrstreifenwechsel",
           16211
          ],
          [
           "Überholunfall oder Fahrstreifenwechsel",
           16211
          ],
          [
           "Überholunfall oder Fahrstreifenwechsel",
           16211
          ],
          [
           "Überholunfall oder Fahrstreifenwechsel",
           16211
          ],
          [
           "Überholunfall oder Fahrstreifenwechsel",
           16211
          ]
         ],
         "fillpattern": {
          "shape": ""
         },
         "hoverlabel": {
          "bgcolor": "#1f77b4",
          "bordercolor": "black",
          "font": {
           "color": "black",
           "family": "Arial",
           "size": 12
          }
         },
         "hovertemplate": "AccidentType_de=%{customdata[0]}<br>Jahr=%{x}<br>Anzahl der Unfälle=%{y}<br>GesamtUnfälle=%{customdata[1]}<extra></extra>",
         "legendgroup": "Überholunfall oder Fahrstreifenwechsel",
         "line": {
          "color": "#9467bd",
          "dash": "solid",
          "shape": "spline",
          "width": 1
         },
         "marker": {
          "symbol": "circle"
         },
         "mode": "lines",
         "name": "Überholunfall oder Fahrstreifenwechsel",
         "opacity": 0.6,
         "orientation": "v",
         "showlegend": true,
         "stackgroup": "1",
         "type": "scatter",
         "x": [
          "2011-01-01T00:00:00",
          "2011-02-01T00:00:00",
          "2011-03-01T00:00:00",
          "2011-04-01T00:00:00",
          "2011-05-01T00:00:00",
          "2011-06-01T00:00:00",
          "2011-07-01T00:00:00",
          "2011-08-01T00:00:00",
          "2011-09-01T00:00:00",
          "2011-10-01T00:00:00",
          "2011-11-01T00:00:00",
          "2011-12-01T00:00:00",
          "2012-01-01T00:00:00",
          "2012-02-01T00:00:00",
          "2012-03-01T00:00:00",
          "2012-04-01T00:00:00",
          "2012-05-01T00:00:00",
          "2012-06-01T00:00:00",
          "2012-07-01T00:00:00",
          "2012-08-01T00:00:00",
          "2012-09-01T00:00:00",
          "2012-10-01T00:00:00",
          "2012-11-01T00:00:00",
          "2012-12-01T00:00:00",
          "2013-01-01T00:00:00",
          "2013-02-01T00:00:00",
          "2013-03-01T00:00:00",
          "2013-04-01T00:00:00",
          "2013-05-01T00:00:00",
          "2013-06-01T00:00:00",
          "2013-07-01T00:00:00",
          "2013-08-01T00:00:00",
          "2013-09-01T00:00:00",
          "2013-10-01T00:00:00",
          "2013-11-01T00:00:00",
          "2013-12-01T00:00:00",
          "2014-01-01T00:00:00",
          "2014-02-01T00:00:00",
          "2014-03-01T00:00:00",
          "2014-04-01T00:00:00",
          "2014-05-01T00:00:00",
          "2014-06-01T00:00:00",
          "2014-07-01T00:00:00",
          "2014-08-01T00:00:00",
          "2014-09-01T00:00:00",
          "2014-10-01T00:00:00",
          "2014-11-01T00:00:00",
          "2014-12-01T00:00:00",
          "2015-01-01T00:00:00",
          "2015-02-01T00:00:00",
          "2015-03-01T00:00:00",
          "2015-04-01T00:00:00",
          "2015-05-01T00:00:00",
          "2015-06-01T00:00:00",
          "2015-07-01T00:00:00",
          "2015-08-01T00:00:00",
          "2015-09-01T00:00:00",
          "2015-10-01T00:00:00",
          "2015-11-01T00:00:00",
          "2015-12-01T00:00:00",
          "2016-01-01T00:00:00",
          "2016-02-01T00:00:00",
          "2016-03-01T00:00:00",
          "2016-04-01T00:00:00",
          "2016-05-01T00:00:00",
          "2016-06-01T00:00:00",
          "2016-07-01T00:00:00",
          "2016-08-01T00:00:00",
          "2016-09-01T00:00:00",
          "2016-10-01T00:00:00",
          "2016-11-01T00:00:00",
          "2016-12-01T00:00:00",
          "2017-01-01T00:00:00",
          "2017-02-01T00:00:00",
          "2017-03-01T00:00:00",
          "2017-04-01T00:00:00",
          "2017-05-01T00:00:00",
          "2017-06-01T00:00:00",
          "2017-07-01T00:00:00",
          "2017-08-01T00:00:00",
          "2017-09-01T00:00:00",
          "2017-10-01T00:00:00",
          "2017-11-01T00:00:00",
          "2017-12-01T00:00:00",
          "2018-01-01T00:00:00",
          "2018-02-01T00:00:00",
          "2018-03-01T00:00:00",
          "2018-04-01T00:00:00",
          "2018-05-01T00:00:00",
          "2018-06-01T00:00:00",
          "2018-07-01T00:00:00",
          "2018-08-01T00:00:00",
          "2018-09-01T00:00:00",
          "2018-10-01T00:00:00",
          "2018-11-01T00:00:00",
          "2018-12-01T00:00:00",
          "2019-01-01T00:00:00",
          "2019-02-01T00:00:00",
          "2019-03-01T00:00:00",
          "2019-04-01T00:00:00",
          "2019-05-01T00:00:00",
          "2019-06-01T00:00:00",
          "2019-07-01T00:00:00",
          "2019-08-01T00:00:00",
          "2019-09-01T00:00:00",
          "2019-10-01T00:00:00",
          "2019-11-01T00:00:00",
          "2019-12-01T00:00:00",
          "2020-01-01T00:00:00",
          "2020-02-01T00:00:00",
          "2020-03-01T00:00:00",
          "2020-04-01T00:00:00",
          "2020-05-01T00:00:00",
          "2020-06-01T00:00:00",
          "2020-07-01T00:00:00",
          "2020-08-01T00:00:00",
          "2020-09-01T00:00:00",
          "2020-10-01T00:00:00",
          "2020-11-01T00:00:00",
          "2020-12-01T00:00:00",
          "2021-01-01T00:00:00",
          "2021-02-01T00:00:00",
          "2021-03-01T00:00:00",
          "2021-04-01T00:00:00",
          "2021-05-01T00:00:00",
          "2021-06-01T00:00:00",
          "2021-07-01T00:00:00",
          "2021-08-01T00:00:00",
          "2021-09-01T00:00:00",
          "2021-10-01T00:00:00",
          "2021-11-01T00:00:00",
          "2021-12-01T00:00:00",
          "2022-01-01T00:00:00",
          "2022-02-01T00:00:00",
          "2022-03-01T00:00:00",
          "2022-04-01T00:00:00",
          "2022-05-01T00:00:00",
          "2022-06-01T00:00:00",
          "2022-07-01T00:00:00",
          "2022-08-01T00:00:00",
          "2022-09-01T00:00:00",
          "2022-10-01T00:00:00",
          "2022-11-01T00:00:00",
          "2022-12-01T00:00:00",
          "2023-01-01T00:00:00",
          "2023-02-01T00:00:00",
          "2023-03-01T00:00:00",
          "2023-04-01T00:00:00",
          "2023-05-01T00:00:00",
          "2023-06-01T00:00:00",
          "2023-07-01T00:00:00",
          "2023-08-01T00:00:00",
          "2023-09-01T00:00:00",
          "2023-10-01T00:00:00",
          "2023-11-01T00:00:00",
          "2023-12-01T00:00:00"
         ],
         "xaxis": "x",
         "y": [
          65,
          61,
          91,
          97,
          96,
          99,
          72,
          94,
          94,
          77,
          72,
          75,
          55,
          50,
          98,
          83,
          94,
          93,
          71,
          66,
          91,
          77,
          80,
          67,
          53,
          51,
          73,
          80,
          78,
          110,
          83,
          84,
          80,
          100,
          79,
          68,
          70,
          68,
          85,
          76,
          88,
          90,
          76,
          78,
          80,
          94,
          67,
          64,
          55,
          60,
          63,
          75,
          79,
          93,
          136,
          110,
          134,
          87,
          107,
          97,
          84,
          80,
          104,
          119,
          120,
          124,
          116,
          111,
          129,
          137,
          112,
          120,
          91,
          105,
          130,
          106,
          144,
          140,
          125,
          124,
          144,
          136,
          122,
          105,
          94,
          71,
          102,
          123,
          125,
          153,
          132,
          136,
          119,
          146,
          165,
          119,
          73,
          90,
          116,
          119,
          122,
          152,
          125,
          127,
          130,
          142,
          128,
          103,
          109,
          92,
          63,
          52,
          82,
          107,
          134,
          121,
          127,
          128,
          104,
          82,
          62,
          75,
          120,
          128,
          112,
          120,
          140,
          128,
          161,
          122,
          166,
          98,
          91,
          97,
          139,
          123,
          142,
          130,
          108,
          143,
          140,
          147,
          153,
          92,
          95,
          94,
          113,
          130,
          127,
          149,
          110,
          109,
          122,
          151,
          139,
          105
         ],
         "yaxis": "y"
        },
        {
         "customdata": [
          [
           "Abbiegeunfall",
           8240
          ],
          [
           "Abbiegeunfall",
           8240
          ],
          [
           "Abbiegeunfall",
           8240
          ],
          [
           "Abbiegeunfall",
           8240
          ],
          [
           "Abbiegeunfall",
           8240
          ],
          [
           "Abbiegeunfall",
           8240
          ],
          [
           "Abbiegeunfall",
           8240
          ],
          [
           "Abbiegeunfall",
           8240
          ],
          [
           "Abbiegeunfall",
           8240
          ],
          [
           "Abbiegeunfall",
           8240
          ],
          [
           "Abbiegeunfall",
           8240
          ],
          [
           "Abbiegeunfall",
           8240
          ],
          [
           "Abbiegeunfall",
           8240
          ],
          [
           "Abbiegeunfall",
           8240
          ],
          [
           "Abbiegeunfall",
           8240
          ],
          [
           "Abbiegeunfall",
           8240
          ],
          [
           "Abbiegeunfall",
           8240
          ],
          [
           "Abbiegeunfall",
           8240
          ],
          [
           "Abbiegeunfall",
           8240
          ],
          [
           "Abbiegeunfall",
           8240
          ],
          [
           "Abbiegeunfall",
           8240
          ],
          [
           "Abbiegeunfall",
           8240
          ],
          [
           "Abbiegeunfall",
           8240
          ],
          [
           "Abbiegeunfall",
           8240
          ],
          [
           "Abbiegeunfall",
           8240
          ],
          [
           "Abbiegeunfall",
           8240
          ],
          [
           "Abbiegeunfall",
           8240
          ],
          [
           "Abbiegeunfall",
           8240
          ],
          [
           "Abbiegeunfall",
           8240
          ],
          [
           "Abbiegeunfall",
           8240
          ],
          [
           "Abbiegeunfall",
           8240
          ],
          [
           "Abbiegeunfall",
           8240
          ],
          [
           "Abbiegeunfall",
           8240
          ],
          [
           "Abbiegeunfall",
           8240
          ],
          [
           "Abbiegeunfall",
           8240
          ],
          [
           "Abbiegeunfall",
           8240
          ],
          [
           "Abbiegeunfall",
           8240
          ],
          [
           "Abbiegeunfall",
           8240
          ],
          [
           "Abbiegeunfall",
           8240
          ],
          [
           "Abbiegeunfall",
           8240
          ],
          [
           "Abbiegeunfall",
           8240
          ],
          [
           "Abbiegeunfall",
           8240
          ],
          [
           "Abbiegeunfall",
           8240
          ],
          [
           "Abbiegeunfall",
           8240
          ],
          [
           "Abbiegeunfall",
           8240
          ],
          [
           "Abbiegeunfall",
           8240
          ],
          [
           "Abbiegeunfall",
           8240
          ],
          [
           "Abbiegeunfall",
           8240
          ],
          [
           "Abbiegeunfall",
           8240
          ],
          [
           "Abbiegeunfall",
           8240
          ],
          [
           "Abbiegeunfall",
           8240
          ],
          [
           "Abbiegeunfall",
           8240
          ],
          [
           "Abbiegeunfall",
           8240
          ],
          [
           "Abbiegeunfall",
           8240
          ],
          [
           "Abbiegeunfall",
           8240
          ],
          [
           "Abbiegeunfall",
           8240
          ],
          [
           "Abbiegeunfall",
           8240
          ],
          [
           "Abbiegeunfall",
           8240
          ],
          [
           "Abbiegeunfall",
           8240
          ],
          [
           "Abbiegeunfall",
           8240
          ],
          [
           "Abbiegeunfall",
           8240
          ],
          [
           "Abbiegeunfall",
           8240
          ],
          [
           "Abbiegeunfall",
           8240
          ],
          [
           "Abbiegeunfall",
           8240
          ],
          [
           "Abbiegeunfall",
           8240
          ],
          [
           "Abbiegeunfall",
           8240
          ],
          [
           "Abbiegeunfall",
           8240
          ],
          [
           "Abbiegeunfall",
           8240
          ],
          [
           "Abbiegeunfall",
           8240
          ],
          [
           "Abbiegeunfall",
           8240
          ],
          [
           "Abbiegeunfall",
           8240
          ],
          [
           "Abbiegeunfall",
           8240
          ],
          [
           "Abbiegeunfall",
           8240
          ],
          [
           "Abbiegeunfall",
           8240
          ],
          [
           "Abbiegeunfall",
           8240
          ],
          [
           "Abbiegeunfall",
           8240
          ],
          [
           "Abbiegeunfall",
           8240
          ],
          [
           "Abbiegeunfall",
           8240
          ],
          [
           "Abbiegeunfall",
           8240
          ],
          [
           "Abbiegeunfall",
           8240
          ],
          [
           "Abbiegeunfall",
           8240
          ],
          [
           "Abbiegeunfall",
           8240
          ],
          [
           "Abbiegeunfall",
           8240
          ],
          [
           "Abbiegeunfall",
           8240
          ],
          [
           "Abbiegeunfall",
           8240
          ],
          [
           "Abbiegeunfall",
           8240
          ],
          [
           "Abbiegeunfall",
           8240
          ],
          [
           "Abbiegeunfall",
           8240
          ],
          [
           "Abbiegeunfall",
           8240
          ],
          [
           "Abbiegeunfall",
           8240
          ],
          [
           "Abbiegeunfall",
           8240
          ],
          [
           "Abbiegeunfall",
           8240
          ],
          [
           "Abbiegeunfall",
           8240
          ],
          [
           "Abbiegeunfall",
           8240
          ],
          [
           "Abbiegeunfall",
           8240
          ],
          [
           "Abbiegeunfall",
           8240
          ],
          [
           "Abbiegeunfall",
           8240
          ],
          [
           "Abbiegeunfall",
           8240
          ],
          [
           "Abbiegeunfall",
           8240
          ],
          [
           "Abbiegeunfall",
           8240
          ],
          [
           "Abbiegeunfall",
           8240
          ],
          [
           "Abbiegeunfall",
           8240
          ],
          [
           "Abbiegeunfall",
           8240
          ],
          [
           "Abbiegeunfall",
           8240
          ],
          [
           "Abbiegeunfall",
           8240
          ],
          [
           "Abbiegeunfall",
           8240
          ],
          [
           "Abbiegeunfall",
           8240
          ],
          [
           "Abbiegeunfall",
           8240
          ],
          [
           "Abbiegeunfall",
           8240
          ],
          [
           "Abbiegeunfall",
           8240
          ],
          [
           "Abbiegeunfall",
           8240
          ],
          [
           "Abbiegeunfall",
           8240
          ],
          [
           "Abbiegeunfall",
           8240
          ],
          [
           "Abbiegeunfall",
           8240
          ],
          [
           "Abbiegeunfall",
           8240
          ],
          [
           "Abbiegeunfall",
           8240
          ],
          [
           "Abbiegeunfall",
           8240
          ],
          [
           "Abbiegeunfall",
           8240
          ],
          [
           "Abbiegeunfall",
           8240
          ],
          [
           "Abbiegeunfall",
           8240
          ],
          [
           "Abbiegeunfall",
           8240
          ],
          [
           "Abbiegeunfall",
           8240
          ],
          [
           "Abbiegeunfall",
           8240
          ],
          [
           "Abbiegeunfall",
           8240
          ],
          [
           "Abbiegeunfall",
           8240
          ],
          [
           "Abbiegeunfall",
           8240
          ],
          [
           "Abbiegeunfall",
           8240
          ],
          [
           "Abbiegeunfall",
           8240
          ],
          [
           "Abbiegeunfall",
           8240
          ],
          [
           "Abbiegeunfall",
           8240
          ],
          [
           "Abbiegeunfall",
           8240
          ],
          [
           "Abbiegeunfall",
           8240
          ],
          [
           "Abbiegeunfall",
           8240
          ],
          [
           "Abbiegeunfall",
           8240
          ],
          [
           "Abbiegeunfall",
           8240
          ],
          [
           "Abbiegeunfall",
           8240
          ],
          [
           "Abbiegeunfall",
           8240
          ],
          [
           "Abbiegeunfall",
           8240
          ],
          [
           "Abbiegeunfall",
           8240
          ],
          [
           "Abbiegeunfall",
           8240
          ],
          [
           "Abbiegeunfall",
           8240
          ],
          [
           "Abbiegeunfall",
           8240
          ],
          [
           "Abbiegeunfall",
           8240
          ],
          [
           "Abbiegeunfall",
           8240
          ],
          [
           "Abbiegeunfall",
           8240
          ],
          [
           "Abbiegeunfall",
           8240
          ],
          [
           "Abbiegeunfall",
           8240
          ],
          [
           "Abbiegeunfall",
           8240
          ],
          [
           "Abbiegeunfall",
           8240
          ],
          [
           "Abbiegeunfall",
           8240
          ],
          [
           "Abbiegeunfall",
           8240
          ],
          [
           "Abbiegeunfall",
           8240
          ],
          [
           "Abbiegeunfall",
           8240
          ],
          [
           "Abbiegeunfall",
           8240
          ],
          [
           "Abbiegeunfall",
           8240
          ],
          [
           "Abbiegeunfall",
           8240
          ]
         ],
         "fillpattern": {
          "shape": ""
         },
         "hoverlabel": {
          "bgcolor": "#1f77b4",
          "bordercolor": "black",
          "font": {
           "color": "black",
           "family": "Arial",
           "size": 12
          }
         },
         "hovertemplate": "AccidentType_de=%{customdata[0]}<br>Jahr=%{x}<br>Anzahl der Unfälle=%{y}<br>GesamtUnfälle=%{customdata[1]}<extra></extra>",
         "legendgroup": "Abbiegeunfall",
         "line": {
          "color": "#8c564b",
          "dash": "solid",
          "shape": "spline",
          "width": 1
         },
         "marker": {
          "symbol": "circle"
         },
         "mode": "lines",
         "name": "Abbiegeunfall",
         "opacity": 0.6,
         "orientation": "v",
         "showlegend": true,
         "stackgroup": "1",
         "type": "scatter",
         "x": [
          "2011-01-01T00:00:00",
          "2011-02-01T00:00:00",
          "2011-03-01T00:00:00",
          "2011-04-01T00:00:00",
          "2011-05-01T00:00:00",
          "2011-06-01T00:00:00",
          "2011-07-01T00:00:00",
          "2011-08-01T00:00:00",
          "2011-09-01T00:00:00",
          "2011-10-01T00:00:00",
          "2011-11-01T00:00:00",
          "2011-12-01T00:00:00",
          "2012-01-01T00:00:00",
          "2012-02-01T00:00:00",
          "2012-03-01T00:00:00",
          "2012-04-01T00:00:00",
          "2012-05-01T00:00:00",
          "2012-06-01T00:00:00",
          "2012-07-01T00:00:00",
          "2012-08-01T00:00:00",
          "2012-09-01T00:00:00",
          "2012-10-01T00:00:00",
          "2012-11-01T00:00:00",
          "2012-12-01T00:00:00",
          "2013-01-01T00:00:00",
          "2013-02-01T00:00:00",
          "2013-03-01T00:00:00",
          "2013-04-01T00:00:00",
          "2013-05-01T00:00:00",
          "2013-06-01T00:00:00",
          "2013-07-01T00:00:00",
          "2013-08-01T00:00:00",
          "2013-09-01T00:00:00",
          "2013-10-01T00:00:00",
          "2013-11-01T00:00:00",
          "2013-12-01T00:00:00",
          "2014-01-01T00:00:00",
          "2014-02-01T00:00:00",
          "2014-03-01T00:00:00",
          "2014-04-01T00:00:00",
          "2014-05-01T00:00:00",
          "2014-06-01T00:00:00",
          "2014-07-01T00:00:00",
          "2014-08-01T00:00:00",
          "2014-09-01T00:00:00",
          "2014-10-01T00:00:00",
          "2014-11-01T00:00:00",
          "2014-12-01T00:00:00",
          "2015-01-01T00:00:00",
          "2015-02-01T00:00:00",
          "2015-03-01T00:00:00",
          "2015-04-01T00:00:00",
          "2015-05-01T00:00:00",
          "2015-06-01T00:00:00",
          "2015-07-01T00:00:00",
          "2015-08-01T00:00:00",
          "2015-09-01T00:00:00",
          "2015-10-01T00:00:00",
          "2015-11-01T00:00:00",
          "2015-12-01T00:00:00",
          "2016-01-01T00:00:00",
          "2016-02-01T00:00:00",
          "2016-03-01T00:00:00",
          "2016-04-01T00:00:00",
          "2016-05-01T00:00:00",
          "2016-06-01T00:00:00",
          "2016-07-01T00:00:00",
          "2016-08-01T00:00:00",
          "2016-09-01T00:00:00",
          "2016-10-01T00:00:00",
          "2016-11-01T00:00:00",
          "2016-12-01T00:00:00",
          "2017-01-01T00:00:00",
          "2017-02-01T00:00:00",
          "2017-03-01T00:00:00",
          "2017-04-01T00:00:00",
          "2017-05-01T00:00:00",
          "2017-06-01T00:00:00",
          "2017-07-01T00:00:00",
          "2017-08-01T00:00:00",
          "2017-09-01T00:00:00",
          "2017-10-01T00:00:00",
          "2017-11-01T00:00:00",
          "2017-12-01T00:00:00",
          "2018-01-01T00:00:00",
          "2018-02-01T00:00:00",
          "2018-03-01T00:00:00",
          "2018-04-01T00:00:00",
          "2018-05-01T00:00:00",
          "2018-06-01T00:00:00",
          "2018-07-01T00:00:00",
          "2018-08-01T00:00:00",
          "2018-09-01T00:00:00",
          "2018-10-01T00:00:00",
          "2018-11-01T00:00:00",
          "2018-12-01T00:00:00",
          "2019-01-01T00:00:00",
          "2019-02-01T00:00:00",
          "2019-03-01T00:00:00",
          "2019-04-01T00:00:00",
          "2019-05-01T00:00:00",
          "2019-06-01T00:00:00",
          "2019-07-01T00:00:00",
          "2019-08-01T00:00:00",
          "2019-09-01T00:00:00",
          "2019-10-01T00:00:00",
          "2019-11-01T00:00:00",
          "2019-12-01T00:00:00",
          "2020-01-01T00:00:00",
          "2020-02-01T00:00:00",
          "2020-03-01T00:00:00",
          "2020-04-01T00:00:00",
          "2020-05-01T00:00:00",
          "2020-06-01T00:00:00",
          "2020-07-01T00:00:00",
          "2020-08-01T00:00:00",
          "2020-09-01T00:00:00",
          "2020-10-01T00:00:00",
          "2020-11-01T00:00:00",
          "2020-12-01T00:00:00",
          "2021-01-01T00:00:00",
          "2021-02-01T00:00:00",
          "2021-03-01T00:00:00",
          "2021-04-01T00:00:00",
          "2021-05-01T00:00:00",
          "2021-06-01T00:00:00",
          "2021-07-01T00:00:00",
          "2021-08-01T00:00:00",
          "2021-09-01T00:00:00",
          "2021-10-01T00:00:00",
          "2021-11-01T00:00:00",
          "2021-12-01T00:00:00",
          "2022-01-01T00:00:00",
          "2022-02-01T00:00:00",
          "2022-03-01T00:00:00",
          "2022-04-01T00:00:00",
          "2022-05-01T00:00:00",
          "2022-06-01T00:00:00",
          "2022-07-01T00:00:00",
          "2022-08-01T00:00:00",
          "2022-09-01T00:00:00",
          "2022-10-01T00:00:00",
          "2022-11-01T00:00:00",
          "2022-12-01T00:00:00",
          "2023-01-01T00:00:00",
          "2023-02-01T00:00:00",
          "2023-03-01T00:00:00",
          "2023-04-01T00:00:00",
          "2023-05-01T00:00:00",
          "2023-06-01T00:00:00",
          "2023-07-01T00:00:00",
          "2023-08-01T00:00:00",
          "2023-09-01T00:00:00",
          "2023-10-01T00:00:00",
          "2023-11-01T00:00:00",
          "2023-12-01T00:00:00"
         ],
         "xaxis": "x",
         "y": [
          41,
          34,
          46,
          57,
          70,
          52,
          56,
          54,
          74,
          52,
          57,
          43,
          40,
          29,
          43,
          45,
          56,
          66,
          52,
          56,
          58,
          39,
          46,
          33,
          44,
          27,
          38,
          56,
          44,
          62,
          56,
          54,
          44,
          69,
          58,
          44,
          40,
          32,
          55,
          57,
          41,
          68,
          48,
          44,
          56,
          45,
          46,
          28,
          36,
          30,
          42,
          40,
          52,
          62,
          73,
          64,
          49,
          56,
          65,
          54,
          37,
          50,
          40,
          71,
          68,
          71,
          57,
          54,
          69,
          64,
          53,
          41,
          38,
          34,
          71,
          51,
          59,
          79,
          60,
          53,
          60,
          65,
          60,
          40,
          44,
          35,
          46,
          63,
          59,
          68,
          73,
          70,
          74,
          54,
          54,
          44,
          36,
          34,
          56,
          33,
          49,
          79,
          52,
          54,
          72,
          54,
          59,
          46,
          43,
          64,
          38,
          49,
          70,
          62,
          56,
          56,
          61,
          68,
          69,
          28,
          22,
          35,
          45,
          51,
          53,
          80,
          60,
          46,
          72,
          50,
          45,
          45,
          38,
          43,
          60,
          49,
          77,
          69,
          49,
          63,
          58,
          56,
          51,
          45,
          30,
          43,
          59,
          45,
          65,
          96,
          67,
          52,
          78,
          57,
          49,
          42
         ],
         "yaxis": "y"
        },
        {
         "customdata": [
          [
           "Überqueren der Fahrbahn",
           5377
          ],
          [
           "Überqueren der Fahrbahn",
           5377
          ],
          [
           "Überqueren der Fahrbahn",
           5377
          ],
          [
           "Überqueren der Fahrbahn",
           5377
          ],
          [
           "Überqueren der Fahrbahn",
           5377
          ],
          [
           "Überqueren der Fahrbahn",
           5377
          ],
          [
           "Überqueren der Fahrbahn",
           5377
          ],
          [
           "Überqueren der Fahrbahn",
           5377
          ],
          [
           "Überqueren der Fahrbahn",
           5377
          ],
          [
           "Überqueren der Fahrbahn",
           5377
          ],
          [
           "Überqueren der Fahrbahn",
           5377
          ],
          [
           "Überqueren der Fahrbahn",
           5377
          ],
          [
           "Überqueren der Fahrbahn",
           5377
          ],
          [
           "Überqueren der Fahrbahn",
           5377
          ],
          [
           "Überqueren der Fahrbahn",
           5377
          ],
          [
           "Überqueren der Fahrbahn",
           5377
          ],
          [
           "Überqueren der Fahrbahn",
           5377
          ],
          [
           "Überqueren der Fahrbahn",
           5377
          ],
          [
           "Überqueren der Fahrbahn",
           5377
          ],
          [
           "Überqueren der Fahrbahn",
           5377
          ],
          [
           "Überqueren der Fahrbahn",
           5377
          ],
          [
           "Überqueren der Fahrbahn",
           5377
          ],
          [
           "Überqueren der Fahrbahn",
           5377
          ],
          [
           "Überqueren der Fahrbahn",
           5377
          ],
          [
           "Überqueren der Fahrbahn",
           5377
          ],
          [
           "Überqueren der Fahrbahn",
           5377
          ],
          [
           "Überqueren der Fahrbahn",
           5377
          ],
          [
           "Überqueren der Fahrbahn",
           5377
          ],
          [
           "Überqueren der Fahrbahn",
           5377
          ],
          [
           "Überqueren der Fahrbahn",
           5377
          ],
          [
           "Überqueren der Fahrbahn",
           5377
          ],
          [
           "Überqueren der Fahrbahn",
           5377
          ],
          [
           "Überqueren der Fahrbahn",
           5377
          ],
          [
           "Überqueren der Fahrbahn",
           5377
          ],
          [
           "Überqueren der Fahrbahn",
           5377
          ],
          [
           "Überqueren der Fahrbahn",
           5377
          ],
          [
           "Überqueren der Fahrbahn",
           5377
          ],
          [
           "Überqueren der Fahrbahn",
           5377
          ],
          [
           "Überqueren der Fahrbahn",
           5377
          ],
          [
           "Überqueren der Fahrbahn",
           5377
          ],
          [
           "Überqueren der Fahrbahn",
           5377
          ],
          [
           "Überqueren der Fahrbahn",
           5377
          ],
          [
           "Überqueren der Fahrbahn",
           5377
          ],
          [
           "Überqueren der Fahrbahn",
           5377
          ],
          [
           "Überqueren der Fahrbahn",
           5377
          ],
          [
           "Überqueren der Fahrbahn",
           5377
          ],
          [
           "Überqueren der Fahrbahn",
           5377
          ],
          [
           "Überqueren der Fahrbahn",
           5377
          ],
          [
           "Überqueren der Fahrbahn",
           5377
          ],
          [
           "Überqueren der Fahrbahn",
           5377
          ],
          [
           "Überqueren der Fahrbahn",
           5377
          ],
          [
           "Überqueren der Fahrbahn",
           5377
          ],
          [
           "Überqueren der Fahrbahn",
           5377
          ],
          [
           "Überqueren der Fahrbahn",
           5377
          ],
          [
           "Überqueren der Fahrbahn",
           5377
          ],
          [
           "Überqueren der Fahrbahn",
           5377
          ],
          [
           "Überqueren der Fahrbahn",
           5377
          ],
          [
           "Überqueren der Fahrbahn",
           5377
          ],
          [
           "Überqueren der Fahrbahn",
           5377
          ],
          [
           "Überqueren der Fahrbahn",
           5377
          ],
          [
           "Überqueren der Fahrbahn",
           5377
          ],
          [
           "Überqueren der Fahrbahn",
           5377
          ],
          [
           "Überqueren der Fahrbahn",
           5377
          ],
          [
           "Überqueren der Fahrbahn",
           5377
          ],
          [
           "Überqueren der Fahrbahn",
           5377
          ],
          [
           "Überqueren der Fahrbahn",
           5377
          ],
          [
           "Überqueren der Fahrbahn",
           5377
          ],
          [
           "Überqueren der Fahrbahn",
           5377
          ],
          [
           "Überqueren der Fahrbahn",
           5377
          ],
          [
           "Überqueren der Fahrbahn",
           5377
          ],
          [
           "Überqueren der Fahrbahn",
           5377
          ],
          [
           "Überqueren der Fahrbahn",
           5377
          ],
          [
           "Überqueren der Fahrbahn",
           5377
          ],
          [
           "Überqueren der Fahrbahn",
           5377
          ],
          [
           "Überqueren der Fahrbahn",
           5377
          ],
          [
           "Überqueren der Fahrbahn",
           5377
          ],
          [
           "Überqueren der Fahrbahn",
           5377
          ],
          [
           "Überqueren der Fahrbahn",
           5377
          ],
          [
           "Überqueren der Fahrbahn",
           5377
          ],
          [
           "Überqueren der Fahrbahn",
           5377
          ],
          [
           "Überqueren der Fahrbahn",
           5377
          ],
          [
           "Überqueren der Fahrbahn",
           5377
          ],
          [
           "Überqueren der Fahrbahn",
           5377
          ],
          [
           "Überqueren der Fahrbahn",
           5377
          ],
          [
           "Überqueren der Fahrbahn",
           5377
          ],
          [
           "Überqueren der Fahrbahn",
           5377
          ],
          [
           "Überqueren der Fahrbahn",
           5377
          ],
          [
           "Überqueren der Fahrbahn",
           5377
          ],
          [
           "Überqueren der Fahrbahn",
           5377
          ],
          [
           "Überqueren der Fahrbahn",
           5377
          ],
          [
           "Überqueren der Fahrbahn",
           5377
          ],
          [
           "Überqueren der Fahrbahn",
           5377
          ],
          [
           "Überqueren der Fahrbahn",
           5377
          ],
          [
           "Überqueren der Fahrbahn",
           5377
          ],
          [
           "Überqueren der Fahrbahn",
           5377
          ],
          [
           "Überqueren der Fahrbahn",
           5377
          ],
          [
           "Überqueren der Fahrbahn",
           5377
          ],
          [
           "Überqueren der Fahrbahn",
           5377
          ],
          [
           "Überqueren der Fahrbahn",
           5377
          ],
          [
           "Überqueren der Fahrbahn",
           5377
          ],
          [
           "Überqueren der Fahrbahn",
           5377
          ],
          [
           "Überqueren der Fahrbahn",
           5377
          ],
          [
           "Überqueren der Fahrbahn",
           5377
          ],
          [
           "Überqueren der Fahrbahn",
           5377
          ],
          [
           "Überqueren der Fahrbahn",
           5377
          ],
          [
           "Überqueren der Fahrbahn",
           5377
          ],
          [
           "Überqueren der Fahrbahn",
           5377
          ],
          [
           "Überqueren der Fahrbahn",
           5377
          ],
          [
           "Überqueren der Fahrbahn",
           5377
          ],
          [
           "Überqueren der Fahrbahn",
           5377
          ],
          [
           "Überqueren der Fahrbahn",
           5377
          ],
          [
           "Überqueren der Fahrbahn",
           5377
          ],
          [
           "Überqueren der Fahrbahn",
           5377
          ],
          [
           "Überqueren der Fahrbahn",
           5377
          ],
          [
           "Überqueren der Fahrbahn",
           5377
          ],
          [
           "Überqueren der Fahrbahn",
           5377
          ],
          [
           "Überqueren der Fahrbahn",
           5377
          ],
          [
           "Überqueren der Fahrbahn",
           5377
          ],
          [
           "Überqueren der Fahrbahn",
           5377
          ],
          [
           "Überqueren der Fahrbahn",
           5377
          ],
          [
           "Überqueren der Fahrbahn",
           5377
          ],
          [
           "Überqueren der Fahrbahn",
           5377
          ],
          [
           "Überqueren der Fahrbahn",
           5377
          ],
          [
           "Überqueren der Fahrbahn",
           5377
          ],
          [
           "Überqueren der Fahrbahn",
           5377
          ],
          [
           "Überqueren der Fahrbahn",
           5377
          ],
          [
           "Überqueren der Fahrbahn",
           5377
          ],
          [
           "Überqueren der Fahrbahn",
           5377
          ],
          [
           "Überqueren der Fahrbahn",
           5377
          ],
          [
           "Überqueren der Fahrbahn",
           5377
          ],
          [
           "Überqueren der Fahrbahn",
           5377
          ],
          [
           "Überqueren der Fahrbahn",
           5377
          ],
          [
           "Überqueren der Fahrbahn",
           5377
          ],
          [
           "Überqueren der Fahrbahn",
           5377
          ],
          [
           "Überqueren der Fahrbahn",
           5377
          ],
          [
           "Überqueren der Fahrbahn",
           5377
          ],
          [
           "Überqueren der Fahrbahn",
           5377
          ],
          [
           "Überqueren der Fahrbahn",
           5377
          ],
          [
           "Überqueren der Fahrbahn",
           5377
          ],
          [
           "Überqueren der Fahrbahn",
           5377
          ],
          [
           "Überqueren der Fahrbahn",
           5377
          ],
          [
           "Überqueren der Fahrbahn",
           5377
          ],
          [
           "Überqueren der Fahrbahn",
           5377
          ],
          [
           "Überqueren der Fahrbahn",
           5377
          ],
          [
           "Überqueren der Fahrbahn",
           5377
          ],
          [
           "Überqueren der Fahrbahn",
           5377
          ],
          [
           "Überqueren der Fahrbahn",
           5377
          ],
          [
           "Überqueren der Fahrbahn",
           5377
          ],
          [
           "Überqueren der Fahrbahn",
           5377
          ],
          [
           "Überqueren der Fahrbahn",
           5377
          ],
          [
           "Überqueren der Fahrbahn",
           5377
          ],
          [
           "Überqueren der Fahrbahn",
           5377
          ],
          [
           "Überqueren der Fahrbahn",
           5377
          ],
          [
           "Überqueren der Fahrbahn",
           5377
          ],
          [
           "Überqueren der Fahrbahn",
           5377
          ],
          [
           "Überqueren der Fahrbahn",
           5377
          ]
         ],
         "fillpattern": {
          "shape": ""
         },
         "hoverlabel": {
          "bgcolor": "#1f77b4",
          "bordercolor": "black",
          "font": {
           "color": "black",
           "family": "Arial",
           "size": 12
          }
         },
         "hovertemplate": "AccidentType_de=%{customdata[0]}<br>Jahr=%{x}<br>Anzahl der Unfälle=%{y}<br>GesamtUnfälle=%{customdata[1]}<extra></extra>",
         "legendgroup": "Überqueren der Fahrbahn",
         "line": {
          "color": "#e377c2",
          "dash": "solid",
          "shape": "spline",
          "width": 1
         },
         "marker": {
          "symbol": "circle"
         },
         "mode": "lines",
         "name": "Überqueren der Fahrbahn",
         "opacity": 0.6,
         "orientation": "v",
         "showlegend": true,
         "stackgroup": "1",
         "type": "scatter",
         "x": [
          "2011-01-01T00:00:00",
          "2011-02-01T00:00:00",
          "2011-03-01T00:00:00",
          "2011-04-01T00:00:00",
          "2011-05-01T00:00:00",
          "2011-06-01T00:00:00",
          "2011-07-01T00:00:00",
          "2011-08-01T00:00:00",
          "2011-09-01T00:00:00",
          "2011-10-01T00:00:00",
          "2011-11-01T00:00:00",
          "2011-12-01T00:00:00",
          "2012-01-01T00:00:00",
          "2012-02-01T00:00:00",
          "2012-03-01T00:00:00",
          "2012-04-01T00:00:00",
          "2012-05-01T00:00:00",
          "2012-06-01T00:00:00",
          "2012-07-01T00:00:00",
          "2012-08-01T00:00:00",
          "2012-09-01T00:00:00",
          "2012-10-01T00:00:00",
          "2012-11-01T00:00:00",
          "2012-12-01T00:00:00",
          "2013-01-01T00:00:00",
          "2013-02-01T00:00:00",
          "2013-03-01T00:00:00",
          "2013-04-01T00:00:00",
          "2013-05-01T00:00:00",
          "2013-06-01T00:00:00",
          "2013-07-01T00:00:00",
          "2013-08-01T00:00:00",
          "2013-09-01T00:00:00",
          "2013-10-01T00:00:00",
          "2013-11-01T00:00:00",
          "2013-12-01T00:00:00",
          "2014-01-01T00:00:00",
          "2014-02-01T00:00:00",
          "2014-03-01T00:00:00",
          "2014-04-01T00:00:00",
          "2014-05-01T00:00:00",
          "2014-06-01T00:00:00",
          "2014-07-01T00:00:00",
          "2014-08-01T00:00:00",
          "2014-09-01T00:00:00",
          "2014-10-01T00:00:00",
          "2014-11-01T00:00:00",
          "2014-12-01T00:00:00",
          "2015-01-01T00:00:00",
          "2015-02-01T00:00:00",
          "2015-03-01T00:00:00",
          "2015-04-01T00:00:00",
          "2015-05-01T00:00:00",
          "2015-06-01T00:00:00",
          "2015-07-01T00:00:00",
          "2015-08-01T00:00:00",
          "2015-09-01T00:00:00",
          "2015-10-01T00:00:00",
          "2015-11-01T00:00:00",
          "2015-12-01T00:00:00",
          "2016-01-01T00:00:00",
          "2016-02-01T00:00:00",
          "2016-03-01T00:00:00",
          "2016-04-01T00:00:00",
          "2016-05-01T00:00:00",
          "2016-06-01T00:00:00",
          "2016-07-01T00:00:00",
          "2016-08-01T00:00:00",
          "2016-09-01T00:00:00",
          "2016-10-01T00:00:00",
          "2016-11-01T00:00:00",
          "2016-12-01T00:00:00",
          "2017-01-01T00:00:00",
          "2017-02-01T00:00:00",
          "2017-03-01T00:00:00",
          "2017-04-01T00:00:00",
          "2017-05-01T00:00:00",
          "2017-06-01T00:00:00",
          "2017-07-01T00:00:00",
          "2017-08-01T00:00:00",
          "2017-09-01T00:00:00",
          "2017-10-01T00:00:00",
          "2017-11-01T00:00:00",
          "2017-12-01T00:00:00",
          "2018-01-01T00:00:00",
          "2018-02-01T00:00:00",
          "2018-03-01T00:00:00",
          "2018-04-01T00:00:00",
          "2018-05-01T00:00:00",
          "2018-06-01T00:00:00",
          "2018-07-01T00:00:00",
          "2018-08-01T00:00:00",
          "2018-09-01T00:00:00",
          "2018-10-01T00:00:00",
          "2018-11-01T00:00:00",
          "2018-12-01T00:00:00",
          "2019-01-01T00:00:00",
          "2019-02-01T00:00:00",
          "2019-03-01T00:00:00",
          "2019-04-01T00:00:00",
          "2019-05-01T00:00:00",
          "2019-06-01T00:00:00",
          "2019-07-01T00:00:00",
          "2019-08-01T00:00:00",
          "2019-09-01T00:00:00",
          "2019-10-01T00:00:00",
          "2019-11-01T00:00:00",
          "2019-12-01T00:00:00",
          "2020-01-01T00:00:00",
          "2020-02-01T00:00:00",
          "2020-03-01T00:00:00",
          "2020-04-01T00:00:00",
          "2020-05-01T00:00:00",
          "2020-06-01T00:00:00",
          "2020-07-01T00:00:00",
          "2020-08-01T00:00:00",
          "2020-09-01T00:00:00",
          "2020-10-01T00:00:00",
          "2020-11-01T00:00:00",
          "2020-12-01T00:00:00",
          "2021-01-01T00:00:00",
          "2021-02-01T00:00:00",
          "2021-03-01T00:00:00",
          "2021-04-01T00:00:00",
          "2021-05-01T00:00:00",
          "2021-06-01T00:00:00",
          "2021-07-01T00:00:00",
          "2021-08-01T00:00:00",
          "2021-09-01T00:00:00",
          "2021-10-01T00:00:00",
          "2021-11-01T00:00:00",
          "2021-12-01T00:00:00",
          "2022-01-01T00:00:00",
          "2022-02-01T00:00:00",
          "2022-03-01T00:00:00",
          "2022-04-01T00:00:00",
          "2022-05-01T00:00:00",
          "2022-06-01T00:00:00",
          "2022-07-01T00:00:00",
          "2022-08-01T00:00:00",
          "2022-09-01T00:00:00",
          "2022-10-01T00:00:00",
          "2022-11-01T00:00:00",
          "2022-12-01T00:00:00",
          "2023-01-01T00:00:00",
          "2023-02-01T00:00:00",
          "2023-03-01T00:00:00",
          "2023-04-01T00:00:00",
          "2023-05-01T00:00:00",
          "2023-06-01T00:00:00",
          "2023-07-01T00:00:00",
          "2023-08-01T00:00:00",
          "2023-09-01T00:00:00",
          "2023-10-01T00:00:00",
          "2023-11-01T00:00:00",
          "2023-12-01T00:00:00"
         ],
         "xaxis": "x",
         "y": [
          32,
          24,
          33,
          33,
          37,
          36,
          41,
          39,
          43,
          44,
          34,
          40,
          33,
          27,
          30,
          25,
          42,
          43,
          40,
          33,
          44,
          41,
          42,
          35,
          15,
          18,
          42,
          47,
          29,
          40,
          50,
          33,
          48,
          32,
          26,
          33,
          25,
          26,
          29,
          25,
          35,
          33,
          29,
          26,
          26,
          30,
          30,
          32,
          29,
          23,
          27,
          29,
          25,
          39,
          41,
          39,
          56,
          36,
          35,
          36,
          32,
          21,
          29,
          40,
          39,
          51,
          39,
          35,
          45,
          27,
          27,
          25,
          30,
          26,
          41,
          25,
          57,
          51,
          36,
          45,
          42,
          34,
          32,
          20,
          35,
          20,
          35,
          42,
          49,
          60,
          39,
          31,
          47,
          30,
          30,
          28,
          32,
          36,
          30,
          40,
          46,
          50,
          42,
          29,
          38,
          33,
          31,
          31,
          17,
          23,
          22,
          25,
          27,
          35,
          57,
          45,
          45,
          31,
          29,
          25,
          22,
          11,
          30,
          18,
          31,
          42,
          33,
          38,
          40,
          42,
          21,
          30,
          21,
          14,
          40,
          24,
          48,
          47,
          41,
          37,
          55,
          40,
          39,
          32,
          25,
          19,
          37,
          29,
          51,
          61,
          25,
          33,
          40,
          41,
          41,
          20
         ],
         "yaxis": "y"
        },
        {
         "customdata": [
          [
           "Fussgängerunfall",
           6378
          ],
          [
           "Fussgängerunfall",
           6378
          ],
          [
           "Fussgängerunfall",
           6378
          ],
          [
           "Fussgängerunfall",
           6378
          ],
          [
           "Fussgängerunfall",
           6378
          ],
          [
           "Fussgängerunfall",
           6378
          ],
          [
           "Fussgängerunfall",
           6378
          ],
          [
           "Fussgängerunfall",
           6378
          ],
          [
           "Fussgängerunfall",
           6378
          ],
          [
           "Fussgängerunfall",
           6378
          ],
          [
           "Fussgängerunfall",
           6378
          ],
          [
           "Fussgängerunfall",
           6378
          ],
          [
           "Fussgängerunfall",
           6378
          ],
          [
           "Fussgängerunfall",
           6378
          ],
          [
           "Fussgängerunfall",
           6378
          ],
          [
           "Fussgängerunfall",
           6378
          ],
          [
           "Fussgängerunfall",
           6378
          ],
          [
           "Fussgängerunfall",
           6378
          ],
          [
           "Fussgängerunfall",
           6378
          ],
          [
           "Fussgängerunfall",
           6378
          ],
          [
           "Fussgängerunfall",
           6378
          ],
          [
           "Fussgängerunfall",
           6378
          ],
          [
           "Fussgängerunfall",
           6378
          ],
          [
           "Fussgängerunfall",
           6378
          ],
          [
           "Fussgängerunfall",
           6378
          ],
          [
           "Fussgängerunfall",
           6378
          ],
          [
           "Fussgängerunfall",
           6378
          ],
          [
           "Fussgängerunfall",
           6378
          ],
          [
           "Fussgängerunfall",
           6378
          ],
          [
           "Fussgängerunfall",
           6378
          ],
          [
           "Fussgängerunfall",
           6378
          ],
          [
           "Fussgängerunfall",
           6378
          ],
          [
           "Fussgängerunfall",
           6378
          ],
          [
           "Fussgängerunfall",
           6378
          ],
          [
           "Fussgängerunfall",
           6378
          ],
          [
           "Fussgängerunfall",
           6378
          ],
          [
           "Fussgängerunfall",
           6378
          ],
          [
           "Fussgängerunfall",
           6378
          ],
          [
           "Fussgängerunfall",
           6378
          ],
          [
           "Fussgängerunfall",
           6378
          ],
          [
           "Fussgängerunfall",
           6378
          ],
          [
           "Fussgängerunfall",
           6378
          ],
          [
           "Fussgängerunfall",
           6378
          ],
          [
           "Fussgängerunfall",
           6378
          ],
          [
           "Fussgängerunfall",
           6378
          ],
          [
           "Fussgängerunfall",
           6378
          ],
          [
           "Fussgängerunfall",
           6378
          ],
          [
           "Fussgängerunfall",
           6378
          ],
          [
           "Fussgängerunfall",
           6378
          ],
          [
           "Fussgängerunfall",
           6378
          ],
          [
           "Fussgängerunfall",
           6378
          ],
          [
           "Fussgängerunfall",
           6378
          ],
          [
           "Fussgängerunfall",
           6378
          ],
          [
           "Fussgängerunfall",
           6378
          ],
          [
           "Fussgängerunfall",
           6378
          ],
          [
           "Fussgängerunfall",
           6378
          ],
          [
           "Fussgängerunfall",
           6378
          ],
          [
           "Fussgängerunfall",
           6378
          ],
          [
           "Fussgängerunfall",
           6378
          ],
          [
           "Fussgängerunfall",
           6378
          ],
          [
           "Fussgängerunfall",
           6378
          ],
          [
           "Fussgängerunfall",
           6378
          ],
          [
           "Fussgängerunfall",
           6378
          ],
          [
           "Fussgängerunfall",
           6378
          ],
          [
           "Fussgängerunfall",
           6378
          ],
          [
           "Fussgängerunfall",
           6378
          ],
          [
           "Fussgängerunfall",
           6378
          ],
          [
           "Fussgängerunfall",
           6378
          ],
          [
           "Fussgängerunfall",
           6378
          ],
          [
           "Fussgängerunfall",
           6378
          ],
          [
           "Fussgängerunfall",
           6378
          ],
          [
           "Fussgängerunfall",
           6378
          ],
          [
           "Fussgängerunfall",
           6378
          ],
          [
           "Fussgängerunfall",
           6378
          ],
          [
           "Fussgängerunfall",
           6378
          ],
          [
           "Fussgängerunfall",
           6378
          ],
          [
           "Fussgängerunfall",
           6378
          ],
          [
           "Fussgängerunfall",
           6378
          ],
          [
           "Fussgängerunfall",
           6378
          ],
          [
           "Fussgängerunfall",
           6378
          ],
          [
           "Fussgängerunfall",
           6378
          ],
          [
           "Fussgängerunfall",
           6378
          ],
          [
           "Fussgängerunfall",
           6378
          ],
          [
           "Fussgängerunfall",
           6378
          ],
          [
           "Fussgängerunfall",
           6378
          ],
          [
           "Fussgängerunfall",
           6378
          ],
          [
           "Fussgängerunfall",
           6378
          ],
          [
           "Fussgängerunfall",
           6378
          ],
          [
           "Fussgängerunfall",
           6378
          ],
          [
           "Fussgängerunfall",
           6378
          ],
          [
           "Fussgängerunfall",
           6378
          ],
          [
           "Fussgängerunfall",
           6378
          ],
          [
           "Fussgängerunfall",
           6378
          ],
          [
           "Fussgängerunfall",
           6378
          ],
          [
           "Fussgängerunfall",
           6378
          ],
          [
           "Fussgängerunfall",
           6378
          ],
          [
           "Fussgängerunfall",
           6378
          ],
          [
           "Fussgängerunfall",
           6378
          ],
          [
           "Fussgängerunfall",
           6378
          ],
          [
           "Fussgängerunfall",
           6378
          ],
          [
           "Fussgängerunfall",
           6378
          ],
          [
           "Fussgängerunfall",
           6378
          ],
          [
           "Fussgängerunfall",
           6378
          ],
          [
           "Fussgängerunfall",
           6378
          ],
          [
           "Fussgängerunfall",
           6378
          ],
          [
           "Fussgängerunfall",
           6378
          ],
          [
           "Fussgängerunfall",
           6378
          ],
          [
           "Fussgängerunfall",
           6378
          ],
          [
           "Fussgängerunfall",
           6378
          ],
          [
           "Fussgängerunfall",
           6378
          ],
          [
           "Fussgängerunfall",
           6378
          ],
          [
           "Fussgängerunfall",
           6378
          ],
          [
           "Fussgängerunfall",
           6378
          ],
          [
           "Fussgängerunfall",
           6378
          ],
          [
           "Fussgängerunfall",
           6378
          ],
          [
           "Fussgängerunfall",
           6378
          ],
          [
           "Fussgängerunfall",
           6378
          ],
          [
           "Fussgängerunfall",
           6378
          ],
          [
           "Fussgängerunfall",
           6378
          ],
          [
           "Fussgängerunfall",
           6378
          ],
          [
           "Fussgängerunfall",
           6378
          ],
          [
           "Fussgängerunfall",
           6378
          ],
          [
           "Fussgängerunfall",
           6378
          ],
          [
           "Fussgängerunfall",
           6378
          ],
          [
           "Fussgängerunfall",
           6378
          ],
          [
           "Fussgängerunfall",
           6378
          ],
          [
           "Fussgängerunfall",
           6378
          ],
          [
           "Fussgängerunfall",
           6378
          ],
          [
           "Fussgängerunfall",
           6378
          ],
          [
           "Fussgängerunfall",
           6378
          ],
          [
           "Fussgängerunfall",
           6378
          ],
          [
           "Fussgängerunfall",
           6378
          ],
          [
           "Fussgängerunfall",
           6378
          ],
          [
           "Fussgängerunfall",
           6378
          ],
          [
           "Fussgängerunfall",
           6378
          ],
          [
           "Fussgängerunfall",
           6378
          ],
          [
           "Fussgängerunfall",
           6378
          ],
          [
           "Fussgängerunfall",
           6378
          ],
          [
           "Fussgängerunfall",
           6378
          ],
          [
           "Fussgängerunfall",
           6378
          ],
          [
           "Fussgängerunfall",
           6378
          ],
          [
           "Fussgängerunfall",
           6378
          ],
          [
           "Fussgängerunfall",
           6378
          ],
          [
           "Fussgängerunfall",
           6378
          ],
          [
           "Fussgängerunfall",
           6378
          ],
          [
           "Fussgängerunfall",
           6378
          ],
          [
           "Fussgängerunfall",
           6378
          ],
          [
           "Fussgängerunfall",
           6378
          ],
          [
           "Fussgängerunfall",
           6378
          ],
          [
           "Fussgängerunfall",
           6378
          ],
          [
           "Fussgängerunfall",
           6378
          ],
          [
           "Fussgängerunfall",
           6378
          ],
          [
           "Fussgängerunfall",
           6378
          ],
          [
           "Fussgängerunfall",
           6378
          ],
          [
           "Fussgängerunfall",
           6378
          ],
          [
           "Fussgängerunfall",
           6378
          ]
         ],
         "fillpattern": {
          "shape": ""
         },
         "hoverlabel": {
          "bgcolor": "#1f77b4",
          "bordercolor": "black",
          "font": {
           "color": "black",
           "family": "Arial",
           "size": 12
          }
         },
         "hovertemplate": "AccidentType_de=%{customdata[0]}<br>Jahr=%{x}<br>Anzahl der Unfälle=%{y}<br>GesamtUnfälle=%{customdata[1]}<extra></extra>",
         "legendgroup": "Fussgängerunfall",
         "line": {
          "color": "#7f7f7f",
          "dash": "solid",
          "shape": "spline",
          "width": 1
         },
         "marker": {
          "symbol": "circle"
         },
         "mode": "lines",
         "name": "Fussgängerunfall",
         "opacity": 0.6,
         "orientation": "v",
         "showlegend": true,
         "stackgroup": "1",
         "type": "scatter",
         "x": [
          "2011-01-01T00:00:00",
          "2011-02-01T00:00:00",
          "2011-03-01T00:00:00",
          "2011-04-01T00:00:00",
          "2011-05-01T00:00:00",
          "2011-06-01T00:00:00",
          "2011-07-01T00:00:00",
          "2011-08-01T00:00:00",
          "2011-09-01T00:00:00",
          "2011-10-01T00:00:00",
          "2011-11-01T00:00:00",
          "2011-12-01T00:00:00",
          "2012-01-01T00:00:00",
          "2012-02-01T00:00:00",
          "2012-03-01T00:00:00",
          "2012-04-01T00:00:00",
          "2012-05-01T00:00:00",
          "2012-06-01T00:00:00",
          "2012-07-01T00:00:00",
          "2012-08-01T00:00:00",
          "2012-09-01T00:00:00",
          "2012-10-01T00:00:00",
          "2012-11-01T00:00:00",
          "2012-12-01T00:00:00",
          "2013-01-01T00:00:00",
          "2013-02-01T00:00:00",
          "2013-03-01T00:00:00",
          "2013-04-01T00:00:00",
          "2013-05-01T00:00:00",
          "2013-06-01T00:00:00",
          "2013-07-01T00:00:00",
          "2013-08-01T00:00:00",
          "2013-09-01T00:00:00",
          "2013-10-01T00:00:00",
          "2013-11-01T00:00:00",
          "2013-12-01T00:00:00",
          "2014-01-01T00:00:00",
          "2014-02-01T00:00:00",
          "2014-03-01T00:00:00",
          "2014-04-01T00:00:00",
          "2014-05-01T00:00:00",
          "2014-06-01T00:00:00",
          "2014-07-01T00:00:00",
          "2014-08-01T00:00:00",
          "2014-09-01T00:00:00",
          "2014-10-01T00:00:00",
          "2014-11-01T00:00:00",
          "2014-12-01T00:00:00",
          "2015-01-01T00:00:00",
          "2015-02-01T00:00:00",
          "2015-03-01T00:00:00",
          "2015-04-01T00:00:00",
          "2015-05-01T00:00:00",
          "2015-06-01T00:00:00",
          "2015-07-01T00:00:00",
          "2015-08-01T00:00:00",
          "2015-09-01T00:00:00",
          "2015-10-01T00:00:00",
          "2015-11-01T00:00:00",
          "2015-12-01T00:00:00",
          "2016-01-01T00:00:00",
          "2016-02-01T00:00:00",
          "2016-03-01T00:00:00",
          "2016-04-01T00:00:00",
          "2016-05-01T00:00:00",
          "2016-06-01T00:00:00",
          "2016-07-01T00:00:00",
          "2016-08-01T00:00:00",
          "2016-09-01T00:00:00",
          "2016-10-01T00:00:00",
          "2016-11-01T00:00:00",
          "2016-12-01T00:00:00",
          "2017-01-01T00:00:00",
          "2017-02-01T00:00:00",
          "2017-03-01T00:00:00",
          "2017-04-01T00:00:00",
          "2017-05-01T00:00:00",
          "2017-06-01T00:00:00",
          "2017-07-01T00:00:00",
          "2017-08-01T00:00:00",
          "2017-09-01T00:00:00",
          "2017-10-01T00:00:00",
          "2017-11-01T00:00:00",
          "2017-12-01T00:00:00",
          "2018-01-01T00:00:00",
          "2018-02-01T00:00:00",
          "2018-03-01T00:00:00",
          "2018-04-01T00:00:00",
          "2018-05-01T00:00:00",
          "2018-06-01T00:00:00",
          "2018-07-01T00:00:00",
          "2018-08-01T00:00:00",
          "2018-09-01T00:00:00",
          "2018-10-01T00:00:00",
          "2018-11-01T00:00:00",
          "2018-12-01T00:00:00",
          "2019-01-01T00:00:00",
          "2019-02-01T00:00:00",
          "2019-03-01T00:00:00",
          "2019-04-01T00:00:00",
          "2019-05-01T00:00:00",
          "2019-06-01T00:00:00",
          "2019-07-01T00:00:00",
          "2019-08-01T00:00:00",
          "2019-09-01T00:00:00",
          "2019-10-01T00:00:00",
          "2019-11-01T00:00:00",
          "2019-12-01T00:00:00",
          "2020-01-01T00:00:00",
          "2020-02-01T00:00:00",
          "2020-03-01T00:00:00",
          "2020-04-01T00:00:00",
          "2020-05-01T00:00:00",
          "2020-06-01T00:00:00",
          "2020-07-01T00:00:00",
          "2020-08-01T00:00:00",
          "2020-09-01T00:00:00",
          "2020-10-01T00:00:00",
          "2020-11-01T00:00:00",
          "2020-12-01T00:00:00",
          "2021-01-01T00:00:00",
          "2021-02-01T00:00:00",
          "2021-03-01T00:00:00",
          "2021-04-01T00:00:00",
          "2021-05-01T00:00:00",
          "2021-06-01T00:00:00",
          "2021-07-01T00:00:00",
          "2021-08-01T00:00:00",
          "2021-09-01T00:00:00",
          "2021-10-01T00:00:00",
          "2021-11-01T00:00:00",
          "2021-12-01T00:00:00",
          "2022-01-01T00:00:00",
          "2022-02-01T00:00:00",
          "2022-03-01T00:00:00",
          "2022-04-01T00:00:00",
          "2022-05-01T00:00:00",
          "2022-06-01T00:00:00",
          "2022-07-01T00:00:00",
          "2022-08-01T00:00:00",
          "2022-09-01T00:00:00",
          "2022-10-01T00:00:00",
          "2022-11-01T00:00:00",
          "2022-12-01T00:00:00",
          "2023-01-01T00:00:00",
          "2023-02-01T00:00:00",
          "2023-03-01T00:00:00",
          "2023-04-01T00:00:00",
          "2023-05-01T00:00:00",
          "2023-06-01T00:00:00",
          "2023-07-01T00:00:00",
          "2023-08-01T00:00:00",
          "2023-09-01T00:00:00",
          "2023-10-01T00:00:00",
          "2023-11-01T00:00:00",
          "2023-12-01T00:00:00"
         ],
         "xaxis": "x",
         "y": [
          28,
          26,
          28,
          36,
          33,
          33,
          22,
          34,
          47,
          49,
          37,
          65,
          48,
          32,
          42,
          21,
          38,
          40,
          33,
          38,
          28,
          36,
          52,
          47,
          31,
          22,
          38,
          28,
          40,
          50,
          30,
          27,
          29,
          31,
          55,
          39,
          40,
          34,
          44,
          44,
          29,
          45,
          30,
          34,
          42,
          39,
          55,
          42,
          43,
          28,
          38,
          32,
          33,
          37,
          31,
          40,
          48,
          36,
          58,
          58,
          44,
          51,
          26,
          44,
          37,
          42,
          35,
          32,
          48,
          32,
          65,
          49,
          42,
          37,
          55,
          58,
          46,
          44,
          39,
          34,
          49,
          37,
          69,
          61,
          49,
          28,
          46,
          40,
          36,
          45,
          38,
          33,
          48,
          39,
          43,
          66,
          39,
          38,
          44,
          43,
          32,
          55,
          37,
          50,
          47,
          48,
          58,
          57,
          38,
          50,
          23,
          22,
          29,
          48,
          35,
          43,
          43,
          37,
          35,
          38,
          28,
          27,
          41,
          45,
          36,
          43,
          25,
          29,
          48,
          35,
          44,
          60,
          32,
          35,
          31,
          44,
          55,
          42,
          36,
          34,
          54,
          55,
          47,
          49,
          40,
          26,
          38,
          32,
          48,
          51,
          33,
          45,
          56,
          52,
          79,
          54
         ],
         "yaxis": "y"
        },
        {
         "customdata": [
          [
           "Tierunfall",
           3662
          ],
          [
           "Tierunfall",
           3662
          ],
          [
           "Tierunfall",
           3662
          ],
          [
           "Tierunfall",
           3662
          ],
          [
           "Tierunfall",
           3662
          ],
          [
           "Tierunfall",
           3662
          ],
          [
           "Tierunfall",
           3662
          ],
          [
           "Tierunfall",
           3662
          ],
          [
           "Tierunfall",
           3662
          ],
          [
           "Tierunfall",
           3662
          ],
          [
           "Tierunfall",
           3662
          ],
          [
           "Tierunfall",
           3662
          ],
          [
           "Tierunfall",
           3662
          ],
          [
           "Tierunfall",
           3662
          ],
          [
           "Tierunfall",
           3662
          ],
          [
           "Tierunfall",
           3662
          ],
          [
           "Tierunfall",
           3662
          ],
          [
           "Tierunfall",
           3662
          ],
          [
           "Tierunfall",
           3662
          ],
          [
           "Tierunfall",
           3662
          ],
          [
           "Tierunfall",
           3662
          ],
          [
           "Tierunfall",
           3662
          ],
          [
           "Tierunfall",
           3662
          ],
          [
           "Tierunfall",
           3662
          ],
          [
           "Tierunfall",
           3662
          ],
          [
           "Tierunfall",
           3662
          ],
          [
           "Tierunfall",
           3662
          ],
          [
           "Tierunfall",
           3662
          ],
          [
           "Tierunfall",
           3662
          ],
          [
           "Tierunfall",
           3662
          ],
          [
           "Tierunfall",
           3662
          ],
          [
           "Tierunfall",
           3662
          ],
          [
           "Tierunfall",
           3662
          ],
          [
           "Tierunfall",
           3662
          ],
          [
           "Tierunfall",
           3662
          ],
          [
           "Tierunfall",
           3662
          ],
          [
           "Tierunfall",
           3662
          ],
          [
           "Tierunfall",
           3662
          ],
          [
           "Tierunfall",
           3662
          ],
          [
           "Tierunfall",
           3662
          ],
          [
           "Tierunfall",
           3662
          ],
          [
           "Tierunfall",
           3662
          ],
          [
           "Tierunfall",
           3662
          ],
          [
           "Tierunfall",
           3662
          ],
          [
           "Tierunfall",
           3662
          ],
          [
           "Tierunfall",
           3662
          ],
          [
           "Tierunfall",
           3662
          ],
          [
           "Tierunfall",
           3662
          ],
          [
           "Tierunfall",
           3662
          ],
          [
           "Tierunfall",
           3662
          ],
          [
           "Tierunfall",
           3662
          ],
          [
           "Tierunfall",
           3662
          ],
          [
           "Tierunfall",
           3662
          ],
          [
           "Tierunfall",
           3662
          ],
          [
           "Tierunfall",
           3662
          ],
          [
           "Tierunfall",
           3662
          ],
          [
           "Tierunfall",
           3662
          ],
          [
           "Tierunfall",
           3662
          ],
          [
           "Tierunfall",
           3662
          ],
          [
           "Tierunfall",
           3662
          ],
          [
           "Tierunfall",
           3662
          ],
          [
           "Tierunfall",
           3662
          ],
          [
           "Tierunfall",
           3662
          ],
          [
           "Tierunfall",
           3662
          ],
          [
           "Tierunfall",
           3662
          ],
          [
           "Tierunfall",
           3662
          ],
          [
           "Tierunfall",
           3662
          ],
          [
           "Tierunfall",
           3662
          ],
          [
           "Tierunfall",
           3662
          ],
          [
           "Tierunfall",
           3662
          ],
          [
           "Tierunfall",
           3662
          ],
          [
           "Tierunfall",
           3662
          ],
          [
           "Tierunfall",
           3662
          ],
          [
           "Tierunfall",
           3662
          ],
          [
           "Tierunfall",
           3662
          ],
          [
           "Tierunfall",
           3662
          ],
          [
           "Tierunfall",
           3662
          ],
          [
           "Tierunfall",
           3662
          ],
          [
           "Tierunfall",
           3662
          ],
          [
           "Tierunfall",
           3662
          ],
          [
           "Tierunfall",
           3662
          ],
          [
           "Tierunfall",
           3662
          ],
          [
           "Tierunfall",
           3662
          ],
          [
           "Tierunfall",
           3662
          ],
          [
           "Tierunfall",
           3662
          ],
          [
           "Tierunfall",
           3662
          ],
          [
           "Tierunfall",
           3662
          ],
          [
           "Tierunfall",
           3662
          ],
          [
           "Tierunfall",
           3662
          ],
          [
           "Tierunfall",
           3662
          ],
          [
           "Tierunfall",
           3662
          ],
          [
           "Tierunfall",
           3662
          ],
          [
           "Tierunfall",
           3662
          ],
          [
           "Tierunfall",
           3662
          ],
          [
           "Tierunfall",
           3662
          ],
          [
           "Tierunfall",
           3662
          ],
          [
           "Tierunfall",
           3662
          ],
          [
           "Tierunfall",
           3662
          ],
          [
           "Tierunfall",
           3662
          ],
          [
           "Tierunfall",
           3662
          ],
          [
           "Tierunfall",
           3662
          ],
          [
           "Tierunfall",
           3662
          ],
          [
           "Tierunfall",
           3662
          ],
          [
           "Tierunfall",
           3662
          ],
          [
           "Tierunfall",
           3662
          ],
          [
           "Tierunfall",
           3662
          ],
          [
           "Tierunfall",
           3662
          ],
          [
           "Tierunfall",
           3662
          ],
          [
           "Tierunfall",
           3662
          ],
          [
           "Tierunfall",
           3662
          ],
          [
           "Tierunfall",
           3662
          ],
          [
           "Tierunfall",
           3662
          ],
          [
           "Tierunfall",
           3662
          ],
          [
           "Tierunfall",
           3662
          ],
          [
           "Tierunfall",
           3662
          ],
          [
           "Tierunfall",
           3662
          ],
          [
           "Tierunfall",
           3662
          ],
          [
           "Tierunfall",
           3662
          ],
          [
           "Tierunfall",
           3662
          ],
          [
           "Tierunfall",
           3662
          ],
          [
           "Tierunfall",
           3662
          ],
          [
           "Tierunfall",
           3662
          ],
          [
           "Tierunfall",
           3662
          ],
          [
           "Tierunfall",
           3662
          ],
          [
           "Tierunfall",
           3662
          ],
          [
           "Tierunfall",
           3662
          ],
          [
           "Tierunfall",
           3662
          ],
          [
           "Tierunfall",
           3662
          ],
          [
           "Tierunfall",
           3662
          ],
          [
           "Tierunfall",
           3662
          ],
          [
           "Tierunfall",
           3662
          ],
          [
           "Tierunfall",
           3662
          ],
          [
           "Tierunfall",
           3662
          ],
          [
           "Tierunfall",
           3662
          ],
          [
           "Tierunfall",
           3662
          ],
          [
           "Tierunfall",
           3662
          ],
          [
           "Tierunfall",
           3662
          ],
          [
           "Tierunfall",
           3662
          ],
          [
           "Tierunfall",
           3662
          ],
          [
           "Tierunfall",
           3662
          ],
          [
           "Tierunfall",
           3662
          ],
          [
           "Tierunfall",
           3662
          ],
          [
           "Tierunfall",
           3662
          ],
          [
           "Tierunfall",
           3662
          ],
          [
           "Tierunfall",
           3662
          ],
          [
           "Tierunfall",
           3662
          ],
          [
           "Tierunfall",
           3662
          ],
          [
           "Tierunfall",
           3662
          ],
          [
           "Tierunfall",
           3662
          ],
          [
           "Tierunfall",
           3662
          ],
          [
           "Tierunfall",
           3662
          ],
          [
           "Tierunfall",
           3662
          ],
          [
           "Tierunfall",
           3662
          ],
          [
           "Tierunfall",
           3662
          ],
          [
           "Tierunfall",
           3662
          ],
          [
           "Tierunfall",
           3662
          ]
         ],
         "fillpattern": {
          "shape": ""
         },
         "hoverlabel": {
          "bgcolor": "#1f77b4",
          "bordercolor": "black",
          "font": {
           "color": "black",
           "family": "Arial",
           "size": 12
          }
         },
         "hovertemplate": "AccidentType_de=%{customdata[0]}<br>Jahr=%{x}<br>Anzahl der Unfälle=%{y}<br>GesamtUnfälle=%{customdata[1]}<extra></extra>",
         "legendgroup": "Tierunfall",
         "line": {
          "color": "#bcbd22",
          "dash": "solid",
          "shape": "spline",
          "width": 1
         },
         "marker": {
          "symbol": "circle"
         },
         "mode": "lines",
         "name": "Tierunfall",
         "opacity": 0.6,
         "orientation": "v",
         "showlegend": true,
         "stackgroup": "1",
         "type": "scatter",
         "x": [
          "2011-01-01T00:00:00",
          "2011-02-01T00:00:00",
          "2011-03-01T00:00:00",
          "2011-04-01T00:00:00",
          "2011-05-01T00:00:00",
          "2011-06-01T00:00:00",
          "2011-07-01T00:00:00",
          "2011-08-01T00:00:00",
          "2011-09-01T00:00:00",
          "2011-10-01T00:00:00",
          "2011-11-01T00:00:00",
          "2011-12-01T00:00:00",
          "2012-01-01T00:00:00",
          "2012-02-01T00:00:00",
          "2012-03-01T00:00:00",
          "2012-04-01T00:00:00",
          "2012-05-01T00:00:00",
          "2012-06-01T00:00:00",
          "2012-07-01T00:00:00",
          "2012-08-01T00:00:00",
          "2012-09-01T00:00:00",
          "2012-10-01T00:00:00",
          "2012-11-01T00:00:00",
          "2012-12-01T00:00:00",
          "2013-01-01T00:00:00",
          "2013-02-01T00:00:00",
          "2013-03-01T00:00:00",
          "2013-04-01T00:00:00",
          "2013-05-01T00:00:00",
          "2013-06-01T00:00:00",
          "2013-07-01T00:00:00",
          "2013-08-01T00:00:00",
          "2013-09-01T00:00:00",
          "2013-10-01T00:00:00",
          "2013-11-01T00:00:00",
          "2013-12-01T00:00:00",
          "2014-01-01T00:00:00",
          "2014-02-01T00:00:00",
          "2014-03-01T00:00:00",
          "2014-04-01T00:00:00",
          "2014-05-01T00:00:00",
          "2014-06-01T00:00:00",
          "2014-07-01T00:00:00",
          "2014-08-01T00:00:00",
          "2014-09-01T00:00:00",
          "2014-10-01T00:00:00",
          "2014-11-01T00:00:00",
          "2014-12-01T00:00:00",
          "2015-01-01T00:00:00",
          "2015-02-01T00:00:00",
          "2015-03-01T00:00:00",
          "2015-04-01T00:00:00",
          "2015-05-01T00:00:00",
          "2015-06-01T00:00:00",
          "2015-07-01T00:00:00",
          "2015-08-01T00:00:00",
          "2015-09-01T00:00:00",
          "2015-10-01T00:00:00",
          "2015-11-01T00:00:00",
          "2015-12-01T00:00:00",
          "2016-01-01T00:00:00",
          "2016-02-01T00:00:00",
          "2016-03-01T00:00:00",
          "2016-04-01T00:00:00",
          "2016-05-01T00:00:00",
          "2016-06-01T00:00:00",
          "2016-07-01T00:00:00",
          "2016-08-01T00:00:00",
          "2016-09-01T00:00:00",
          "2016-10-01T00:00:00",
          "2016-11-01T00:00:00",
          "2016-12-01T00:00:00",
          "2017-01-01T00:00:00",
          "2017-02-01T00:00:00",
          "2017-03-01T00:00:00",
          "2017-04-01T00:00:00",
          "2017-05-01T00:00:00",
          "2017-06-01T00:00:00",
          "2017-07-01T00:00:00",
          "2017-08-01T00:00:00",
          "2017-09-01T00:00:00",
          "2017-10-01T00:00:00",
          "2017-11-01T00:00:00",
          "2017-12-01T00:00:00",
          "2018-01-01T00:00:00",
          "2018-02-01T00:00:00",
          "2018-03-01T00:00:00",
          "2018-04-01T00:00:00",
          "2018-05-01T00:00:00",
          "2018-06-01T00:00:00",
          "2018-07-01T00:00:00",
          "2018-08-01T00:00:00",
          "2018-09-01T00:00:00",
          "2018-10-01T00:00:00",
          "2018-11-01T00:00:00",
          "2018-12-01T00:00:00",
          "2019-01-01T00:00:00",
          "2019-02-01T00:00:00",
          "2019-03-01T00:00:00",
          "2019-04-01T00:00:00",
          "2019-05-01T00:00:00",
          "2019-06-01T00:00:00",
          "2019-07-01T00:00:00",
          "2019-08-01T00:00:00",
          "2019-09-01T00:00:00",
          "2019-10-01T00:00:00",
          "2019-11-01T00:00:00",
          "2019-12-01T00:00:00",
          "2020-01-01T00:00:00",
          "2020-02-01T00:00:00",
          "2020-03-01T00:00:00",
          "2020-04-01T00:00:00",
          "2020-05-01T00:00:00",
          "2020-06-01T00:00:00",
          "2020-07-01T00:00:00",
          "2020-08-01T00:00:00",
          "2020-09-01T00:00:00",
          "2020-10-01T00:00:00",
          "2020-11-01T00:00:00",
          "2020-12-01T00:00:00",
          "2021-01-01T00:00:00",
          "2021-02-01T00:00:00",
          "2021-03-01T00:00:00",
          "2021-04-01T00:00:00",
          "2021-05-01T00:00:00",
          "2021-06-01T00:00:00",
          "2021-07-01T00:00:00",
          "2021-08-01T00:00:00",
          "2021-09-01T00:00:00",
          "2021-10-01T00:00:00",
          "2021-11-01T00:00:00",
          "2021-12-01T00:00:00",
          "2022-01-01T00:00:00",
          "2022-02-01T00:00:00",
          "2022-03-01T00:00:00",
          "2022-04-01T00:00:00",
          "2022-05-01T00:00:00",
          "2022-06-01T00:00:00",
          "2022-07-01T00:00:00",
          "2022-08-01T00:00:00",
          "2022-09-01T00:00:00",
          "2022-10-01T00:00:00",
          "2022-11-01T00:00:00",
          "2022-12-01T00:00:00",
          "2023-01-01T00:00:00",
          "2023-02-01T00:00:00",
          "2023-03-01T00:00:00",
          "2023-04-01T00:00:00",
          "2023-05-01T00:00:00",
          "2023-06-01T00:00:00",
          "2023-07-01T00:00:00",
          "2023-08-01T00:00:00",
          "2023-09-01T00:00:00",
          "2023-10-01T00:00:00",
          "2023-11-01T00:00:00",
          "2023-12-01T00:00:00"
         ],
         "xaxis": "x",
         "y": [
          23,
          19,
          13,
          18,
          18,
          15,
          15,
          12,
          12,
          18,
          17,
          20,
          13,
          7,
          13,
          18,
          29,
          19,
          12,
          23,
          20,
          20,
          23,
          15,
          16,
          11,
          15,
          13,
          22,
          13,
          15,
          24,
          12,
          16,
          14,
          8,
          17,
          12,
          26,
          27,
          17,
          22,
          20,
          19,
          23,
          23,
          21,
          21,
          25,
          23,
          13,
          39,
          31,
          17,
          25,
          21,
          35,
          35,
          22,
          17,
          31,
          18,
          16,
          27,
          23,
          23,
          22,
          20,
          20,
          35,
          13,
          32,
          24,
          26,
          21,
          21,
          25,
          27,
          24,
          21,
          30,
          31,
          29,
          16,
          31,
          19,
          20,
          37,
          18,
          23,
          25,
          25,
          28,
          19,
          23,
          28,
          35,
          25,
          22,
          28,
          29,
          25,
          24,
          16,
          15,
          31,
          29,
          22,
          42,
          24,
          26,
          24,
          35,
          20,
          28,
          24,
          27,
          30,
          28,
          20,
          17,
          28,
          22,
          35,
          30,
          29,
          31,
          29,
          31,
          36,
          35,
          31,
          27,
          31,
          29,
          45,
          30,
          26,
          26,
          28,
          33,
          27,
          27,
          27,
          21,
          30,
          31,
          34,
          19,
          26,
          28,
          17,
          24,
          31,
          30,
          19
         ],
         "yaxis": "y"
        },
        {
         "customdata": [
          [
           "Frontalkollision",
           2419
          ],
          [
           "Frontalkollision",
           2419
          ],
          [
           "Frontalkollision",
           2419
          ],
          [
           "Frontalkollision",
           2419
          ],
          [
           "Frontalkollision",
           2419
          ],
          [
           "Frontalkollision",
           2419
          ],
          [
           "Frontalkollision",
           2419
          ],
          [
           "Frontalkollision",
           2419
          ],
          [
           "Frontalkollision",
           2419
          ],
          [
           "Frontalkollision",
           2419
          ],
          [
           "Frontalkollision",
           2419
          ],
          [
           "Frontalkollision",
           2419
          ],
          [
           "Frontalkollision",
           2419
          ],
          [
           "Frontalkollision",
           2419
          ],
          [
           "Frontalkollision",
           2419
          ],
          [
           "Frontalkollision",
           2419
          ],
          [
           "Frontalkollision",
           2419
          ],
          [
           "Frontalkollision",
           2419
          ],
          [
           "Frontalkollision",
           2419
          ],
          [
           "Frontalkollision",
           2419
          ],
          [
           "Frontalkollision",
           2419
          ],
          [
           "Frontalkollision",
           2419
          ],
          [
           "Frontalkollision",
           2419
          ],
          [
           "Frontalkollision",
           2419
          ],
          [
           "Frontalkollision",
           2419
          ],
          [
           "Frontalkollision",
           2419
          ],
          [
           "Frontalkollision",
           2419
          ],
          [
           "Frontalkollision",
           2419
          ],
          [
           "Frontalkollision",
           2419
          ],
          [
           "Frontalkollision",
           2419
          ],
          [
           "Frontalkollision",
           2419
          ],
          [
           "Frontalkollision",
           2419
          ],
          [
           "Frontalkollision",
           2419
          ],
          [
           "Frontalkollision",
           2419
          ],
          [
           "Frontalkollision",
           2419
          ],
          [
           "Frontalkollision",
           2419
          ],
          [
           "Frontalkollision",
           2419
          ],
          [
           "Frontalkollision",
           2419
          ],
          [
           "Frontalkollision",
           2419
          ],
          [
           "Frontalkollision",
           2419
          ],
          [
           "Frontalkollision",
           2419
          ],
          [
           "Frontalkollision",
           2419
          ],
          [
           "Frontalkollision",
           2419
          ],
          [
           "Frontalkollision",
           2419
          ],
          [
           "Frontalkollision",
           2419
          ],
          [
           "Frontalkollision",
           2419
          ],
          [
           "Frontalkollision",
           2419
          ],
          [
           "Frontalkollision",
           2419
          ],
          [
           "Frontalkollision",
           2419
          ],
          [
           "Frontalkollision",
           2419
          ],
          [
           "Frontalkollision",
           2419
          ],
          [
           "Frontalkollision",
           2419
          ],
          [
           "Frontalkollision",
           2419
          ],
          [
           "Frontalkollision",
           2419
          ],
          [
           "Frontalkollision",
           2419
          ],
          [
           "Frontalkollision",
           2419
          ],
          [
           "Frontalkollision",
           2419
          ],
          [
           "Frontalkollision",
           2419
          ],
          [
           "Frontalkollision",
           2419
          ],
          [
           "Frontalkollision",
           2419
          ],
          [
           "Frontalkollision",
           2419
          ],
          [
           "Frontalkollision",
           2419
          ],
          [
           "Frontalkollision",
           2419
          ],
          [
           "Frontalkollision",
           2419
          ],
          [
           "Frontalkollision",
           2419
          ],
          [
           "Frontalkollision",
           2419
          ],
          [
           "Frontalkollision",
           2419
          ],
          [
           "Frontalkollision",
           2419
          ],
          [
           "Frontalkollision",
           2419
          ],
          [
           "Frontalkollision",
           2419
          ],
          [
           "Frontalkollision",
           2419
          ],
          [
           "Frontalkollision",
           2419
          ],
          [
           "Frontalkollision",
           2419
          ],
          [
           "Frontalkollision",
           2419
          ],
          [
           "Frontalkollision",
           2419
          ],
          [
           "Frontalkollision",
           2419
          ],
          [
           "Frontalkollision",
           2419
          ],
          [
           "Frontalkollision",
           2419
          ],
          [
           "Frontalkollision",
           2419
          ],
          [
           "Frontalkollision",
           2419
          ],
          [
           "Frontalkollision",
           2419
          ],
          [
           "Frontalkollision",
           2419
          ],
          [
           "Frontalkollision",
           2419
          ],
          [
           "Frontalkollision",
           2419
          ],
          [
           "Frontalkollision",
           2419
          ],
          [
           "Frontalkollision",
           2419
          ],
          [
           "Frontalkollision",
           2419
          ],
          [
           "Frontalkollision",
           2419
          ],
          [
           "Frontalkollision",
           2419
          ],
          [
           "Frontalkollision",
           2419
          ],
          [
           "Frontalkollision",
           2419
          ],
          [
           "Frontalkollision",
           2419
          ],
          [
           "Frontalkollision",
           2419
          ],
          [
           "Frontalkollision",
           2419
          ],
          [
           "Frontalkollision",
           2419
          ],
          [
           "Frontalkollision",
           2419
          ],
          [
           "Frontalkollision",
           2419
          ],
          [
           "Frontalkollision",
           2419
          ],
          [
           "Frontalkollision",
           2419
          ],
          [
           "Frontalkollision",
           2419
          ],
          [
           "Frontalkollision",
           2419
          ],
          [
           "Frontalkollision",
           2419
          ],
          [
           "Frontalkollision",
           2419
          ],
          [
           "Frontalkollision",
           2419
          ],
          [
           "Frontalkollision",
           2419
          ],
          [
           "Frontalkollision",
           2419
          ],
          [
           "Frontalkollision",
           2419
          ],
          [
           "Frontalkollision",
           2419
          ],
          [
           "Frontalkollision",
           2419
          ],
          [
           "Frontalkollision",
           2419
          ],
          [
           "Frontalkollision",
           2419
          ],
          [
           "Frontalkollision",
           2419
          ],
          [
           "Frontalkollision",
           2419
          ],
          [
           "Frontalkollision",
           2419
          ],
          [
           "Frontalkollision",
           2419
          ],
          [
           "Frontalkollision",
           2419
          ],
          [
           "Frontalkollision",
           2419
          ],
          [
           "Frontalkollision",
           2419
          ],
          [
           "Frontalkollision",
           2419
          ],
          [
           "Frontalkollision",
           2419
          ],
          [
           "Frontalkollision",
           2419
          ],
          [
           "Frontalkollision",
           2419
          ],
          [
           "Frontalkollision",
           2419
          ],
          [
           "Frontalkollision",
           2419
          ],
          [
           "Frontalkollision",
           2419
          ],
          [
           "Frontalkollision",
           2419
          ],
          [
           "Frontalkollision",
           2419
          ],
          [
           "Frontalkollision",
           2419
          ],
          [
           "Frontalkollision",
           2419
          ],
          [
           "Frontalkollision",
           2419
          ],
          [
           "Frontalkollision",
           2419
          ],
          [
           "Frontalkollision",
           2419
          ],
          [
           "Frontalkollision",
           2419
          ],
          [
           "Frontalkollision",
           2419
          ],
          [
           "Frontalkollision",
           2419
          ],
          [
           "Frontalkollision",
           2419
          ],
          [
           "Frontalkollision",
           2419
          ],
          [
           "Frontalkollision",
           2419
          ],
          [
           "Frontalkollision",
           2419
          ],
          [
           "Frontalkollision",
           2419
          ],
          [
           "Frontalkollision",
           2419
          ],
          [
           "Frontalkollision",
           2419
          ],
          [
           "Frontalkollision",
           2419
          ],
          [
           "Frontalkollision",
           2419
          ],
          [
           "Frontalkollision",
           2419
          ],
          [
           "Frontalkollision",
           2419
          ],
          [
           "Frontalkollision",
           2419
          ],
          [
           "Frontalkollision",
           2419
          ],
          [
           "Frontalkollision",
           2419
          ],
          [
           "Frontalkollision",
           2419
          ],
          [
           "Frontalkollision",
           2419
          ],
          [
           "Frontalkollision",
           2419
          ],
          [
           "Frontalkollision",
           2419
          ],
          [
           "Frontalkollision",
           2419
          ],
          [
           "Frontalkollision",
           2419
          ],
          [
           "Frontalkollision",
           2419
          ]
         ],
         "fillpattern": {
          "shape": ""
         },
         "hoverlabel": {
          "bgcolor": "#1f77b4",
          "bordercolor": "black",
          "font": {
           "color": "black",
           "family": "Arial",
           "size": 12
          }
         },
         "hovertemplate": "AccidentType_de=%{customdata[0]}<br>Jahr=%{x}<br>Anzahl der Unfälle=%{y}<br>GesamtUnfälle=%{customdata[1]}<extra></extra>",
         "legendgroup": "Frontalkollision",
         "line": {
          "color": "#17becf",
          "dash": "solid",
          "shape": "spline",
          "width": 1
         },
         "marker": {
          "symbol": "circle"
         },
         "mode": "lines",
         "name": "Frontalkollision",
         "opacity": 0.6,
         "orientation": "v",
         "showlegend": true,
         "stackgroup": "1",
         "type": "scatter",
         "x": [
          "2011-01-01T00:00:00",
          "2011-02-01T00:00:00",
          "2011-03-01T00:00:00",
          "2011-04-01T00:00:00",
          "2011-05-01T00:00:00",
          "2011-06-01T00:00:00",
          "2011-07-01T00:00:00",
          "2011-08-01T00:00:00",
          "2011-09-01T00:00:00",
          "2011-10-01T00:00:00",
          "2011-11-01T00:00:00",
          "2011-12-01T00:00:00",
          "2012-01-01T00:00:00",
          "2012-02-01T00:00:00",
          "2012-03-01T00:00:00",
          "2012-04-01T00:00:00",
          "2012-05-01T00:00:00",
          "2012-06-01T00:00:00",
          "2012-07-01T00:00:00",
          "2012-08-01T00:00:00",
          "2012-09-01T00:00:00",
          "2012-10-01T00:00:00",
          "2012-11-01T00:00:00",
          "2012-12-01T00:00:00",
          "2013-01-01T00:00:00",
          "2013-02-01T00:00:00",
          "2013-03-01T00:00:00",
          "2013-04-01T00:00:00",
          "2013-05-01T00:00:00",
          "2013-06-01T00:00:00",
          "2013-07-01T00:00:00",
          "2013-08-01T00:00:00",
          "2013-09-01T00:00:00",
          "2013-10-01T00:00:00",
          "2013-11-01T00:00:00",
          "2013-12-01T00:00:00",
          "2014-01-01T00:00:00",
          "2014-02-01T00:00:00",
          "2014-03-01T00:00:00",
          "2014-04-01T00:00:00",
          "2014-05-01T00:00:00",
          "2014-06-01T00:00:00",
          "2014-07-01T00:00:00",
          "2014-08-01T00:00:00",
          "2014-09-01T00:00:00",
          "2014-10-01T00:00:00",
          "2014-11-01T00:00:00",
          "2014-12-01T00:00:00",
          "2015-01-01T00:00:00",
          "2015-02-01T00:00:00",
          "2015-03-01T00:00:00",
          "2015-04-01T00:00:00",
          "2015-05-01T00:00:00",
          "2015-06-01T00:00:00",
          "2015-07-01T00:00:00",
          "2015-08-01T00:00:00",
          "2015-09-01T00:00:00",
          "2015-10-01T00:00:00",
          "2015-11-01T00:00:00",
          "2015-12-01T00:00:00",
          "2016-01-01T00:00:00",
          "2016-02-01T00:00:00",
          "2016-03-01T00:00:00",
          "2016-04-01T00:00:00",
          "2016-05-01T00:00:00",
          "2016-06-01T00:00:00",
          "2016-07-01T00:00:00",
          "2016-08-01T00:00:00",
          "2016-09-01T00:00:00",
          "2016-10-01T00:00:00",
          "2016-11-01T00:00:00",
          "2016-12-01T00:00:00",
          "2017-01-01T00:00:00",
          "2017-02-01T00:00:00",
          "2017-03-01T00:00:00",
          "2017-04-01T00:00:00",
          "2017-05-01T00:00:00",
          "2017-06-01T00:00:00",
          "2017-07-01T00:00:00",
          "2017-08-01T00:00:00",
          "2017-09-01T00:00:00",
          "2017-10-01T00:00:00",
          "2017-11-01T00:00:00",
          "2017-12-01T00:00:00",
          "2018-01-01T00:00:00",
          "2018-02-01T00:00:00",
          "2018-03-01T00:00:00",
          "2018-04-01T00:00:00",
          "2018-05-01T00:00:00",
          "2018-06-01T00:00:00",
          "2018-07-01T00:00:00",
          "2018-08-01T00:00:00",
          "2018-09-01T00:00:00",
          "2018-10-01T00:00:00",
          "2018-11-01T00:00:00",
          "2018-12-01T00:00:00",
          "2019-01-01T00:00:00",
          "2019-02-01T00:00:00",
          "2019-03-01T00:00:00",
          "2019-04-01T00:00:00",
          "2019-05-01T00:00:00",
          "2019-06-01T00:00:00",
          "2019-07-01T00:00:00",
          "2019-08-01T00:00:00",
          "2019-09-01T00:00:00",
          "2019-10-01T00:00:00",
          "2019-11-01T00:00:00",
          "2019-12-01T00:00:00",
          "2020-01-01T00:00:00",
          "2020-02-01T00:00:00",
          "2020-03-01T00:00:00",
          "2020-04-01T00:00:00",
          "2020-05-01T00:00:00",
          "2020-06-01T00:00:00",
          "2020-07-01T00:00:00",
          "2020-08-01T00:00:00",
          "2020-09-01T00:00:00",
          "2020-10-01T00:00:00",
          "2020-11-01T00:00:00",
          "2020-12-01T00:00:00",
          "2021-01-01T00:00:00",
          "2021-02-01T00:00:00",
          "2021-03-01T00:00:00",
          "2021-04-01T00:00:00",
          "2021-05-01T00:00:00",
          "2021-06-01T00:00:00",
          "2021-07-01T00:00:00",
          "2021-08-01T00:00:00",
          "2021-09-01T00:00:00",
          "2021-10-01T00:00:00",
          "2021-11-01T00:00:00",
          "2021-12-01T00:00:00",
          "2022-01-01T00:00:00",
          "2022-02-01T00:00:00",
          "2022-03-01T00:00:00",
          "2022-04-01T00:00:00",
          "2022-05-01T00:00:00",
          "2022-06-01T00:00:00",
          "2022-07-01T00:00:00",
          "2022-08-01T00:00:00",
          "2022-09-01T00:00:00",
          "2022-10-01T00:00:00",
          "2022-11-01T00:00:00",
          "2022-12-01T00:00:00",
          "2023-01-01T00:00:00",
          "2023-02-01T00:00:00",
          "2023-03-01T00:00:00",
          "2023-04-01T00:00:00",
          "2023-05-01T00:00:00",
          "2023-06-01T00:00:00",
          "2023-07-01T00:00:00",
          "2023-08-01T00:00:00",
          "2023-09-01T00:00:00",
          "2023-10-01T00:00:00",
          "2023-11-01T00:00:00",
          "2023-12-01T00:00:00"
         ],
         "xaxis": "x",
         "y": [
          14,
          9,
          19,
          15,
          19,
          19,
          16,
          7,
          14,
          20,
          15,
          10,
          14,
          9,
          13,
          17,
          13,
          25,
          16,
          14,
          12,
          15,
          12,
          16,
          15,
          12,
          12,
          11,
          14,
          12,
          14,
          9,
          8,
          18,
          12,
          9,
          9,
          13,
          9,
          17,
          6,
          18,
          10,
          13,
          15,
          20,
          12,
          16,
          12,
          12,
          13,
          10,
          13,
          10,
          14,
          18,
          16,
          21,
          10,
          10,
          16,
          19,
          11,
          14,
          15,
          25,
          24,
          15,
          26,
          14,
          24,
          14,
          24,
          19,
          16,
          8,
          17,
          29,
          20,
          19,
          20,
          20,
          29,
          16,
          9,
          11,
          17,
          21,
          14,
          26,
          26,
          22,
          16,
          20,
          22,
          21,
          17,
          13,
          12,
          15,
          14,
          13,
          15,
          10,
          19,
          23,
          19,
          9,
          13,
          7,
          6,
          7,
          13,
          18,
          23,
          14,
          17,
          22,
          13,
          13,
          19,
          17,
          16,
          17,
          18,
          19,
          12,
          13,
          12,
          16,
          24,
          22,
          18,
          14,
          15,
          13,
          18,
          23,
          17,
          13,
          19,
          9,
          18,
          14,
          13,
          10,
          16,
          15,
          14,
          16,
          16,
          16,
          17,
          14,
          20,
          16
         ],
         "yaxis": "y"
        },
        {
         "customdata": [
          [
           "Andere",
           2330
          ],
          [
           "Andere",
           2330
          ],
          [
           "Andere",
           2330
          ],
          [
           "Andere",
           2330
          ],
          [
           "Andere",
           2330
          ],
          [
           "Andere",
           2330
          ],
          [
           "Andere",
           2330
          ],
          [
           "Andere",
           2330
          ],
          [
           "Andere",
           2330
          ],
          [
           "Andere",
           2330
          ],
          [
           "Andere",
           2330
          ],
          [
           "Andere",
           2330
          ],
          [
           "Andere",
           2330
          ],
          [
           "Andere",
           2330
          ],
          [
           "Andere",
           2330
          ],
          [
           "Andere",
           2330
          ],
          [
           "Andere",
           2330
          ],
          [
           "Andere",
           2330
          ],
          [
           "Andere",
           2330
          ],
          [
           "Andere",
           2330
          ],
          [
           "Andere",
           2330
          ],
          [
           "Andere",
           2330
          ],
          [
           "Andere",
           2330
          ],
          [
           "Andere",
           2330
          ],
          [
           "Andere",
           2330
          ],
          [
           "Andere",
           2330
          ],
          [
           "Andere",
           2330
          ],
          [
           "Andere",
           2330
          ],
          [
           "Andere",
           2330
          ],
          [
           "Andere",
           2330
          ],
          [
           "Andere",
           2330
          ],
          [
           "Andere",
           2330
          ],
          [
           "Andere",
           2330
          ],
          [
           "Andere",
           2330
          ],
          [
           "Andere",
           2330
          ],
          [
           "Andere",
           2330
          ],
          [
           "Andere",
           2330
          ],
          [
           "Andere",
           2330
          ],
          [
           "Andere",
           2330
          ],
          [
           "Andere",
           2330
          ],
          [
           "Andere",
           2330
          ],
          [
           "Andere",
           2330
          ],
          [
           "Andere",
           2330
          ],
          [
           "Andere",
           2330
          ],
          [
           "Andere",
           2330
          ],
          [
           "Andere",
           2330
          ],
          [
           "Andere",
           2330
          ],
          [
           "Andere",
           2330
          ],
          [
           "Andere",
           2330
          ],
          [
           "Andere",
           2330
          ],
          [
           "Andere",
           2330
          ],
          [
           "Andere",
           2330
          ],
          [
           "Andere",
           2330
          ],
          [
           "Andere",
           2330
          ],
          [
           "Andere",
           2330
          ],
          [
           "Andere",
           2330
          ],
          [
           "Andere",
           2330
          ],
          [
           "Andere",
           2330
          ],
          [
           "Andere",
           2330
          ],
          [
           "Andere",
           2330
          ],
          [
           "Andere",
           2330
          ],
          [
           "Andere",
           2330
          ],
          [
           "Andere",
           2330
          ],
          [
           "Andere",
           2330
          ],
          [
           "Andere",
           2330
          ],
          [
           "Andere",
           2330
          ],
          [
           "Andere",
           2330
          ],
          [
           "Andere",
           2330
          ],
          [
           "Andere",
           2330
          ],
          [
           "Andere",
           2330
          ],
          [
           "Andere",
           2330
          ],
          [
           "Andere",
           2330
          ],
          [
           "Andere",
           2330
          ],
          [
           "Andere",
           2330
          ],
          [
           "Andere",
           2330
          ],
          [
           "Andere",
           2330
          ],
          [
           "Andere",
           2330
          ],
          [
           "Andere",
           2330
          ],
          [
           "Andere",
           2330
          ],
          [
           "Andere",
           2330
          ],
          [
           "Andere",
           2330
          ],
          [
           "Andere",
           2330
          ],
          [
           "Andere",
           2330
          ],
          [
           "Andere",
           2330
          ],
          [
           "Andere",
           2330
          ],
          [
           "Andere",
           2330
          ],
          [
           "Andere",
           2330
          ],
          [
           "Andere",
           2330
          ],
          [
           "Andere",
           2330
          ],
          [
           "Andere",
           2330
          ],
          [
           "Andere",
           2330
          ],
          [
           "Andere",
           2330
          ],
          [
           "Andere",
           2330
          ],
          [
           "Andere",
           2330
          ],
          [
           "Andere",
           2330
          ],
          [
           "Andere",
           2330
          ],
          [
           "Andere",
           2330
          ],
          [
           "Andere",
           2330
          ],
          [
           "Andere",
           2330
          ],
          [
           "Andere",
           2330
          ],
          [
           "Andere",
           2330
          ],
          [
           "Andere",
           2330
          ],
          [
           "Andere",
           2330
          ],
          [
           "Andere",
           2330
          ],
          [
           "Andere",
           2330
          ],
          [
           "Andere",
           2330
          ],
          [
           "Andere",
           2330
          ],
          [
           "Andere",
           2330
          ],
          [
           "Andere",
           2330
          ],
          [
           "Andere",
           2330
          ],
          [
           "Andere",
           2330
          ],
          [
           "Andere",
           2330
          ],
          [
           "Andere",
           2330
          ],
          [
           "Andere",
           2330
          ],
          [
           "Andere",
           2330
          ],
          [
           "Andere",
           2330
          ],
          [
           "Andere",
           2330
          ],
          [
           "Andere",
           2330
          ],
          [
           "Andere",
           2330
          ],
          [
           "Andere",
           2330
          ],
          [
           "Andere",
           2330
          ],
          [
           "Andere",
           2330
          ],
          [
           "Andere",
           2330
          ],
          [
           "Andere",
           2330
          ],
          [
           "Andere",
           2330
          ],
          [
           "Andere",
           2330
          ],
          [
           "Andere",
           2330
          ],
          [
           "Andere",
           2330
          ],
          [
           "Andere",
           2330
          ],
          [
           "Andere",
           2330
          ],
          [
           "Andere",
           2330
          ],
          [
           "Andere",
           2330
          ],
          [
           "Andere",
           2330
          ],
          [
           "Andere",
           2330
          ],
          [
           "Andere",
           2330
          ],
          [
           "Andere",
           2330
          ],
          [
           "Andere",
           2330
          ],
          [
           "Andere",
           2330
          ],
          [
           "Andere",
           2330
          ],
          [
           "Andere",
           2330
          ],
          [
           "Andere",
           2330
          ],
          [
           "Andere",
           2330
          ],
          [
           "Andere",
           2330
          ],
          [
           "Andere",
           2330
          ],
          [
           "Andere",
           2330
          ],
          [
           "Andere",
           2330
          ],
          [
           "Andere",
           2330
          ],
          [
           "Andere",
           2330
          ],
          [
           "Andere",
           2330
          ],
          [
           "Andere",
           2330
          ],
          [
           "Andere",
           2330
          ],
          [
           "Andere",
           2330
          ],
          [
           "Andere",
           2330
          ],
          [
           "Andere",
           2330
          ],
          [
           "Andere",
           2330
          ],
          [
           "Andere",
           2330
          ]
         ],
         "fillpattern": {
          "shape": ""
         },
         "hoverlabel": {
          "bgcolor": "#1f77b4",
          "bordercolor": "black",
          "font": {
           "color": "black",
           "family": "Arial",
           "size": 12
          }
         },
         "hovertemplate": "AccidentType_de=%{customdata[0]}<br>Jahr=%{x}<br>Anzahl der Unfälle=%{y}<br>GesamtUnfälle=%{customdata[1]}<extra></extra>",
         "legendgroup": "Andere",
         "line": {
          "color": "#1f77b4",
          "dash": "solid",
          "shape": "spline",
          "width": 1
         },
         "marker": {
          "symbol": "circle"
         },
         "mode": "lines",
         "name": "Andere",
         "opacity": 0.6,
         "orientation": "v",
         "showlegend": true,
         "stackgroup": "1",
         "type": "scatter",
         "x": [
          "2011-01-01T00:00:00",
          "2011-02-01T00:00:00",
          "2011-03-01T00:00:00",
          "2011-04-01T00:00:00",
          "2011-05-01T00:00:00",
          "2011-06-01T00:00:00",
          "2011-07-01T00:00:00",
          "2011-08-01T00:00:00",
          "2011-09-01T00:00:00",
          "2011-10-01T00:00:00",
          "2011-11-01T00:00:00",
          "2011-12-01T00:00:00",
          "2012-01-01T00:00:00",
          "2012-02-01T00:00:00",
          "2012-03-01T00:00:00",
          "2012-04-01T00:00:00",
          "2012-05-01T00:00:00",
          "2012-06-01T00:00:00",
          "2012-07-01T00:00:00",
          "2012-08-01T00:00:00",
          "2012-09-01T00:00:00",
          "2012-10-01T00:00:00",
          "2012-11-01T00:00:00",
          "2012-12-01T00:00:00",
          "2013-01-01T00:00:00",
          "2013-02-01T00:00:00",
          "2013-03-01T00:00:00",
          "2013-04-01T00:00:00",
          "2013-05-01T00:00:00",
          "2013-06-01T00:00:00",
          "2013-07-01T00:00:00",
          "2013-08-01T00:00:00",
          "2013-09-01T00:00:00",
          "2013-10-01T00:00:00",
          "2013-11-01T00:00:00",
          "2013-12-01T00:00:00",
          "2014-01-01T00:00:00",
          "2014-02-01T00:00:00",
          "2014-03-01T00:00:00",
          "2014-04-01T00:00:00",
          "2014-05-01T00:00:00",
          "2014-06-01T00:00:00",
          "2014-07-01T00:00:00",
          "2014-08-01T00:00:00",
          "2014-09-01T00:00:00",
          "2014-10-01T00:00:00",
          "2014-11-01T00:00:00",
          "2014-12-01T00:00:00",
          "2015-01-01T00:00:00",
          "2015-02-01T00:00:00",
          "2015-03-01T00:00:00",
          "2015-04-01T00:00:00",
          "2015-05-01T00:00:00",
          "2015-06-01T00:00:00",
          "2015-07-01T00:00:00",
          "2015-08-01T00:00:00",
          "2015-09-01T00:00:00",
          "2015-10-01T00:00:00",
          "2015-11-01T00:00:00",
          "2015-12-01T00:00:00",
          "2016-01-01T00:00:00",
          "2016-02-01T00:00:00",
          "2016-03-01T00:00:00",
          "2016-04-01T00:00:00",
          "2016-05-01T00:00:00",
          "2016-06-01T00:00:00",
          "2016-07-01T00:00:00",
          "2016-08-01T00:00:00",
          "2016-09-01T00:00:00",
          "2016-10-01T00:00:00",
          "2016-11-01T00:00:00",
          "2016-12-01T00:00:00",
          "2017-01-01T00:00:00",
          "2017-02-01T00:00:00",
          "2017-03-01T00:00:00",
          "2017-04-01T00:00:00",
          "2017-05-01T00:00:00",
          "2017-06-01T00:00:00",
          "2017-07-01T00:00:00",
          "2017-08-01T00:00:00",
          "2017-09-01T00:00:00",
          "2017-10-01T00:00:00",
          "2017-11-01T00:00:00",
          "2017-12-01T00:00:00",
          "2018-01-01T00:00:00",
          "2018-02-01T00:00:00",
          "2018-03-01T00:00:00",
          "2018-04-01T00:00:00",
          "2018-05-01T00:00:00",
          "2018-06-01T00:00:00",
          "2018-07-01T00:00:00",
          "2018-08-01T00:00:00",
          "2018-09-01T00:00:00",
          "2018-10-01T00:00:00",
          "2018-11-01T00:00:00",
          "2018-12-01T00:00:00",
          "2019-01-01T00:00:00",
          "2019-02-01T00:00:00",
          "2019-03-01T00:00:00",
          "2019-04-01T00:00:00",
          "2019-05-01T00:00:00",
          "2019-06-01T00:00:00",
          "2019-07-01T00:00:00",
          "2019-08-01T00:00:00",
          "2019-09-01T00:00:00",
          "2019-10-01T00:00:00",
          "2019-11-01T00:00:00",
          "2019-12-01T00:00:00",
          "2020-01-01T00:00:00",
          "2020-02-01T00:00:00",
          "2020-03-01T00:00:00",
          "2020-04-01T00:00:00",
          "2020-05-01T00:00:00",
          "2020-06-01T00:00:00",
          "2020-07-01T00:00:00",
          "2020-08-01T00:00:00",
          "2020-09-01T00:00:00",
          "2020-10-01T00:00:00",
          "2020-11-01T00:00:00",
          "2020-12-01T00:00:00",
          "2021-01-01T00:00:00",
          "2021-02-01T00:00:00",
          "2021-03-01T00:00:00",
          "2021-04-01T00:00:00",
          "2021-05-01T00:00:00",
          "2021-06-01T00:00:00",
          "2021-07-01T00:00:00",
          "2021-08-01T00:00:00",
          "2021-09-01T00:00:00",
          "2021-10-01T00:00:00",
          "2021-11-01T00:00:00",
          "2021-12-01T00:00:00",
          "2022-01-01T00:00:00",
          "2022-02-01T00:00:00",
          "2022-03-01T00:00:00",
          "2022-04-01T00:00:00",
          "2022-05-01T00:00:00",
          "2022-06-01T00:00:00",
          "2022-07-01T00:00:00",
          "2022-08-01T00:00:00",
          "2022-09-01T00:00:00",
          "2022-10-01T00:00:00",
          "2022-11-01T00:00:00",
          "2022-12-01T00:00:00",
          "2023-01-01T00:00:00",
          "2023-02-01T00:00:00",
          "2023-03-01T00:00:00",
          "2023-04-01T00:00:00",
          "2023-05-01T00:00:00",
          "2023-06-01T00:00:00",
          "2023-07-01T00:00:00",
          "2023-08-01T00:00:00",
          "2023-09-01T00:00:00",
          "2023-10-01T00:00:00",
          "2023-11-01T00:00:00",
          "2023-12-01T00:00:00"
         ],
         "xaxis": "x",
         "y": [
          12,
          14,
          13,
          17,
          18,
          14,
          15,
          9,
          21,
          8,
          18,
          9,
          19,
          5,
          16,
          17,
          19,
          19,
          11,
          18,
          13,
          11,
          13,
          11,
          16,
          12,
          17,
          9,
          22,
          19,
          8,
          17,
          9,
          12,
          19,
          17,
          20,
          10,
          10,
          15,
          18,
          14,
          12,
          17,
          15,
          13,
          16,
          14,
          14,
          13,
          20,
          12,
          14,
          23,
          10,
          20,
          9,
          17,
          18,
          9,
          14,
          17,
          13,
          12,
          16,
          13,
          23,
          11,
          19,
          14,
          12,
          17,
          14,
          14,
          13,
          13,
          12,
          15,
          16,
          18,
          10,
          11,
          12,
          9,
          13,
          13,
          11,
          10,
          10,
          11,
          11,
          7,
          8,
          16,
          15,
          13,
          10,
          12,
          10,
          13,
          7,
          13,
          15,
          7,
          22,
          23,
          20,
          12,
          18,
          32,
          10,
          12,
          14,
          15,
          22,
          24,
          30,
          23,
          18,
          27,
          30,
          13,
          22,
          8,
          18,
          14,
          16,
          15,
          14,
          16,
          16,
          15,
          18,
          10,
          18,
          8,
          18,
          16,
          21,
          19,
          22,
          18,
          11,
          10,
          11,
          13,
          13,
          17,
          16,
          16,
          15,
          19,
          22,
          12,
          18,
          17
         ],
         "yaxis": "y"
        }
       ],
       "layout": {
        "hoverlabel": {
         "align": "auto",
         "bgcolor": "rgba(255, 255, 255, 0.8)",
         "bordercolor": "black",
         "font": {
          "color": "black",
          "family": "Arial",
          "size": 12
         }
        },
        "legend": {
         "title": {
          "text": "Unfalltyp"
         },
         "tracegroupgap": 0
        },
        "template": {
         "data": {
          "bar": [
           {
            "error_x": {
             "color": "#2a3f5f"
            },
            "error_y": {
             "color": "#2a3f5f"
            },
            "marker": {
             "line": {
              "color": "#E5ECF6",
              "width": 0.5
             },
             "pattern": {
              "fillmode": "overlay",
              "size": 10,
              "solidity": 0.2
             }
            },
            "type": "bar"
           }
          ],
          "barpolar": [
           {
            "marker": {
             "line": {
              "color": "#E5ECF6",
              "width": 0.5
             },
             "pattern": {
              "fillmode": "overlay",
              "size": 10,
              "solidity": 0.2
             }
            },
            "type": "barpolar"
           }
          ],
          "carpet": [
           {
            "aaxis": {
             "endlinecolor": "#2a3f5f",
             "gridcolor": "white",
             "linecolor": "white",
             "minorgridcolor": "white",
             "startlinecolor": "#2a3f5f"
            },
            "baxis": {
             "endlinecolor": "#2a3f5f",
             "gridcolor": "white",
             "linecolor": "white",
             "minorgridcolor": "white",
             "startlinecolor": "#2a3f5f"
            },
            "type": "carpet"
           }
          ],
          "choropleth": [
           {
            "colorbar": {
             "outlinewidth": 0,
             "ticks": ""
            },
            "type": "choropleth"
           }
          ],
          "contour": [
           {
            "colorbar": {
             "outlinewidth": 0,
             "ticks": ""
            },
            "colorscale": [
             [
              0,
              "#0d0887"
             ],
             [
              0.1111111111111111,
              "#46039f"
             ],
             [
              0.2222222222222222,
              "#7201a8"
             ],
             [
              0.3333333333333333,
              "#9c179e"
             ],
             [
              0.4444444444444444,
              "#bd3786"
             ],
             [
              0.5555555555555556,
              "#d8576b"
             ],
             [
              0.6666666666666666,
              "#ed7953"
             ],
             [
              0.7777777777777778,
              "#fb9f3a"
             ],
             [
              0.8888888888888888,
              "#fdca26"
             ],
             [
              1,
              "#f0f921"
             ]
            ],
            "type": "contour"
           }
          ],
          "contourcarpet": [
           {
            "colorbar": {
             "outlinewidth": 0,
             "ticks": ""
            },
            "type": "contourcarpet"
           }
          ],
          "heatmap": [
           {
            "colorbar": {
             "outlinewidth": 0,
             "ticks": ""
            },
            "colorscale": [
             [
              0,
              "#0d0887"
             ],
             [
              0.1111111111111111,
              "#46039f"
             ],
             [
              0.2222222222222222,
              "#7201a8"
             ],
             [
              0.3333333333333333,
              "#9c179e"
             ],
             [
              0.4444444444444444,
              "#bd3786"
             ],
             [
              0.5555555555555556,
              "#d8576b"
             ],
             [
              0.6666666666666666,
              "#ed7953"
             ],
             [
              0.7777777777777778,
              "#fb9f3a"
             ],
             [
              0.8888888888888888,
              "#fdca26"
             ],
             [
              1,
              "#f0f921"
             ]
            ],
            "type": "heatmap"
           }
          ],
          "heatmapgl": [
           {
            "colorbar": {
             "outlinewidth": 0,
             "ticks": ""
            },
            "colorscale": [
             [
              0,
              "#0d0887"
             ],
             [
              0.1111111111111111,
              "#46039f"
             ],
             [
              0.2222222222222222,
              "#7201a8"
             ],
             [
              0.3333333333333333,
              "#9c179e"
             ],
             [
              0.4444444444444444,
              "#bd3786"
             ],
             [
              0.5555555555555556,
              "#d8576b"
             ],
             [
              0.6666666666666666,
              "#ed7953"
             ],
             [
              0.7777777777777778,
              "#fb9f3a"
             ],
             [
              0.8888888888888888,
              "#fdca26"
             ],
             [
              1,
              "#f0f921"
             ]
            ],
            "type": "heatmapgl"
           }
          ],
          "histogram": [
           {
            "marker": {
             "pattern": {
              "fillmode": "overlay",
              "size": 10,
              "solidity": 0.2
             }
            },
            "type": "histogram"
           }
          ],
          "histogram2d": [
           {
            "colorbar": {
             "outlinewidth": 0,
             "ticks": ""
            },
            "colorscale": [
             [
              0,
              "#0d0887"
             ],
             [
              0.1111111111111111,
              "#46039f"
             ],
             [
              0.2222222222222222,
              "#7201a8"
             ],
             [
              0.3333333333333333,
              "#9c179e"
             ],
             [
              0.4444444444444444,
              "#bd3786"
             ],
             [
              0.5555555555555556,
              "#d8576b"
             ],
             [
              0.6666666666666666,
              "#ed7953"
             ],
             [
              0.7777777777777778,
              "#fb9f3a"
             ],
             [
              0.8888888888888888,
              "#fdca26"
             ],
             [
              1,
              "#f0f921"
             ]
            ],
            "type": "histogram2d"
           }
          ],
          "histogram2dcontour": [
           {
            "colorbar": {
             "outlinewidth": 0,
             "ticks": ""
            },
            "colorscale": [
             [
              0,
              "#0d0887"
             ],
             [
              0.1111111111111111,
              "#46039f"
             ],
             [
              0.2222222222222222,
              "#7201a8"
             ],
             [
              0.3333333333333333,
              "#9c179e"
             ],
             [
              0.4444444444444444,
              "#bd3786"
             ],
             [
              0.5555555555555556,
              "#d8576b"
             ],
             [
              0.6666666666666666,
              "#ed7953"
             ],
             [
              0.7777777777777778,
              "#fb9f3a"
             ],
             [
              0.8888888888888888,
              "#fdca26"
             ],
             [
              1,
              "#f0f921"
             ]
            ],
            "type": "histogram2dcontour"
           }
          ],
          "mesh3d": [
           {
            "colorbar": {
             "outlinewidth": 0,
             "ticks": ""
            },
            "type": "mesh3d"
           }
          ],
          "parcoords": [
           {
            "line": {
             "colorbar": {
              "outlinewidth": 0,
              "ticks": ""
             }
            },
            "type": "parcoords"
           }
          ],
          "pie": [
           {
            "automargin": true,
            "type": "pie"
           }
          ],
          "scatter": [
           {
            "fillpattern": {
             "fillmode": "overlay",
             "size": 10,
             "solidity": 0.2
            },
            "type": "scatter"
           }
          ],
          "scatter3d": [
           {
            "line": {
             "colorbar": {
              "outlinewidth": 0,
              "ticks": ""
             }
            },
            "marker": {
             "colorbar": {
              "outlinewidth": 0,
              "ticks": ""
             }
            },
            "type": "scatter3d"
           }
          ],
          "scattercarpet": [
           {
            "marker": {
             "colorbar": {
              "outlinewidth": 0,
              "ticks": ""
             }
            },
            "type": "scattercarpet"
           }
          ],
          "scattergeo": [
           {
            "marker": {
             "colorbar": {
              "outlinewidth": 0,
              "ticks": ""
             }
            },
            "type": "scattergeo"
           }
          ],
          "scattergl": [
           {
            "marker": {
             "colorbar": {
              "outlinewidth": 0,
              "ticks": ""
             }
            },
            "type": "scattergl"
           }
          ],
          "scattermapbox": [
           {
            "marker": {
             "colorbar": {
              "outlinewidth": 0,
              "ticks": ""
             }
            },
            "type": "scattermapbox"
           }
          ],
          "scatterpolar": [
           {
            "marker": {
             "colorbar": {
              "outlinewidth": 0,
              "ticks": ""
             }
            },
            "type": "scatterpolar"
           }
          ],
          "scatterpolargl": [
           {
            "marker": {
             "colorbar": {
              "outlinewidth": 0,
              "ticks": ""
             }
            },
            "type": "scatterpolargl"
           }
          ],
          "scatterternary": [
           {
            "marker": {
             "colorbar": {
              "outlinewidth": 0,
              "ticks": ""
             }
            },
            "type": "scatterternary"
           }
          ],
          "surface": [
           {
            "colorbar": {
             "outlinewidth": 0,
             "ticks": ""
            },
            "colorscale": [
             [
              0,
              "#0d0887"
             ],
             [
              0.1111111111111111,
              "#46039f"
             ],
             [
              0.2222222222222222,
              "#7201a8"
             ],
             [
              0.3333333333333333,
              "#9c179e"
             ],
             [
              0.4444444444444444,
              "#bd3786"
             ],
             [
              0.5555555555555556,
              "#d8576b"
             ],
             [
              0.6666666666666666,
              "#ed7953"
             ],
             [
              0.7777777777777778,
              "#fb9f3a"
             ],
             [
              0.8888888888888888,
              "#fdca26"
             ],
             [
              1,
              "#f0f921"
             ]
            ],
            "type": "surface"
           }
          ],
          "table": [
           {
            "cells": {
             "fill": {
              "color": "#EBF0F8"
             },
             "line": {
              "color": "white"
             }
            },
            "header": {
             "fill": {
              "color": "#C8D4E3"
             },
             "line": {
              "color": "white"
             }
            },
            "type": "table"
           }
          ]
         },
         "layout": {
          "annotationdefaults": {
           "arrowcolor": "#2a3f5f",
           "arrowhead": 0,
           "arrowwidth": 1
          },
          "autotypenumbers": "strict",
          "coloraxis": {
           "colorbar": {
            "outlinewidth": 0,
            "ticks": ""
           }
          },
          "colorscale": {
           "diverging": [
            [
             0,
             "#8e0152"
            ],
            [
             0.1,
             "#c51b7d"
            ],
            [
             0.2,
             "#de77ae"
            ],
            [
             0.3,
             "#f1b6da"
            ],
            [
             0.4,
             "#fde0ef"
            ],
            [
             0.5,
             "#f7f7f7"
            ],
            [
             0.6,
             "#e6f5d0"
            ],
            [
             0.7,
             "#b8e186"
            ],
            [
             0.8,
             "#7fbc41"
            ],
            [
             0.9,
             "#4d9221"
            ],
            [
             1,
             "#276419"
            ]
           ],
           "sequential": [
            [
             0,
             "#0d0887"
            ],
            [
             0.1111111111111111,
             "#46039f"
            ],
            [
             0.2222222222222222,
             "#7201a8"
            ],
            [
             0.3333333333333333,
             "#9c179e"
            ],
            [
             0.4444444444444444,
             "#bd3786"
            ],
            [
             0.5555555555555556,
             "#d8576b"
            ],
            [
             0.6666666666666666,
             "#ed7953"
            ],
            [
             0.7777777777777778,
             "#fb9f3a"
            ],
            [
             0.8888888888888888,
             "#fdca26"
            ],
            [
             1,
             "#f0f921"
            ]
           ],
           "sequentialminus": [
            [
             0,
             "#0d0887"
            ],
            [
             0.1111111111111111,
             "#46039f"
            ],
            [
             0.2222222222222222,
             "#7201a8"
            ],
            [
             0.3333333333333333,
             "#9c179e"
            ],
            [
             0.4444444444444444,
             "#bd3786"
            ],
            [
             0.5555555555555556,
             "#d8576b"
            ],
            [
             0.6666666666666666,
             "#ed7953"
            ],
            [
             0.7777777777777778,
             "#fb9f3a"
            ],
            [
             0.8888888888888888,
             "#fdca26"
            ],
            [
             1,
             "#f0f921"
            ]
           ]
          },
          "colorway": [
           "#636efa",
           "#EF553B",
           "#00cc96",
           "#ab63fa",
           "#FFA15A",
           "#19d3f3",
           "#FF6692",
           "#B6E880",
           "#FF97FF",
           "#FECB52"
          ],
          "font": {
           "color": "#2a3f5f"
          },
          "geo": {
           "bgcolor": "white",
           "lakecolor": "white",
           "landcolor": "#E5ECF6",
           "showlakes": true,
           "showland": true,
           "subunitcolor": "white"
          },
          "hoverlabel": {
           "align": "left"
          },
          "hovermode": "closest",
          "mapbox": {
           "style": "light"
          },
          "paper_bgcolor": "white",
          "plot_bgcolor": "#E5ECF6",
          "polar": {
           "angularaxis": {
            "gridcolor": "white",
            "linecolor": "white",
            "ticks": ""
           },
           "bgcolor": "#E5ECF6",
           "radialaxis": {
            "gridcolor": "white",
            "linecolor": "white",
            "ticks": ""
           }
          },
          "scene": {
           "xaxis": {
            "backgroundcolor": "#E5ECF6",
            "gridcolor": "white",
            "gridwidth": 2,
            "linecolor": "white",
            "showbackground": true,
            "ticks": "",
            "zerolinecolor": "white"
           },
           "yaxis": {
            "backgroundcolor": "#E5ECF6",
            "gridcolor": "white",
            "gridwidth": 2,
            "linecolor": "white",
            "showbackground": true,
            "ticks": "",
            "zerolinecolor": "white"
           },
           "zaxis": {
            "backgroundcolor": "#E5ECF6",
            "gridcolor": "white",
            "gridwidth": 2,
            "linecolor": "white",
            "showbackground": true,
            "ticks": "",
            "zerolinecolor": "white"
           }
          },
          "shapedefaults": {
           "line": {
            "color": "#2a3f5f"
           }
          },
          "ternary": {
           "aaxis": {
            "gridcolor": "white",
            "linecolor": "white",
            "ticks": ""
           },
           "baxis": {
            "gridcolor": "white",
            "linecolor": "white",
            "ticks": ""
           },
           "bgcolor": "#E5ECF6",
           "caxis": {
            "gridcolor": "white",
            "linecolor": "white",
            "ticks": ""
           }
          },
          "title": {
           "x": 0.05
          },
          "xaxis": {
           "automargin": true,
           "gridcolor": "white",
           "linecolor": "white",
           "ticks": "",
           "title": {
            "standoff": 15
           },
           "zerolinecolor": "white",
           "zerolinewidth": 2
          },
          "yaxis": {
           "automargin": true,
           "gridcolor": "white",
           "linecolor": "white",
           "ticks": "",
           "title": {
            "standoff": 15
           },
           "zerolinecolor": "white",
           "zerolinewidth": 2
          }
         }
        },
        "title": {
         "text": "Verkehrsunfälle nach Jahr und Unfalltyp"
        },
        "xaxis": {
         "anchor": "y",
         "domain": [
          0,
          1
         ],
         "title": {
          "text": "Jahr"
         }
        },
        "yaxis": {
         "anchor": "x",
         "domain": [
          0,
          1
         ],
         "title": {
          "text": "Anzahl der Unfälle"
         }
        }
       }
      }
     },
     "metadata": {},
     "output_type": "display_data"
    }
   ],
   "source": [
    "import pandas as pd\n",
    "import plotly.express as px\n",
    "\n",
    "# Daten laden\n",
    "df = pd.read_csv('Data/DatenVerkehrsunfälle.csv', sep=',', encoding='utf-8')\n",
    "\n",
    "# Kombiniere Jahr und Monat in ein Datum\n",
    "df['AccidentYearMonth'] = pd.to_datetime(\n",
    "    df['AccidentYear'].astype(str) + '-' + df['AccidentMonth'].astype(str) + '-01'\n",
    ")\n",
    "\n",
    "# Daten gruppieren und nach Jahr/Monat und Unfalltyp zählen\n",
    "df_grouped = df.groupby([df['AccidentYearMonth'], 'AccidentType_de']).size().reset_index(name='Unfälle')\n",
    "\n",
    "# Gesamtzahl der Unfälle für jeden Unfalltyp berechnen\n",
    "total_accidents = df.groupby('AccidentType_de').size().reset_index(name='GesamtUnfälle')\n",
    "\n",
    "# Verbinde die Gesamtunfallzahlen mit den gruppierten Daten\n",
    "df_grouped = df_grouped.merge(total_accidents, on='AccidentType_de', how='left')\n",
    "\n",
    "# Daten sortieren: nach Jahr und Monat und danach nach der Häufigkeit der Unfalltypen\n",
    "df_grouped = df_grouped.sort_values(by=['AccidentYearMonth', 'Unfälle'], ascending=[True, False])\n",
    "\n",
    "# Unfalltypen nach Häufigkeit sortieren\n",
    "sorted_columns = df_grouped.groupby('AccidentType_de')['Unfälle'].sum().sort_values(ascending=False).index\n",
    "df_grouped['AccidentType_de'] = pd.Categorical(df_grouped['AccidentType_de'], categories=sorted_columns, ordered=True)\n",
    "\n",
    "# Benutzerdefinierte Farbpalette\n",
    "custom_colors = [\n",
    "    \"#1f77b4\",  # Blau\n",
    "    \"#ff7f0e\",  # Orange\n",
    "    \"#2ca02c\",  # Grün\n",
    "    \"#d62728\",  # Rot\n",
    "    \"#9467bd\",  # Lila\n",
    "    \"#8c564b\",  # Braun\n",
    "    \"#e377c2\",  # Pink\n",
    "    \"#7f7f7f\",  # Grau\n",
    "    \"#bcbd22\",  # Gelb\n",
    "    \"#17becf\",  # Türkis\n",
    "]\n",
    "\n",
    "# Diagramm mit Plotly erstellen und benutzerdefinierte Farben verwenden\n",
    "fig = px.area(df_grouped, \n",
    "              x='AccidentYearMonth', \n",
    "              y='Unfälle', \n",
    "              color='AccidentType_de', \n",
    "              title='Verkehrsunfälle nach Jahr und Unfalltyp',\n",
    "              labels={'AccidentYearMonth': 'Jahr', 'Unfälle': 'Anzahl der Unfälle'},\n",
    "              hover_data={'AccidentYearMonth': True, 'AccidentType_de': True, 'Unfälle': True, 'GesamtUnfälle': True},  # Tooltips mit Gesamtunfällen\n",
    "              color_discrete_sequence=custom_colors)  # Benutzte Farbpalette\n",
    "\n",
    "# Linien und Ecken anpassen (abgerundete Ecken für die Flächen)\n",
    "fig.update_traces(\n",
    "    line=dict(width=1, dash='solid'),  # Dünnere Linien\n",
    "    opacity=0.6,  # Transparenz der Flächen\n",
    "    line_shape='spline'  # Für abgerundete Kanten\n",
    ")\n",
    "\n",
    "# Dynamische Tooltip-Hintergrundfarbe basierend auf dem Unfalltyp\n",
    "fig.update_traces(\n",
    "    hoverlabel=dict(\n",
    "        bgcolor=custom_colors[0],  # Hintergrundfarbe basierend auf der ersten Farbe\n",
    "        font_size=12,\n",
    "        font_family=\"Arial\",\n",
    "        font_color=\"black\",\n",
    "        bordercolor=\"black\"\n",
    "    )\n",
    ")\n",
    "\n",
    "# Tooltip-Design anpassen\n",
    "fig.update_layout(\n",
    "    hoverlabel=dict(\n",
    "        bgcolor=\"rgba(255, 255, 255, 0.8)\",  # Heller Hintergrund\n",
    "        font_size=12,\n",
    "        font_family=\"Arial\",\n",
    "        align=\"auto\",  # 'center' ersetzt durch 'auto'\n",
    "        bordercolor=\"black\",  # Schwarz für den Rand\n",
    "        font_color=\"black\"\n",
    "    ),\n",
    "    xaxis_title='Jahr',\n",
    "    yaxis_title='Anzahl der Unfälle',\n",
    "    legend_title='Unfalltyp',\n",
    "    template='plotly',\n",
    ")\n",
    "\n",
    "# Anzeige des Diagramms\n",
    "fig.show()\n"
   ]
  },
  {
   "cell_type": "code",
   "execution_count": null,
   "metadata": {},
   "outputs": [],
   "source": []
  }
 ],
 "metadata": {
  "kernelspec": {
   "display_name": "Python 3",
   "language": "python",
   "name": "python3"
  },
  "language_info": {
   "codemirror_mode": {
    "name": "ipython",
    "version": 3
   },
   "file_extension": ".py",
   "mimetype": "text/x-python",
   "name": "python",
   "nbconvert_exporter": "python",
   "pygments_lexer": "ipython3",
   "version": "3.11.9"
  }
 },
 "nbformat": 4,
 "nbformat_minor": 2
}
